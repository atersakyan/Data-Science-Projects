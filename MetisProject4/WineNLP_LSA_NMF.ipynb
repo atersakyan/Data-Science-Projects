{
 "cells": [
  {
   "cell_type": "code",
   "execution_count": 1,
   "metadata": {},
   "outputs": [],
   "source": [
    "import pandas as pd\n",
    "import numpy as np\n",
    "import matplotlib.pyplot as plt\n",
    "import seaborn as sns\n",
    "import pickle\n",
    "\n",
    "# NLP\n",
    "import re\n",
    "import string\n",
    "import nltk\n",
    "from nltk.corpus import stopwords\n",
    "from nltk.stem import PorterStemmer\n",
    "from nltk.stem.wordnet import WordNetLemmatizer\n",
    "from nltk.tokenize import sent_tokenize, word_tokenize\n",
    "from nltk.tokenize.treebank import TreebankWordDetokenizer\n",
    "from nltk.probability import FreqDist\n",
    "import gensim\n",
    "from gensim import corpora, models, similarities, matutils\n",
    "from gensim.models import LsiModel\n",
    "from gensim.models.coherencemodel import CoherenceModel\n",
    "\n",
    "from sklearn.feature_extraction.text import CountVectorizer\n",
    "from sklearn.feature_extraction.text import TfidfVectorizer\n",
    "from sklearn.decomposition import TruncatedSVD\n",
    "from sklearn.decomposition import NMF\n",
    "from sklearn.metrics.pairwise import cosine_similarity"
   ]
  },
  {
   "cell_type": "code",
   "execution_count": 145,
   "metadata": {},
   "outputs": [
    {
     "name": "stdout",
     "output_type": "stream",
     "text": [
      "ExploreAmazonDatasets.ipynb df_cleaned.pickle\r\n",
      "ExploreReviewDataset.ipynb  df_test_cleaned.pickle\r\n",
      "WineNLP_2.ipynb             lda_cv_test_lemmat_2.pickle\r\n",
      "WineNLP_Cleaning+LDA.ipynb  low_occuring_words.pickle\r\n",
      "WineNLP_LSA_NMF.ipynb       stop_words.pickle\r\n",
      "Wine_Explore.ipynb\r\n"
     ]
    }
   ],
   "source": [
    "!ls"
   ]
  },
  {
   "cell_type": "code",
   "execution_count": 146,
   "metadata": {},
   "outputs": [],
   "source": [
    "# with open('df_cleaned.pickle', 'rb') as read_file1:\n",
    "#     df = pickle.load(read_file1)"
   ]
  },
  {
   "cell_type": "code",
   "execution_count": 2,
   "metadata": {},
   "outputs": [],
   "source": [
    "with open('df_cleaned_final.pickle', 'rb') as read_file1:\n",
    "    df = pickle.load(read_file1)"
   ]
  },
  {
   "cell_type": "code",
   "execution_count": 3,
   "metadata": {},
   "outputs": [
    {
     "data": {
      "text/plain": [
       "(119988, 17)"
      ]
     },
     "execution_count": 3,
     "metadata": {},
     "output_type": "execute_result"
    }
   ],
   "source": [
    "df.shape"
   ]
  },
  {
   "cell_type": "code",
   "execution_count": 4,
   "metadata": {},
   "outputs": [],
   "source": [
    "# Load in stop_words to use here too\n",
    "with open('stop_words.pickle','rb') as read_file:\n",
    "    stop_words = pickle.load(read_file)\n",
    "\n",
    "# Load in TEST DF (smaller). Begin testing tfidf/cv on LSA NMF\n",
    "import pickle\n",
    "with open('df_test_cleaned.pickle','rb') as read_file:\n",
    "    df_test = pickle.load(read_file)"
   ]
  },
  {
   "cell_type": "markdown",
   "metadata": {},
   "source": [
    "# LSA - on smaller test df. Full df after this section\n",
    "## Testing with lemmat col + CV first\n",
    "- Basically SVD applied to language\n",
    "- Can use CV or TFIDF"
   ]
  },
  {
   "cell_type": "code",
   "execution_count": 5,
   "metadata": {},
   "outputs": [],
   "source": [
    "## 1,2 gram LSA test WITH LEMMAT\n",
    "cv_test_lemmat = CountVectorizer(ngram_range=(2,3))\n",
    "cv_test_lemmat_desc = cv_test_lemmat.fit_transform(df_test['lemmat_test'])"
   ]
  },
  {
   "cell_type": "code",
   "execution_count": null,
   "metadata": {},
   "outputs": [],
   "source": []
  },
  {
   "cell_type": "code",
   "execution_count": 6,
   "metadata": {},
   "outputs": [
    {
     "data": {
      "text/plain": [
       "(40000, 860172)"
      ]
     },
     "execution_count": 6,
     "metadata": {},
     "output_type": "execute_result"
    }
   ],
   "source": [
    "cv_test_lemmat_desc.shape"
   ]
  },
  {
   "cell_type": "code",
   "execution_count": 7,
   "metadata": {},
   "outputs": [],
   "source": [
    "# DF with docs as cols, and words as rows. Just to peak at structure. Pretty useless.\n",
    "#pd.DataFrame(cv_test_lemmat_desc.toarray(), index=df_test['lemmat_test'], columns=cv_test_lemmat.get_feature_names()).head(10)\n"
   ]
  },
  {
   "cell_type": "code",
   "execution_count": 8,
   "metadata": {},
   "outputs": [
    {
     "data": {
      "text/plain": [
       "array([0.00220864, 0.00199208, 0.00154285, 0.00100567, 0.00095834,\n",
       "       0.0008569 , 0.000832  , 0.00076034, 0.00071326, 0.00067895,\n",
       "       0.00060982, 0.00062165, 0.00060997, 0.00058301, 0.00055834,\n",
       "       0.00054789, 0.00050285, 0.00048793, 0.00048281, 0.00047519])"
      ]
     },
     "execution_count": 8,
     "metadata": {},
     "output_type": "execute_result"
    }
   ],
   "source": [
    "lsa = TruncatedSVD(20, random_state=44) # truncated because we are telling it to only keep the first n. Basically a cut-off\n",
    "doc_topic = lsa.fit_transform(cv_test_lemmat_desc)\n",
    "lsa.explained_variance_ratio_ \n",
    "# How much do these new PCs account for the variance... should sum to 1."
   ]
  },
  {
   "cell_type": "code",
   "execution_count": 9,
   "metadata": {},
   "outputs": [],
   "source": [
    "def display_topics(model, feature_names, no_top_words, topic_names=None):\n",
    "    for ix, topic in enumerate(model.components_):\n",
    "        if not topic_names or not topic_names[ix]:\n",
    "            print(\"\\nTopic \", ix)\n",
    "        else:\n",
    "            print(\"\\nTopic: '\",topic_names[ix],\"'\")\n",
    "        print(\", \".join([feature_names[i]\n",
    "                        for i in topic.argsort()[:-no_top_words - 1:-1]]))\n",
    "                            # Use argsort to see hightest features in order"
   ]
  },
  {
   "cell_type": "code",
   "execution_count": 10,
   "metadata": {},
   "outputs": [
    {
     "name": "stdout",
     "output_type": "stream",
     "text": [
      "\n",
      "Topic  0\n",
      "black cherry, cabernet sauvignon, full bodied, cabernet franc, blend cabernet\n",
      "\n",
      "Topic  1\n",
      "cabernet sauvignon, cabernet franc, blend cabernet, blend cabernet sauvignon, merlot cabernet\n",
      "\n",
      "Topic  2\n",
      "full bodied, dry full, ripe full, dry full bodied, red cherry\n",
      "\n",
      "Topic  3\n",
      "red berry, red cherry, grained tannin, fine grained, fine grained tannin\n",
      "\n",
      "Topic  4\n",
      "black currant, blackberry black, blackberry black currant, firm tannin, black plum\n",
      "\n",
      "Topic  5\n",
      "grained tannin, fine grained, fine grained tannin, black currant, firm fine\n",
      "\n",
      "Topic  6\n",
      "pinot noir, red cherry, raspberry cherry, red currant, crisp acidity\n",
      "\n",
      "Topic  7\n",
      "red cherry, black plum, baking spice, firm tannin, cabernet franc\n",
      "\n",
      "Topic  8\n",
      "cabernet franc, merlot cabernet, merlot cabernet sauvignon, blend merlot, blend merlot cabernet\n",
      "\n",
      "Topic  9\n",
      "black plum, firm tannin, ripe black, baking spice, plum berry\n",
      "\n",
      "Topic  10\n",
      "crisp acidity, sauvignon blanc, firm tannin, baking spice, bright acidity\n",
      "\n",
      "Topic  11\n",
      "baking spice, bright acidity, pinot noir, lead nose, crushed raspberry\n",
      "\n",
      "Topic  12\n",
      "firm tannin, acidity firm, acidity firm tannin, blackberry cherry, cherry raspberry\n",
      "\n",
      "Topic  13\n",
      "red currant, cherry red, cherry red currant, red plum, raspberry red\n",
      "\n",
      "Topic  14\n",
      "bright acidity, tannin bright, alongside bright, alongside bright acidity, tannin bright acidity\n",
      "\n",
      "Topic  15\n",
      "cabernet sauvignon, merlot cabernet sauvignon, blend merlot, blend merlot cabernet, blend syrah\n",
      "\n",
      "Topic  16\n",
      "sauvignon blanc, lemon lime, lime acidity, baking spice, blend sauvignon\n",
      "\n",
      "Topic  17\n",
      "ripe black, ripe black cherry, sauvignon merlot, cabernet sauvignon merlot, merlot cabernet\n",
      "\n",
      "Topic  18\n",
      "ripe black, ripe black cherry, sauvignon cabernet, cabernet sauvignon cabernet, sauvignon cabernet franc\n",
      "\n",
      "Topic  19\n",
      "lead nose, dried herb, ripe black, dried black, dried black cherry\n"
     ]
    }
   ],
   "source": [
    "display_topics(lsa, cv_test_lemmat.get_feature_names(), 5)"
   ]
  },
  {
   "cell_type": "markdown",
   "metadata": {},
   "source": [
    "# SVD LSA with TDIDF using SVD\n",
    "### NOT LSA WITHIN GENSIM-- See other doc"
   ]
  },
  {
   "cell_type": "code",
   "execution_count": 19,
   "metadata": {},
   "outputs": [],
   "source": [
    "# TFIDF\n",
    "tfidf_vectorizer = TfidfVectorizer(ngram_range=(1,4), min_df=2, max_df = .5) \n",
    "# max_df = ignore terms that appear in more than 50% of docs (doesn't change anything)\n",
    "# min_df = ignore terms that appear in less than 2 docs (REDUCES NUMB OF VECTS DRASTICALLY)\n",
    "tfidf_fit_1 = tfidf_vectorizer.fit_transform(df['lemmat_desc'])"
   ]
  },
  {
   "cell_type": "code",
   "execution_count": 20,
   "metadata": {},
   "outputs": [
    {
     "data": {
      "text/plain": [
       "(119988, 396585)"
      ]
     },
     "execution_count": 20,
     "metadata": {},
     "output_type": "execute_result"
    }
   ],
   "source": [
    "tfidf_fit_1.shape # Number of features tfidf made"
   ]
  },
  {
   "cell_type": "code",
   "execution_count": 21,
   "metadata": {},
   "outputs": [],
   "source": [
    "feat_names = tfidf_vectorizer"
   ]
  },
  {
   "cell_type": "code",
   "execution_count": 22,
   "metadata": {},
   "outputs": [
    {
     "name": "stdout",
     "output_type": "stream",
     "text": [
      "[0.00034618 0.00200525 0.00146398 0.00136427 0.00112893 0.00105568\n",
      " 0.00101781 0.00096974 0.00087408 0.00080491 0.00076755 0.00074786\n",
      " 0.00072578 0.00070727 0.00068538 0.00066503 0.00064244 0.00063204\n",
      " 0.00062374 0.0006222  0.00060237 0.00059397 0.00058699 0.00058432\n",
      " 0.00057141]\n"
     ]
    }
   ],
   "source": [
    "lsa_tfidf_1 = TruncatedSVD(25, random_state=44, n_iter=20) # truncated because we are telling it to only keep the first n. Basically a cut-off\n",
    "doc_topic_tfidf = lsa_tfidf_1.fit_transform(tfidf_fit_1)\n",
    "print(lsa_tfidf_1.explained_variance_ratio_)"
   ]
  },
  {
   "cell_type": "code",
   "execution_count": 23,
   "metadata": {},
   "outputs": [],
   "source": [
    "def display_topics(model, feature_names, no_top_words, topic_names=None):\n",
    "    for ix, topic in enumerate(model.components_):\n",
    "        if not topic_names or not topic_names[ix]:\n",
    "            print(\"\\nTopic \", ix)\n",
    "        else:\n",
    "            print(\"\\nTopic: '\",topic_names[ix],\"'\")\n",
    "        print(\", \".join([feature_names[i]\n",
    "                        for i in topic.argsort()[:-no_top_words - 1:-1]]))\n",
    "                            # Use argsort to see hightest features in order"
   ]
  },
  {
   "cell_type": "code",
   "execution_count": 24,
   "metadata": {},
   "outputs": [
    {
     "name": "stdout",
     "output_type": "stream",
     "text": [
      "\n",
      "Topic  0\n",
      "acidity, cherry, finish, tannin, black\n",
      "\n",
      "Topic  1\n",
      "apple, crisp, citrus, lemon, acidity\n",
      "\n",
      "Topic  2\n",
      "cabernet, finish, sauvignon, cabernet sauvignon, blend\n",
      "\n",
      "Topic  3\n",
      "cabernet, sauvignon, cabernet sauvignon, blend, merlot\n",
      "\n",
      "Topic  4\n",
      "red, bright, cherry, acidity, crisp\n",
      "\n",
      "Topic  5\n",
      "black, black cherry, white, apple, alongside\n",
      "\n",
      "Topic  6\n",
      "cherry, pinot, noir, pinot noir, bodied\n",
      "\n",
      "Topic  7\n",
      "full, bodied, full bodied, red, ripe\n",
      "\n",
      "Topic  8\n",
      "dry, bodied, full, full bodied, pinot\n",
      "\n",
      "Topic  9\n",
      "wood, spice, aging, pinot, noir\n",
      "\n",
      "Topic  10\n",
      "dry, red, sweet, tannin, oak\n",
      "\n",
      "Topic  11\n",
      "crisp, oak, acidity, bright, vanilla\n",
      "\n",
      "Topic  12\n",
      "oak, apple, red, vanilla, currant\n",
      "\n",
      "Topic  13\n",
      "spice, show, well, bright, touch\n",
      "\n",
      "Topic  14\n",
      "sweet, lemon, lime, plum, black\n",
      "\n",
      "Topic  15\n",
      "white, currant, black, citrus, black currant\n",
      "\n",
      "Topic  16\n",
      "spice, dry, wood, note, baking spice\n",
      "\n",
      "Topic  17\n",
      "ripe, lemon, berry, white, blackberry\n",
      "\n",
      "Topic  18\n",
      "soft, well, lemon, note, oak\n",
      "\n",
      "Topic  19\n",
      "soft, wood, texture, aging, lemon\n",
      "\n",
      "Topic  20\n",
      "ripe, citrus, cherry, blanc, sauvignon blanc\n",
      "\n",
      "Topic  21\n",
      "wood, bright, cherry, lemon, white\n",
      "\n",
      "Topic  22\n",
      "blanc, berry, sauvignon blanc, texture, sauvignon\n",
      "\n",
      "Topic  23\n",
      "texture, red, mineral, ripe, white\n",
      "\n",
      "Topic  24\n",
      "note, berry, bright, sweet, citrus\n"
     ]
    }
   ],
   "source": [
    "#display_topics(lsa, vectorizer.get_feature_names(), 5)\n",
    "display_topics(lsa_tfidf_1, tfidf_vectorizer.get_feature_names(),5)"
   ]
  },
  {
   "cell_type": "markdown",
   "metadata": {},
   "source": [
    "# SVD LSA: tfidf with 2,4 n grams"
   ]
  },
  {
   "cell_type": "code",
   "execution_count": 25,
   "metadata": {},
   "outputs": [
    {
     "name": "stdout",
     "output_type": "stream",
     "text": [
      "[0.00094724 0.00063741 0.00059277 0.00050964 0.0005163  0.00052005\n",
      " 0.00048697 0.00041826 0.00042403 0.00040563 0.00040198 0.00038324\n",
      " 0.00037488 0.00037074 0.00035796 0.0003345  0.00034719 0.00033382\n",
      " 0.00032526 0.00032549 0.00031732 0.00030828 0.0002995  0.00027777\n",
      " 0.00027881]\n",
      "\n",
      "Topic  0\n",
      "cabernet sauvignon, blend cabernet, cabernet franc, blend cabernet sauvignon, black cherry\n",
      "\n",
      "Topic  1\n",
      "cabernet sauvignon, blend cabernet, blend cabernet sauvignon, cabernet franc, cabernet sauvignon merlot\n",
      "\n",
      "Topic  2\n",
      "full bodied, ripe full, pinot noir, ripe full bodied, dry full\n",
      "\n",
      "Topic  3\n",
      "black currant, red berry, pinot noir, red cherry, firm tannin\n",
      "\n",
      "Topic  4\n",
      "black currant, blackberry black, full bodied, blackberry black currant, sauvignon cabernet\n",
      "\n",
      "Topic  5\n",
      "sauvignon cabernet, cabernet sauvignon cabernet, sauvignon cabernet franc, cabernet sauvignon cabernet franc, cabernet franc\n",
      "\n",
      "Topic  6\n",
      "pinot noir, raspberry cherry, black cherry, cherry cola, crisp acidity\n",
      "\n",
      "Topic  7\n",
      "sauvignon blanc, crisp acidity, lemon lime, apple pear, buttered toast\n",
      "\n",
      "Topic  8\n",
      "grained tannin, fine grained, fine grained tannin, red cherry, black currant\n",
      "\n",
      "Topic  9\n",
      "blend cabernet, blend cabernet sauvignon, sauvignon cabernet, cabernet sauvignon cabernet, sauvignon cabernet franc\n",
      "\n",
      "Topic  10\n",
      "red currant, red cherry, cherry red, cherry red currant, firm tannin\n",
      "\n",
      "Topic  11\n",
      "red currant, red berry, cherry red, cherry red currant, crisp acidity\n",
      "\n",
      "Topic  12\n",
      "crisp acidity, firm tannin, buttered toast, black plum, dry crisp\n",
      "\n",
      "Topic  13\n",
      "red cherry, crisp acidity, black currant, black cherry, blackberry black\n",
      "\n",
      "Topic  14\n",
      "blackberry cherry, firm tannin, raspberry cherry, sauvignon blanc, ripe blackberry\n",
      "\n",
      "Topic  15\n",
      "crisp acidity, firm tannin, sauvignon blanc, red cherry, wood aging\n",
      "\n",
      "Topic  16\n",
      "firm tannin, apple pear, bright acidity, cabernet franc, wood aging\n",
      "\n",
      "Topic  17\n",
      "cabernet sauvignon, wood aging, sauvignon syrah, cabernet sauvignon syrah, merlot cabernet sauvignon\n",
      "\n",
      "Topic  18\n",
      "wood aging, blackberry cherry, apple pear, spice wood, soft tannin\n",
      "\n",
      "Topic  19\n",
      "lemon lime, apple pear, firm tannin, lime acidity, lemon lime acidity\n",
      "\n",
      "Topic  20\n",
      "raspberry cherry, lemon lime, cherry cola, red cherry, raspberry cherry cola\n",
      "\n",
      "Topic  21\n",
      "apple pear, sauvignon blanc, ripe apple, ripe apple pear, baking spice\n",
      "\n",
      "Topic  22\n",
      "baking spice, cherry raspberry, ripe black, lead nose, black cherry raspberry\n",
      "\n",
      "Topic  23\n",
      "dried herb, red plum, baking spice, cherry plum, blend syrah\n",
      "\n",
      "Topic  24\n",
      "soft tannin, cherry raspberry, red plum, well balanced, ripe full\n"
     ]
    }
   ],
   "source": [
    "# TFIDF\n",
    "tfidf_vectorizer_24 = TfidfVectorizer(ngram_range=(2,4), min_df=3, max_df = .5) \n",
    "# max_df = ignore terms that appear in more than 50% of docs (doesn't change anything)\n",
    "# min_df = ignore terms that appear in less than 2 docs (REDUCES NUMB OF VECTS DRASTICALLY)\n",
    "tfidf_fit_24 = tfidf_vectorizer_24.fit_transform(df['lemmat_desc'])\n",
    "\n",
    "lsa_tfidf_24 = TruncatedSVD(25, random_state=44, n_iter=20) # truncated because we are telling it to only keep the first n. Basically a cut-off\n",
    "doc_topic_tfidf_24 = lsa_tfidf_24.fit_transform(tfidf_fit_24)\n",
    "print(lsa_tfidf_24.explained_variance_ratio_)\n",
    "\n",
    "def display_topics(model, feature_names, no_top_words, topic_names=None):\n",
    "    for ix, topic in enumerate(model.components_):\n",
    "        if not topic_names or not topic_names[ix]:\n",
    "            print(\"\\nTopic \", ix)\n",
    "        else:\n",
    "            print(\"\\nTopic: '\",topic_names[ix],\"'\")\n",
    "        print(\", \".join([feature_names[i]\n",
    "                        for i in topic.argsort()[:-no_top_words - 1:-1]]))\n",
    "                            # Use argsort to see hightest features in order\n",
    "\n",
    "#display_topics(lsa, vectorizer.get_feature_names(), 5)\n",
    "display_topics(lsa_tfidf_24, tfidf_vectorizer_24.get_feature_names(),5)"
   ]
  },
  {
   "cell_type": "code",
   "execution_count": 26,
   "metadata": {},
   "outputs": [],
   "source": [
    "# Get the words/combos tfidf came up with\n",
    "feat_names = tfidf_vectorizer_24.get_feature_names()"
   ]
  },
  {
   "cell_type": "code",
   "execution_count": 27,
   "metadata": {},
   "outputs": [
    {
     "data": {
      "text/plain": [
       "(119988, 25)"
      ]
     },
     "execution_count": 27,
     "metadata": {},
     "output_type": "execute_result"
    }
   ],
   "source": [
    "doc_topic_tfidf.shape"
   ]
  },
  {
   "cell_type": "code",
   "execution_count": 28,
   "metadata": {},
   "outputs": [
    {
     "data": {
      "text/plain": [
       "array([11.74799602,  9.9349905 ,  8.54921564,  8.13119161,  7.97800422,\n",
       "        7.89573787,  7.64614881,  7.26755652,  7.1296583 ,  6.97516248,\n",
       "        6.95201116,  6.82357851,  6.70844277,  6.67495545,  6.55078888,\n",
       "        6.47263244,  6.45289971,  6.3307428 ,  6.25318919,  6.24667861,\n",
       "        6.169946  ,  6.08055203,  5.99206658,  5.86040553,  5.80077007])"
      ]
     },
     "execution_count": 28,
     "metadata": {},
     "output_type": "execute_result"
    }
   ],
   "source": [
    "lsa_tfidf_24.singular_values_ # topics"
   ]
  },
  {
   "cell_type": "code",
   "execution_count": 29,
   "metadata": {},
   "outputs": [
    {
     "data": {
      "text/plain": [
       "array([0.00094724, 0.00063741, 0.00059277, 0.00050964, 0.0005163 ,\n",
       "       0.00052005, 0.00048697, 0.00041826, 0.00042403, 0.00040563,\n",
       "       0.00040198, 0.00038324, 0.00037488, 0.00037074, 0.00035796,\n",
       "       0.0003345 , 0.00034719, 0.00033382, 0.00032526, 0.00032549,\n",
       "       0.00031732, 0.00030828, 0.0002995 , 0.00027777, 0.00027881])"
      ]
     },
     "execution_count": 29,
     "metadata": {},
     "output_type": "execute_result"
    }
   ],
   "source": [
    "lsa_tfidf_24.explained_variance_ratio_"
   ]
  },
  {
   "cell_type": "code",
   "execution_count": 30,
   "metadata": {},
   "outputs": [
    {
     "data": {
      "text/plain": [
       "array([1.30516095e-03, 3.54106980e-04, 1.22988530e-04, ...,\n",
       "       1.82685674e-04, 6.10127205e-05, 8.62560472e-05])"
      ]
     },
     "execution_count": 30,
     "metadata": {},
     "output_type": "execute_result"
    }
   ],
   "source": [
    "lsa_tfidf_24.components_[0]"
   ]
  },
  {
   "cell_type": "markdown",
   "metadata": {},
   "source": [
    "# VT cosine for rec sys"
   ]
  },
  {
   "cell_type": "code",
   "execution_count": 31,
   "metadata": {},
   "outputs": [],
   "source": [
    "# Get a matrix with docs(review text) as rows, topics as columns\n",
    "# Put in pandas to examine, but can do np if we wanted.\n",
    "Vt_tfidf_24 = pd.DataFrame(doc_topic_tfidf.round(5),\n",
    "             index = df['lemmat_desc'],\n",
    "             )"
   ]
  },
  {
   "cell_type": "code",
   "execution_count": 32,
   "metadata": {},
   "outputs": [
    {
     "data": {
      "text/html": [
       "<div>\n",
       "<style scoped>\n",
       "    .dataframe tbody tr th:only-of-type {\n",
       "        vertical-align: middle;\n",
       "    }\n",
       "\n",
       "    .dataframe tbody tr th {\n",
       "        vertical-align: top;\n",
       "    }\n",
       "\n",
       "    .dataframe thead th {\n",
       "        text-align: right;\n",
       "    }\n",
       "</style>\n",
       "<table border=\"1\" class=\"dataframe\">\n",
       "  <thead>\n",
       "    <tr style=\"text-align: right;\">\n",
       "      <th></th>\n",
       "      <th>0</th>\n",
       "      <th>1</th>\n",
       "      <th>2</th>\n",
       "      <th>3</th>\n",
       "      <th>4</th>\n",
       "      <th>5</th>\n",
       "      <th>6</th>\n",
       "      <th>7</th>\n",
       "      <th>8</th>\n",
       "      <th>9</th>\n",
       "      <th>...</th>\n",
       "      <th>15</th>\n",
       "      <th>16</th>\n",
       "      <th>17</th>\n",
       "      <th>18</th>\n",
       "      <th>19</th>\n",
       "      <th>20</th>\n",
       "      <th>21</th>\n",
       "      <th>22</th>\n",
       "      <th>23</th>\n",
       "      <th>24</th>\n",
       "    </tr>\n",
       "    <tr>\n",
       "      <th>lemmat_desc</th>\n",
       "      <th></th>\n",
       "      <th></th>\n",
       "      <th></th>\n",
       "      <th></th>\n",
       "      <th></th>\n",
       "      <th></th>\n",
       "      <th></th>\n",
       "      <th></th>\n",
       "      <th></th>\n",
       "      <th></th>\n",
       "      <th></th>\n",
       "      <th></th>\n",
       "      <th></th>\n",
       "      <th></th>\n",
       "      <th></th>\n",
       "      <th></th>\n",
       "      <th></th>\n",
       "      <th></th>\n",
       "      <th></th>\n",
       "      <th></th>\n",
       "      <th></th>\n",
       "    </tr>\n",
       "  </thead>\n",
       "  <tbody>\n",
       "    <tr>\n",
       "      <td>include tropical broom brimstone dried herb overly expressive offering apple citrus dried alongside brisk acidity</td>\n",
       "      <td>0.06673</td>\n",
       "      <td>0.05707</td>\n",
       "      <td>0.03598</td>\n",
       "      <td>-0.00730</td>\n",
       "      <td>0.03266</td>\n",
       "      <td>0.07153</td>\n",
       "      <td>-0.00143</td>\n",
       "      <td>0.02057</td>\n",
       "      <td>-0.00615</td>\n",
       "      <td>0.02051</td>\n",
       "      <td>...</td>\n",
       "      <td>-0.00285</td>\n",
       "      <td>-0.00405</td>\n",
       "      <td>-0.04350</td>\n",
       "      <td>-0.04161</td>\n",
       "      <td>0.01689</td>\n",
       "      <td>0.00593</td>\n",
       "      <td>-0.10869</td>\n",
       "      <td>-0.05319</td>\n",
       "      <td>-0.04608</td>\n",
       "      <td>-0.01787</td>\n",
       "    </tr>\n",
       "    <tr>\n",
       "      <td>ripe smooth still structured firm tannin filled juicy red berry freshened acidity already drinkable although certainly better</td>\n",
       "      <td>0.08622</td>\n",
       "      <td>-0.01781</td>\n",
       "      <td>-0.09952</td>\n",
       "      <td>0.02318</td>\n",
       "      <td>0.04571</td>\n",
       "      <td>-0.01730</td>\n",
       "      <td>-0.05641</td>\n",
       "      <td>0.00731</td>\n",
       "      <td>-0.00902</td>\n",
       "      <td>0.03057</td>\n",
       "      <td>...</td>\n",
       "      <td>-0.00565</td>\n",
       "      <td>-0.02165</td>\n",
       "      <td>0.00452</td>\n",
       "      <td>0.00740</td>\n",
       "      <td>-0.01011</td>\n",
       "      <td>0.00223</td>\n",
       "      <td>-0.00583</td>\n",
       "      <td>0.01363</td>\n",
       "      <td>0.01082</td>\n",
       "      <td>0.02635</td>\n",
       "    </tr>\n",
       "    <tr>\n",
       "      <td>tart snappy lime flesh rind dominate pineapple poke crisp acidity underscoring stainless fermented</td>\n",
       "      <td>0.05072</td>\n",
       "      <td>0.08173</td>\n",
       "      <td>0.01092</td>\n",
       "      <td>0.01972</td>\n",
       "      <td>0.02504</td>\n",
       "      <td>0.00473</td>\n",
       "      <td>0.00599</td>\n",
       "      <td>-0.02535</td>\n",
       "      <td>0.01895</td>\n",
       "      <td>-0.01614</td>\n",
       "      <td>...</td>\n",
       "      <td>-0.02554</td>\n",
       "      <td>-0.00160</td>\n",
       "      <td>0.00577</td>\n",
       "      <td>0.00671</td>\n",
       "      <td>0.01476</td>\n",
       "      <td>0.01420</td>\n",
       "      <td>-0.00923</td>\n",
       "      <td>0.01401</td>\n",
       "      <td>-0.02648</td>\n",
       "      <td>0.00434</td>\n",
       "    </tr>\n",
       "    <tr>\n",
       "      <td>pineapple rind lemon pith blossom start bit opulent note honey drizzled guava mango giving slightly astringent finish</td>\n",
       "      <td>0.05942</td>\n",
       "      <td>0.06113</td>\n",
       "      <td>0.05453</td>\n",
       "      <td>-0.02031</td>\n",
       "      <td>-0.03392</td>\n",
       "      <td>0.01257</td>\n",
       "      <td>-0.01272</td>\n",
       "      <td>-0.02194</td>\n",
       "      <td>-0.00507</td>\n",
       "      <td>0.00799</td>\n",
       "      <td>...</td>\n",
       "      <td>0.00439</td>\n",
       "      <td>0.00821</td>\n",
       "      <td>0.00748</td>\n",
       "      <td>0.04115</td>\n",
       "      <td>0.01598</td>\n",
       "      <td>-0.00970</td>\n",
       "      <td>-0.00454</td>\n",
       "      <td>-0.01782</td>\n",
       "      <td>0.00479</td>\n",
       "      <td>0.03850</td>\n",
       "    </tr>\n",
       "    <tr>\n",
       "      <td>much regular come across rather rough tannic rustic earthy herbal characteristic nonetheless think pleasantly unfussy country hearty winter stew</td>\n",
       "      <td>0.03770</td>\n",
       "      <td>-0.00818</td>\n",
       "      <td>0.01314</td>\n",
       "      <td>-0.02071</td>\n",
       "      <td>-0.01689</td>\n",
       "      <td>-0.03286</td>\n",
       "      <td>-0.03503</td>\n",
       "      <td>-0.02121</td>\n",
       "      <td>0.02724</td>\n",
       "      <td>-0.00632</td>\n",
       "      <td>...</td>\n",
       "      <td>-0.00517</td>\n",
       "      <td>-0.00871</td>\n",
       "      <td>0.00258</td>\n",
       "      <td>-0.01423</td>\n",
       "      <td>0.01131</td>\n",
       "      <td>-0.00619</td>\n",
       "      <td>-0.01592</td>\n",
       "      <td>0.00988</td>\n",
       "      <td>0.00785</td>\n",
       "      <td>0.00475</td>\n",
       "    </tr>\n",
       "    <tr>\n",
       "      <td>...</td>\n",
       "      <td>...</td>\n",
       "      <td>...</td>\n",
       "      <td>...</td>\n",
       "      <td>...</td>\n",
       "      <td>...</td>\n",
       "      <td>...</td>\n",
       "      <td>...</td>\n",
       "      <td>...</td>\n",
       "      <td>...</td>\n",
       "      <td>...</td>\n",
       "      <td>...</td>\n",
       "      <td>...</td>\n",
       "      <td>...</td>\n",
       "      <td>...</td>\n",
       "      <td>...</td>\n",
       "      <td>...</td>\n",
       "      <td>...</td>\n",
       "      <td>...</td>\n",
       "      <td>...</td>\n",
       "      <td>...</td>\n",
       "      <td>...</td>\n",
       "    </tr>\n",
       "    <tr>\n",
       "      <td>note honeysuckle cantaloupe sweeten deliciously feather spätlese intensely juicy quenching stream tart tangerine grapefruit acidity yet wrap kiss honey</td>\n",
       "      <td>0.04834</td>\n",
       "      <td>0.04760</td>\n",
       "      <td>0.01035</td>\n",
       "      <td>0.00242</td>\n",
       "      <td>0.00721</td>\n",
       "      <td>0.01343</td>\n",
       "      <td>-0.00100</td>\n",
       "      <td>-0.00879</td>\n",
       "      <td>0.01112</td>\n",
       "      <td>0.00078</td>\n",
       "      <td>...</td>\n",
       "      <td>-0.00400</td>\n",
       "      <td>0.00540</td>\n",
       "      <td>0.00684</td>\n",
       "      <td>0.03162</td>\n",
       "      <td>-0.00339</td>\n",
       "      <td>0.00569</td>\n",
       "      <td>0.00958</td>\n",
       "      <td>-0.05225</td>\n",
       "      <td>0.00533</td>\n",
       "      <td>0.02558</td>\n",
       "    </tr>\n",
       "    <tr>\n",
       "      <td>given much decade prior mean pre cellared drinking baked cherry cocoa coconut combine gracefully soft secondary compote highlight</td>\n",
       "      <td>0.04870</td>\n",
       "      <td>-0.01360</td>\n",
       "      <td>0.00511</td>\n",
       "      <td>-0.01560</td>\n",
       "      <td>0.00489</td>\n",
       "      <td>-0.02132</td>\n",
       "      <td>0.02760</td>\n",
       "      <td>-0.00384</td>\n",
       "      <td>-0.03327</td>\n",
       "      <td>-0.01803</td>\n",
       "      <td>...</td>\n",
       "      <td>-0.00674</td>\n",
       "      <td>-0.00511</td>\n",
       "      <td>-0.02515</td>\n",
       "      <td>0.02605</td>\n",
       "      <td>0.02439</td>\n",
       "      <td>0.00009</td>\n",
       "      <td>0.00826</td>\n",
       "      <td>0.01206</td>\n",
       "      <td>-0.01144</td>\n",
       "      <td>-0.00958</td>\n",
       "    </tr>\n",
       "    <tr>\n",
       "      <td>well give crisp dry ripe although spice subdued favor serious structure couple</td>\n",
       "      <td>0.07979</td>\n",
       "      <td>0.03143</td>\n",
       "      <td>-0.06621</td>\n",
       "      <td>0.04017</td>\n",
       "      <td>-0.00263</td>\n",
       "      <td>-0.00756</td>\n",
       "      <td>0.00043</td>\n",
       "      <td>-0.03331</td>\n",
       "      <td>0.02257</td>\n",
       "      <td>0.01984</td>\n",
       "      <td>...</td>\n",
       "      <td>-0.03433</td>\n",
       "      <td>0.05165</td>\n",
       "      <td>0.01268</td>\n",
       "      <td>-0.00446</td>\n",
       "      <td>-0.05018</td>\n",
       "      <td>0.05243</td>\n",
       "      <td>-0.01980</td>\n",
       "      <td>0.03757</td>\n",
       "      <td>-0.00151</td>\n",
       "      <td>-0.02143</td>\n",
       "    </tr>\n",
       "    <tr>\n",
       "      <td>dry pinot crisp acidity also weight solid powerful spice baked apple structure still developing need</td>\n",
       "      <td>0.08170</td>\n",
       "      <td>0.05279</td>\n",
       "      <td>-0.04613</td>\n",
       "      <td>0.02721</td>\n",
       "      <td>0.00701</td>\n",
       "      <td>-0.00432</td>\n",
       "      <td>0.00136</td>\n",
       "      <td>-0.05330</td>\n",
       "      <td>0.04922</td>\n",
       "      <td>0.03433</td>\n",
       "      <td>...</td>\n",
       "      <td>-0.02843</td>\n",
       "      <td>0.05222</td>\n",
       "      <td>-0.02492</td>\n",
       "      <td>-0.04877</td>\n",
       "      <td>-0.02617</td>\n",
       "      <td>-0.02808</td>\n",
       "      <td>-0.01317</td>\n",
       "      <td>0.02879</td>\n",
       "      <td>-0.01034</td>\n",
       "      <td>-0.00183</td>\n",
       "    </tr>\n",
       "    <tr>\n",
       "      <td>dry powered intense spiciness rounded texture lychee dominate giving opulent feel aftertaste</td>\n",
       "      <td>0.05193</td>\n",
       "      <td>0.03358</td>\n",
       "      <td>-0.03764</td>\n",
       "      <td>0.02330</td>\n",
       "      <td>-0.02084</td>\n",
       "      <td>-0.02978</td>\n",
       "      <td>-0.00864</td>\n",
       "      <td>-0.01489</td>\n",
       "      <td>0.01468</td>\n",
       "      <td>-0.01397</td>\n",
       "      <td>...</td>\n",
       "      <td>-0.00688</td>\n",
       "      <td>0.04131</td>\n",
       "      <td>-0.02514</td>\n",
       "      <td>0.02332</td>\n",
       "      <td>0.02303</td>\n",
       "      <td>-0.01036</td>\n",
       "      <td>-0.03739</td>\n",
       "      <td>0.01384</td>\n",
       "      <td>0.05506</td>\n",
       "      <td>-0.03313</td>\n",
       "    </tr>\n",
       "  </tbody>\n",
       "</table>\n",
       "<p>119988 rows × 25 columns</p>\n",
       "</div>"
      ],
      "text/plain": [
       "                                                         0        1        2   \\\n",
       "lemmat_desc                                                                     \n",
       "include tropical broom brimstone dried herb ove...  0.06673  0.05707  0.03598   \n",
       "ripe smooth still structured firm tannin filled...  0.08622 -0.01781 -0.09952   \n",
       "tart snappy lime flesh rind dominate pineapple ...  0.05072  0.08173  0.01092   \n",
       "pineapple rind lemon pith blossom start bit opu...  0.05942  0.06113  0.05453   \n",
       "much regular come across rather rough tannic ru...  0.03770 -0.00818  0.01314   \n",
       "...                                                     ...      ...      ...   \n",
       "note honeysuckle cantaloupe sweeten deliciously...  0.04834  0.04760  0.01035   \n",
       "given much decade prior mean pre cellared drink...  0.04870 -0.01360  0.00511   \n",
       "well give crisp dry ripe although spice subdued...  0.07979  0.03143 -0.06621   \n",
       "dry pinot crisp acidity also weight solid power...  0.08170  0.05279 -0.04613   \n",
       "dry powered intense spiciness rounded texture l...  0.05193  0.03358 -0.03764   \n",
       "\n",
       "                                                         3        4        5   \\\n",
       "lemmat_desc                                                                     \n",
       "include tropical broom brimstone dried herb ove... -0.00730  0.03266  0.07153   \n",
       "ripe smooth still structured firm tannin filled...  0.02318  0.04571 -0.01730   \n",
       "tart snappy lime flesh rind dominate pineapple ...  0.01972  0.02504  0.00473   \n",
       "pineapple rind lemon pith blossom start bit opu... -0.02031 -0.03392  0.01257   \n",
       "much regular come across rather rough tannic ru... -0.02071 -0.01689 -0.03286   \n",
       "...                                                     ...      ...      ...   \n",
       "note honeysuckle cantaloupe sweeten deliciously...  0.00242  0.00721  0.01343   \n",
       "given much decade prior mean pre cellared drink... -0.01560  0.00489 -0.02132   \n",
       "well give crisp dry ripe although spice subdued...  0.04017 -0.00263 -0.00756   \n",
       "dry pinot crisp acidity also weight solid power...  0.02721  0.00701 -0.00432   \n",
       "dry powered intense spiciness rounded texture l...  0.02330 -0.02084 -0.02978   \n",
       "\n",
       "                                                         6        7        8   \\\n",
       "lemmat_desc                                                                     \n",
       "include tropical broom brimstone dried herb ove... -0.00143  0.02057 -0.00615   \n",
       "ripe smooth still structured firm tannin filled... -0.05641  0.00731 -0.00902   \n",
       "tart snappy lime flesh rind dominate pineapple ...  0.00599 -0.02535  0.01895   \n",
       "pineapple rind lemon pith blossom start bit opu... -0.01272 -0.02194 -0.00507   \n",
       "much regular come across rather rough tannic ru... -0.03503 -0.02121  0.02724   \n",
       "...                                                     ...      ...      ...   \n",
       "note honeysuckle cantaloupe sweeten deliciously... -0.00100 -0.00879  0.01112   \n",
       "given much decade prior mean pre cellared drink...  0.02760 -0.00384 -0.03327   \n",
       "well give crisp dry ripe although spice subdued...  0.00043 -0.03331  0.02257   \n",
       "dry pinot crisp acidity also weight solid power...  0.00136 -0.05330  0.04922   \n",
       "dry powered intense spiciness rounded texture l... -0.00864 -0.01489  0.01468   \n",
       "\n",
       "                                                         9   ...       15  \\\n",
       "lemmat_desc                                                  ...            \n",
       "include tropical broom brimstone dried herb ove...  0.02051  ... -0.00285   \n",
       "ripe smooth still structured firm tannin filled...  0.03057  ... -0.00565   \n",
       "tart snappy lime flesh rind dominate pineapple ... -0.01614  ... -0.02554   \n",
       "pineapple rind lemon pith blossom start bit opu...  0.00799  ...  0.00439   \n",
       "much regular come across rather rough tannic ru... -0.00632  ... -0.00517   \n",
       "...                                                     ...  ...      ...   \n",
       "note honeysuckle cantaloupe sweeten deliciously...  0.00078  ... -0.00400   \n",
       "given much decade prior mean pre cellared drink... -0.01803  ... -0.00674   \n",
       "well give crisp dry ripe although spice subdued...  0.01984  ... -0.03433   \n",
       "dry pinot crisp acidity also weight solid power...  0.03433  ... -0.02843   \n",
       "dry powered intense spiciness rounded texture l... -0.01397  ... -0.00688   \n",
       "\n",
       "                                                         16       17       18  \\\n",
       "lemmat_desc                                                                     \n",
       "include tropical broom brimstone dried herb ove... -0.00405 -0.04350 -0.04161   \n",
       "ripe smooth still structured firm tannin filled... -0.02165  0.00452  0.00740   \n",
       "tart snappy lime flesh rind dominate pineapple ... -0.00160  0.00577  0.00671   \n",
       "pineapple rind lemon pith blossom start bit opu...  0.00821  0.00748  0.04115   \n",
       "much regular come across rather rough tannic ru... -0.00871  0.00258 -0.01423   \n",
       "...                                                     ...      ...      ...   \n",
       "note honeysuckle cantaloupe sweeten deliciously...  0.00540  0.00684  0.03162   \n",
       "given much decade prior mean pre cellared drink... -0.00511 -0.02515  0.02605   \n",
       "well give crisp dry ripe although spice subdued...  0.05165  0.01268 -0.00446   \n",
       "dry pinot crisp acidity also weight solid power...  0.05222 -0.02492 -0.04877   \n",
       "dry powered intense spiciness rounded texture l...  0.04131 -0.02514  0.02332   \n",
       "\n",
       "                                                         19       20       21  \\\n",
       "lemmat_desc                                                                     \n",
       "include tropical broom brimstone dried herb ove...  0.01689  0.00593 -0.10869   \n",
       "ripe smooth still structured firm tannin filled... -0.01011  0.00223 -0.00583   \n",
       "tart snappy lime flesh rind dominate pineapple ...  0.01476  0.01420 -0.00923   \n",
       "pineapple rind lemon pith blossom start bit opu...  0.01598 -0.00970 -0.00454   \n",
       "much regular come across rather rough tannic ru...  0.01131 -0.00619 -0.01592   \n",
       "...                                                     ...      ...      ...   \n",
       "note honeysuckle cantaloupe sweeten deliciously... -0.00339  0.00569  0.00958   \n",
       "given much decade prior mean pre cellared drink...  0.02439  0.00009  0.00826   \n",
       "well give crisp dry ripe although spice subdued... -0.05018  0.05243 -0.01980   \n",
       "dry pinot crisp acidity also weight solid power... -0.02617 -0.02808 -0.01317   \n",
       "dry powered intense spiciness rounded texture l...  0.02303 -0.01036 -0.03739   \n",
       "\n",
       "                                                         22       23       24  \n",
       "lemmat_desc                                                                    \n",
       "include tropical broom brimstone dried herb ove... -0.05319 -0.04608 -0.01787  \n",
       "ripe smooth still structured firm tannin filled...  0.01363  0.01082  0.02635  \n",
       "tart snappy lime flesh rind dominate pineapple ...  0.01401 -0.02648  0.00434  \n",
       "pineapple rind lemon pith blossom start bit opu... -0.01782  0.00479  0.03850  \n",
       "much regular come across rather rough tannic ru...  0.00988  0.00785  0.00475  \n",
       "...                                                     ...      ...      ...  \n",
       "note honeysuckle cantaloupe sweeten deliciously... -0.05225  0.00533  0.02558  \n",
       "given much decade prior mean pre cellared drink...  0.01206 -0.01144 -0.00958  \n",
       "well give crisp dry ripe although spice subdued...  0.03757 -0.00151 -0.02143  \n",
       "dry pinot crisp acidity also weight solid power...  0.02879 -0.01034 -0.00183  \n",
       "dry powered intense spiciness rounded texture l...  0.01384  0.05506 -0.03313  \n",
       "\n",
       "[119988 rows x 25 columns]"
      ]
     },
     "execution_count": 32,
     "metadata": {},
     "output_type": "execute_result"
    }
   ],
   "source": [
    "Vt_tfidf_24"
   ]
  },
  {
   "cell_type": "markdown",
   "metadata": {},
   "source": [
    "# Testing on smaller trunc df\n",
    "#### Function to loop through vt matrix and get cosine similarity for each combo\n"
   ]
  },
  {
   "cell_type": "code",
   "execution_count": null,
   "metadata": {},
   "outputs": [],
   "source": [
    "vt_trunc = Vt_tfidf_24[:100]"
   ]
  },
  {
   "cell_type": "code",
   "execution_count": null,
   "metadata": {},
   "outputs": [],
   "source": [
    "vt_trunc"
   ]
  },
  {
   "cell_type": "code",
   "execution_count": null,
   "metadata": {},
   "outputs": [],
   "source": [
    "[vt_trunc.iloc[0].values]"
   ]
  },
  {
   "cell_type": "code",
   "execution_count": null,
   "metadata": {},
   "outputs": [],
   "source": [
    "vt_trunc.T.shape"
   ]
  },
  {
   "cell_type": "code",
   "execution_count": null,
   "metadata": {},
   "outputs": [],
   "source": [
    "vt_trunc.index[0]"
   ]
  },
  {
   "cell_type": "code",
   "execution_count": null,
   "metadata": {},
   "outputs": [],
   "source": [
    "vt_trunc.iloc[0].index"
   ]
  },
  {
   "cell_type": "markdown",
   "metadata": {},
   "source": [
    "# Working recommendation function below-- on trunc df. Need to apply to larger df for final\n",
    "- Now need to get the top wines and get the names...so need to link back to original matrix."
   ]
  },
  {
   "cell_type": "code",
   "execution_count": null,
   "metadata": {},
   "outputs": [],
   "source": [
    "def get_wine_rec(new_wine, vt, num_recom=5):\n",
    "    recs = []\n",
    "    for i in range(vt.shape[0]): # go through rows (rows = docs)\n",
    "        cur_vec = [vt.iloc[i].values] # values for current row in loop\n",
    "        cur_vec_index = i # maybe use this to go back to wine name later...?\n",
    "        # Similarity\n",
    "        sim = cosine_similarity(cur_vec, new_wine)\n",
    "        recs.append(sim)\n",
    "        final_recs = [j[0] for j in sorted(recs, key=lambda x : x[0], reverse=True)]\n",
    "        final_recs.pop(0) # Take out 0th because it's the wine with itself 1.0 similarity\n",
    "        top_recs = final_recs[: num_recom]\n",
    "        exploration_recs = final_recs[10:15]\n",
    "    print(\"Top {} recommendations are {}\".format(num_recom, top_recs))\n",
    "    print(\"Some wines that are a little different that you might like are: {}\".format(exploration_recs))\n",
    "    "
   ]
  },
  {
   "cell_type": "code",
   "execution_count": null,
   "metadata": {},
   "outputs": [],
   "source": [
    "# Use an existing wine to test as new input. Later it will be a raw desc that will be vectorized via model\n",
    "new_input = [Vt_tfidf_24.iloc[44].values] # New input must be in [] to avoid reshape error in np"
   ]
  },
  {
   "cell_type": "code",
   "execution_count": 33,
   "metadata": {},
   "outputs": [
    {
     "ename": "NameError",
     "evalue": "name 'vt_trunc' is not defined",
     "output_type": "error",
     "traceback": [
      "\u001b[0;31m---------------------------------------------------------------------------\u001b[0m",
      "\u001b[0;31mNameError\u001b[0m                                 Traceback (most recent call last)",
      "\u001b[0;32m<ipython-input-33-dfcd5ae2ee96>\u001b[0m in \u001b[0;36m<module>\u001b[0;34m\u001b[0m\n\u001b[0;32m----> 1\u001b[0;31m \u001b[0mnew_test\u001b[0m \u001b[0;34m=\u001b[0m \u001b[0;34m[\u001b[0m\u001b[0mvt_trunc\u001b[0m\u001b[0;34m.\u001b[0m\u001b[0miloc\u001b[0m\u001b[0;34m[\u001b[0m\u001b[0;36m2\u001b[0m\u001b[0;34m]\u001b[0m\u001b[0;34m.\u001b[0m\u001b[0mvalues\u001b[0m\u001b[0;34m]\u001b[0m\u001b[0;34m\u001b[0m\u001b[0;34m\u001b[0m\u001b[0m\n\u001b[0m",
      "\u001b[0;31mNameError\u001b[0m: name 'vt_trunc' is not defined"
     ]
    }
   ],
   "source": [
    "new_test = [vt_trunc.iloc[2].values]"
   ]
  },
  {
   "cell_type": "code",
   "execution_count": null,
   "metadata": {},
   "outputs": [],
   "source": [
    "get_wine_rec(new_test, vt_trunc, num_recom=5) # works quickly on small df, but taking a while on full d"
   ]
  },
  {
   "cell_type": "markdown",
   "metadata": {},
   "source": [
    "## Not running on full df...."
   ]
  },
  {
   "cell_type": "code",
   "execution_count": 757,
   "metadata": {},
   "outputs": [
    {
     "ename": "KeyboardInterrupt",
     "evalue": "",
     "output_type": "error",
     "traceback": [
      "\u001b[0;31m---------------------------------------------------------------------------\u001b[0m",
      "\u001b[0;31mKeyboardInterrupt\u001b[0m                         Traceback (most recent call last)",
      "\u001b[0;32m<ipython-input-757-2d4bf79ee08d>\u001b[0m in \u001b[0;36m<module>\u001b[0;34m\u001b[0m\n\u001b[0;32m----> 1\u001b[0;31m \u001b[0mget_wine_rec\u001b[0m\u001b[0;34m(\u001b[0m\u001b[0mnew_input\u001b[0m\u001b[0;34m,\u001b[0m \u001b[0mVt_tfidf_24\u001b[0m\u001b[0;34m,\u001b[0m\u001b[0mnum_recom\u001b[0m\u001b[0;34m=\u001b[0m\u001b[0;36m5\u001b[0m\u001b[0;34m)\u001b[0m\u001b[0;34m\u001b[0m\u001b[0;34m\u001b[0m\u001b[0m\n\u001b[0m",
      "\u001b[0;32m<ipython-input-753-96ce86957879>\u001b[0m in \u001b[0;36mget_wine_rec\u001b[0;34m(new_wine, vt, num_recom)\u001b[0m\n\u001b[1;32m      7\u001b[0m         \u001b[0msim\u001b[0m \u001b[0;34m=\u001b[0m \u001b[0mcosine_similarity\u001b[0m\u001b[0;34m(\u001b[0m\u001b[0mcur_vec\u001b[0m\u001b[0;34m,\u001b[0m \u001b[0mnew_wine\u001b[0m\u001b[0;34m)\u001b[0m\u001b[0;34m\u001b[0m\u001b[0;34m\u001b[0m\u001b[0m\n\u001b[1;32m      8\u001b[0m         \u001b[0mrecs\u001b[0m\u001b[0;34m.\u001b[0m\u001b[0mappend\u001b[0m\u001b[0;34m(\u001b[0m\u001b[0msim\u001b[0m\u001b[0;34m)\u001b[0m\u001b[0;34m\u001b[0m\u001b[0;34m\u001b[0m\u001b[0m\n\u001b[0;32m----> 9\u001b[0;31m         \u001b[0mfinal_recs\u001b[0m \u001b[0;34m=\u001b[0m \u001b[0;34m[\u001b[0m\u001b[0mj\u001b[0m\u001b[0;34m[\u001b[0m\u001b[0;36m0\u001b[0m\u001b[0;34m]\u001b[0m \u001b[0;32mfor\u001b[0m \u001b[0mj\u001b[0m \u001b[0;32min\u001b[0m \u001b[0msorted\u001b[0m\u001b[0;34m(\u001b[0m\u001b[0mrecs\u001b[0m\u001b[0;34m,\u001b[0m \u001b[0mkey\u001b[0m\u001b[0;34m=\u001b[0m\u001b[0;32mlambda\u001b[0m \u001b[0mx\u001b[0m \u001b[0;34m:\u001b[0m \u001b[0mx\u001b[0m\u001b[0;34m[\u001b[0m\u001b[0;36m0\u001b[0m\u001b[0;34m]\u001b[0m\u001b[0;34m,\u001b[0m \u001b[0mreverse\u001b[0m\u001b[0;34m=\u001b[0m\u001b[0;32mTrue\u001b[0m\u001b[0;34m)\u001b[0m\u001b[0;34m]\u001b[0m\u001b[0;34m\u001b[0m\u001b[0;34m\u001b[0m\u001b[0m\n\u001b[0m\u001b[1;32m     10\u001b[0m         \u001b[0mfinal_recs\u001b[0m\u001b[0;34m.\u001b[0m\u001b[0mpop\u001b[0m\u001b[0;34m(\u001b[0m\u001b[0;36m0\u001b[0m\u001b[0;34m)\u001b[0m \u001b[0;31m# Take out 0th because it's the wine with itself 1.0 similarity\u001b[0m\u001b[0;34m\u001b[0m\u001b[0;34m\u001b[0m\u001b[0m\n\u001b[1;32m     11\u001b[0m         \u001b[0mtop_recs\u001b[0m \u001b[0;34m=\u001b[0m \u001b[0mfinal_recs\u001b[0m\u001b[0;34m[\u001b[0m\u001b[0;34m:\u001b[0m \u001b[0mnum_recom\u001b[0m\u001b[0;34m]\u001b[0m\u001b[0;34m\u001b[0m\u001b[0;34m\u001b[0m\u001b[0m\n",
      "\u001b[0;31mKeyboardInterrupt\u001b[0m: "
     ]
    }
   ],
   "source": [
    "############get_wine_rec(new_input, Vt_tfidf_24,num_recom=5)"
   ]
  },
  {
   "cell_type": "code",
   "execution_count": null,
   "metadata": {},
   "outputs": [],
   "source": []
  },
  {
   "cell_type": "markdown",
   "metadata": {},
   "source": [
    "### Need to link these wines back to original df so we can then use price region name etc...\n"
   ]
  },
  {
   "cell_type": "code",
   "execution_count": 723,
   "metadata": {},
   "outputs": [],
   "source": [
    "a = vt_trunc.copy()"
   ]
  },
  {
   "cell_type": "code",
   "execution_count": 726,
   "metadata": {},
   "outputs": [],
   "source": [
    "index = [i for i in range(a.shape[0])]"
   ]
  },
  {
   "cell_type": "code",
   "execution_count": 733,
   "metadata": {
    "collapsed": true
   },
   "outputs": [
    {
     "data": {
      "text/plain": [
       "Index(['include tropical broom brimstone dried herb overly expressive offering apple citrus dried alongside brisk acidity',\n",
       "       'ripe smooth still structured firm tannin filled juicy red berry freshened acidity already drinkable although certainly better',\n",
       "       'tart snappy lime flesh rind dominate pineapple poke crisp acidity underscoring stainless fermented',\n",
       "       'pineapple rind lemon pith blossom start bit opulent note honey drizzled guava mango giving slightly astringent finish',\n",
       "       'much regular come across rather rough tannic rustic earthy herbal characteristic nonetheless think pleasantly unfussy country hearty winter stew',\n",
       "       'blackberry raspberry show typical navarran whiff herb horseradish mouth fairly full bodied tomatoey acidity spicy herbal complement plum finish grabby',\n",
       "       'bright informal red open candied berry white savory herb carry balanced acidity soft tannin',\n",
       "       'dry restrained spice profusion balanced acidity firm texture much food',\n",
       "       'savory dried thyme note accent preserved brisk dry elegant sprightly footprint',\n",
       "       'depth apple pear touch spice dry balanced acidity crisp texture',\n",
       "       'soft supple plum envelope oaky structure cabernet supported merlot coffee chocolate complete picture finishing strong resulting value priced attractive immediate',\n",
       "       'dry spicy tight taut texture strongly mineral layered citrus well food almost crisp aftertaste',\n",
       "       'slightly reduced chalky tannic backbone otherwise juicy explosion black cherry accented throughout firm oak cigar',\n",
       "       'dominated oak oak driven include roasted coffee bean espresso coconut vanilla carry together plum chocolate astringent drying tannin give rather abrupt finish',\n",
       "       'building winemaking trend toward leaner buttercream tart apple everyday sipping range pear barely ripe pineapple prove approachable distinctive',\n",
       "       'zesty peel apple note abound sprightly mineral toned dry yet racy lean refreshing quaffer wide appeal',\n",
       "       'baked plum molasses balsamic vinegar cheesy oak feed braced bolt acidity compact set saucy red berry plum feature tobacco peppery accent finish mildly respectable weight balance',\n",
       "       'raw black cherry direct simple juicy feel oak extract becoming apparent driven berry smoldering oak finish meaty',\n",
       "       'desiccated blackberry leather charred wood mint carry nose full bodied tannic heavily clove woodspice sit blackberry hickory forceful oak based dominate finish',\n",
       "       'red pervade nose cigar menthol note riding slightly restrained entry open riper note cherry plum crushed blend merlot cabernet sauvignon cabernet franc approachable ready enjoyed',\n",
       "       'ripe berry mingle ample note black toasted vanilla dusty tobacco oak driven note tart red currant offering bit levity',\n",
       "       'sleek mix tart berry stem herb along hint oak chocolate value widely available pinot oak month whether neutral staved indicated',\n",
       "       'delicate recall white citrus lime white hint mineral alongside bright acidity',\n",
       "       'geneseo sour plum enough cigar nose bit acidity tension sour cherry emerges midpalate bolstered black licorice',\n",
       "       'prune blackcurrant toast oak carry extracted along black cherry roasted coffee bean firm drying tannin provide framework',\n",
       "       'oak earth intermingle around robust wet floor designated pinot hail small intense full bodied raspberry blackberry steeped smoky spice smooth texture',\n",
       "       'pretty stone lead nose bright apple apricot vanilla delicate note toasted oak alongside crisp acidity',\n",
       "       'recall ripe berry toast whiff cake spice soft informal sour cherry vanilla hint espresso alongside tannin soon',\n",
       "       'suggest mature berry scorched earth animal toast anise ripe black berry oak espresso cocoa vanilla alongside dusty tannin',\n",
       "       'clarksburg becoming chenin blanc using sourced several area balanced trace sweetness background residual sugar crisp straightforward note pear lime',\n",
       "       'red cherry come laced tannin giving bright open juicy',\n",
       "       'merlot avola form base red would meat sauce pork roast quality clean bright sharp',\n",
       "       'part extended grillo viognier blend show honeysuckle jasmine backed touch grass mouth show ripe',\n",
       "       'rustic dry berry currant licorice spice cabernet franc cabernet sauvignon',\n",
       "       'show tart gooseberry similar zealand sauvignon blanc note include tropical honey unoaked splash muscat commendable dryness acidity',\n",
       "       'many erath designates strongly herbal note leaf herb create somewhat unripe impression touch bitterness finish pass ripeness sweet tomato',\n",
       "       'white lychee apple carry mellow chunky feeling bear powdery sweet melon mixed greener note grass lime viognier typical warm plump oily short finish fill blend',\n",
       "       'concentrated cabernet cured meat dried rosemary barbecue spice teriyaki sauce give bold chewy feel',\n",
       "       'inky color plump ripe blackberry jam rum cake soft smooth',\n",
       "       'part movement vegetable ink recycled quality nice juicy bright berry finish',\n",
       "       'catarratto sicily widely white grape variety show mineral backed citrus almond blossom touch',\n",
       "       'stiff tannic slowly open brings brambly berry along note earthy herb touch bitterness tannin',\n",
       "       'festive soft ripe acidity red berry',\n",
       "       'clean brisk mouthfeel give slightly sauvignon blanc instant dry streak honey sweetens citrus pear tropical asian fare ham salad grapefruit section',\n",
       "       'berry come cola herb note tangy racy delivers raspberry plum modest finish',\n",
       "       'starting oaky dripping caramel vanilla note texture midpalate finessed graceful drying tannin onto oak driven finish eccentric blend tannat pinotage',\n",
       "       'spicy clean would fried seafood spaghetti con pretty citrus tone followed drying mineral nuance',\n",
       "       'sweet white sugar honey vanilla brightened crisp acidity',\n",
       "       'resembles zealand paradigm sauvignon blanc bearing grapefruit kiwi sprinkling cracker add interest hit fleshy fist intense grassy gooseberry provides plenty punch apricot glazed roasted',\n",
       "       'soft generous ripe full juicy red cherry gentle tannin richness giving sweet open ready',\n",
       "       'blend avola syrah open savory cured meat dried berry cassis tobacco wet earth touch almond bitterness finish',\n",
       "       'much different silva tasted hard spicy tarry leafy herbal grittiness feel snappy miss saltiness finish length short raw feel',\n",
       "       'grape often show rustic raw quality cherry cola black sour added touch bright acidity finish',\n",
       "       'herbaceous fine textured acidity along pink grapefruit bright ready month',\n",
       "       'blend avola nerello mascalese delivers berry cola dusty mineral accent bright lean',\n",
       "       'show jelly pear earthy tone mouthfeel soft oak form buttered toast caramel note',\n",
       "       'weighty creamy full body plenty lime pear slight brown sugar vanilla note',\n",
       "       'touch toasted almond start grillo rev deliver note citrus stone crushed stone lemon tart mouthfeel crisp simple',\n",
       "       'herbal strawberry raspberry juicy snappy lean red dry spice finish dry oaky',\n",
       "       'cranberry spice herb followed tart cranberry grainy tannin fall bit variety hard discern',\n",
       "       'syrupy dense jammy plum vanilla structure plenty oak ripe full bodied accent graphite leather',\n",
       "       'densely hued black plum vanilla carry simple along touch pliant tannin give easygoing soon',\n",
       "       'brooding note spice cherry tart elegant gritty tannin backing suited',\n",
       "       'fat yeasty champagne comprised predominantly pinot noir ripe red berry acidity soft creamy aftertaste ready',\n",
       "       'intriguing touch nose jasmine salt wet hay quinine rainy structure sip quite delicate apple honey',\n",
       "       'warm vintage soft open broad white acidity lighter usual chablis giving particularly ripe',\n",
       "       'soft rounded ripe generous pear melon ready smooth attractively ripe',\n",
       "       'blend merlot cabernet franc brings disjointed volatile wood spice vanilla cherry plump cherry rounded woody note',\n",
       "       'deep color spicy smoky full bodied packed blackberry blueberry grilled beef spicy cardamom smoke give bold hard deny',\n",
       "       'cooperative based aÿ benefited fine pinot noir produce ripe red fruited balanced acidity soft aftertaste ready',\n",
       "       'vanilla char toast lead creamy stone canned corn provides appeal oak',\n",
       "       'oak defines robustly dense extracted red swimming vanilla cherry full bodied gravelly texture rustically pleasant pizza night crowd',\n",
       "       'black skinned leather underbrush briny carry lean somewhat disjointed along suggestion licorice raw red cherry grainy tannin leave drying finish',\n",
       "       'juicy plum raspberry pencil lead lead designate foot tobacco meet full bodied hit oak puckering tannin still youthfully wrapped full bodied boldness',\n",
       "       'producer plum tart cranberry add overall sense lightness understatement',\n",
       "       'equal part cabernet franc merlot small addition juicy reveals raisiny quality ripeness around integrated oak generous tannin',\n",
       "       'earthy pollen mineral note lend savory tone sweet soft slightly pulpy intensified overripe tangerine stone',\n",
       "       'bodied feature pineapple roasted cashew similar note ripe pineapple nut ease rather soft finish',\n",
       "       'rosés simply bleeding juice fermenter concentrate remaining whether simple pleasant candied strawberry might expect technique',\n",
       "       'sandy typically soft open accessible—with black tannin grape ready',\n",
       "       'caramelized oak vanilla front center heavy nose feel bit choppy astringent tannin herbal salty plum wear oaky makeup finish forced woody',\n",
       "       'bland mature white weak albariño feel oily briny leesy lack pop precision grabby finish short flow grape region known immediately wait newer vintage',\n",
       "       'sweet immediately attractive ripe apricot pineapple hint spicy wood balancing acidity perfect apéritif—light refreshing',\n",
       "       'pale copper hue exudes nose delivers nuance well crisp racy body perfectly suited summertime refreshment',\n",
       "       'healthy addition sirah provides added weight intensity soft supple richly combination smoky black mocha',\n",
       "       'pronounced dust pollen earth tone lend savoriness otherwise citrusy racy acidity tangerine lemon herbal finish',\n",
       "       'vibrant ripe pear white flower melon followed dry lean',\n",
       "       'softened tannin surround bodied lean herbal approach designate dotted black leather baked cherry',\n",
       "       'subdued oak toast acacia waft rather lean oak driven spice chopped herb hint citrus set racy acidity rather shy richness',\n",
       "       'primarily malvasia white red berry yeasty whiff bread dough bright enjoyable ripe cherry hint pastry cream honeydew melon mark close',\n",
       "       'blend cabernet sauvignon sirah variety play well type show wealth ripe dusty black richly soft approachable',\n",
       "       'touch perceptible sweetness tropical nose yet taste dry showing straightforward approach crisp variety apricot melon guava wrap around lightness body texture',\n",
       "       'red bordeaux variety represented blend except together simple tannic structure chewiness leather tobacco touch full bodied ripe bold brawny',\n",
       "       'freshness characterizes nose pear ivy leaf citrus note nose footed drinking charming soon',\n",
       "       'note prominent creamsicle baking spice broad dry stone provides intrigue wood get time',\n",
       "       'dense packed tannin acidity brings ageworthiness potential mineral texture concentrated',\n",
       "       'come followed negociant ripe attractive red berry finished crisp acidity accessible ready',\n",
       "       'wisp bramble extends savory tone nose finish otherwise bright bristling delicate honey tone register dry balance neatly alongside freshly apple pear finish marked touch pencil lead',\n",
       "       'floor menthol espresso cranberry violet take shape lean linear show dried sour cherry licorice coffee bean alongside assertive close grained tannin even tannin still firm sooner rather later capture remaining',\n",
       "       'blend five red bordeaux variety showing grapy plummy juicy soft tobacco tar graphite complement savory ending simply elegantly'],\n",
       "      dtype='object', name='lemmat_desc')"
      ]
     },
     "execution_count": 733,
     "metadata": {},
     "output_type": "execute_result"
    }
   ],
   "source": [
    "a.index"
   ]
  },
  {
   "cell_type": "code",
   "execution_count": null,
   "metadata": {},
   "outputs": [],
   "source": []
  }
 ],
 "metadata": {
  "kernelspec": {
   "display_name": "Python [conda env:metis] *",
   "language": "python",
   "name": "conda-env-metis-py"
  },
  "language_info": {
   "codemirror_mode": {
    "name": "ipython",
    "version": 3
   },
   "file_extension": ".py",
   "mimetype": "text/x-python",
   "name": "python",
   "nbconvert_exporter": "python",
   "pygments_lexer": "ipython3",
   "version": "3.7.4"
  }
 },
 "nbformat": 4,
 "nbformat_minor": 2
}
