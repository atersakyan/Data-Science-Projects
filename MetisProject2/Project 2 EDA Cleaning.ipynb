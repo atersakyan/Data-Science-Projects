{
 "cells": [
  {
   "cell_type": "raw",
   "metadata": {},
   "source": [
    "Cleaning and general EDA notebook"
   ]
  },
  {
   "cell_type": "code",
   "execution_count": 2,
   "metadata": {},
   "outputs": [
    {
     "name": "stderr",
     "output_type": "stream",
     "text": [
      "/anaconda3/lib/python3.7/site-packages/statsmodels/compat/pandas.py:49: FutureWarning: The Panel class is removed from pandas. Accessing it from the top-level namespace will also be removed in the next version\n",
      "  data_klasses = (pandas.Series, pandas.DataFrame, pandas.Panel)\n"
     ]
    }
   ],
   "source": [
    "# Import packages\n",
    "import pandas as pd\n",
    "import numpy as np\n",
    "import seaborn as sns\n",
    "import patsy\n",
    "import scipy.stats as stats\n",
    "import pickle\n",
    "\n",
    "import statsmodels.api as sm\n",
    "import statsmodels.formula.api as smf\n",
    "from sklearn import preprocessing\n",
    "from sklearn.linear_model import LinearRegression\n",
    "import matplotlib.pyplot as plt\n",
    "%matplotlib inline"
   ]
  },
  {
   "cell_type": "markdown",
   "metadata": {},
   "source": [
    "# Valence list imports"
   ]
  },
  {
   "cell_type": "code",
   "execution_count": 3,
   "metadata": {},
   "outputs": [],
   "source": [
    "# Import valence datasets. These are txt files with large lists of pos/neg valence words. Will use these lists as a way to check the valence of rental descriptions\n",
    "pos_valence_data = pd.read_csv(\n",
    "    '/Users/alentersakyan/GitHub/Metis-Project-2/Pos_Valence.txt')\n",
    "neg_valence_data = pd.read_csv(\n",
    "    '/Users/alentersakyan/GitHub/Metis-Project-2/Neg_Valence.txt')"
   ]
  },
  {
   "cell_type": "code",
   "execution_count": 4,
   "metadata": {},
   "outputs": [
    {
     "name": "stdout",
     "output_type": "stream",
     "text": [
      "  Positive Words\n",
      "0             a+\n",
      "1         abound\n",
      "2        abounds\n",
      "3      abundance\n",
      "4       abundant\n",
      "  Negative Words\n",
      "0        2-faced\n",
      "1        2-faces\n",
      "2       abnormal\n",
      "3        abolish\n",
      "4     abominable\n"
     ]
    }
   ],
   "source": [
    "# Examine valence datasets to ensure correct parsing\n",
    "print(pos_valence_data.head())\n",
    "print(neg_valence_data.head())"
   ]
  },
  {
   "cell_type": "code",
   "execution_count": 7,
   "metadata": {},
   "outputs": [],
   "source": [
    "# Import main dataset\n",
    "df = pd.read_csv('/Users/alentersakyan/GitHub/Metis-Project-2/data.csv')"
   ]
  },
  {
   "cell_type": "code",
   "execution_count": 8,
   "metadata": {},
   "outputs": [],
   "source": [
    "# # To load pickle back in\n",
    "# with open('nyc_df_final.pickle','rb') as read_file:\n",
    "#       df = pickle.load(read_file)"
   ]
  },
  {
   "cell_type": "code",
   "execution_count": 5,
   "metadata": {},
   "outputs": [
    {
     "data": {
      "text/plain": [
       "Index(['id', 'log_price', 'property_type', 'room_type', 'amenities',\n",
       "       'accommodates', 'bathrooms', 'bed_type', 'cancellation_policy',\n",
       "       'cleaning_fee', 'city', 'description', 'first_review',\n",
       "       'host_has_profile_pic', 'host_identity_verified', 'host_response_rate',\n",
       "       'host_since', 'instant_bookable', 'last_review', 'latitude',\n",
       "       'longitude', 'name', 'neighbourhood', 'number_of_reviews',\n",
       "       'review_scores_rating', 'thumbnail_url', 'zipcode', 'bedrooms', 'beds'],\n",
       "      dtype='object')"
      ]
     },
     "execution_count": 5,
     "metadata": {},
     "output_type": "execute_result"
    }
   ],
   "source": [
    "df.columns"
   ]
  },
  {
   "cell_type": "code",
   "execution_count": 7,
   "metadata": {},
   "outputs": [
    {
     "data": {
      "text/plain": [
       "strict             32374\n",
       "flexible           22545\n",
       "moderate           19063\n",
       "super_strict_30      112\n",
       "super_strict_60       17\n",
       "Name: cancellation_policy, dtype: int64"
      ]
     },
     "execution_count": 7,
     "metadata": {},
     "output_type": "execute_result"
    }
   ],
   "source": [
    "df.cancellation_policy.value_counts()"
   ]
  },
  {
   "cell_type": "code",
   "execution_count": 8,
   "metadata": {},
   "outputs": [],
   "source": [
    "#df.latitude"
   ]
  },
  {
   "cell_type": "code",
   "execution_count": 9,
   "metadata": {},
   "outputs": [
    {
     "data": {
      "text/plain": [
       "NYC        32349\n",
       "LA         22453\n",
       "SF          6434\n",
       "DC          5688\n",
       "Chicago     3719\n",
       "Boston      3468\n",
       "Name: city, dtype: int64"
      ]
     },
     "execution_count": 9,
     "metadata": {},
     "output_type": "execute_result"
    }
   ],
   "source": [
    "df.city.value_counts()"
   ]
  },
  {
   "cell_type": "markdown",
   "metadata": {},
   "source": [
    "# Select only NYC"
   ]
  },
  {
   "cell_type": "code",
   "execution_count": 10,
   "metadata": {},
   "outputs": [
    {
     "data": {
      "text/plain": [
       "(32349, 29)"
      ]
     },
     "execution_count": 10,
     "metadata": {},
     "output_type": "execute_result"
    }
   ],
   "source": [
    "nyc_df = df[df['city'] == 'NYC']\n",
    "nyc_df.shape"
   ]
  },
  {
   "cell_type": "markdown",
   "metadata": {},
   "source": [
    "#### Which features do I want to work with? Which ones are problematic?"
   ]
  },
  {
   "cell_type": "code",
   "execution_count": 11,
   "metadata": {
    "scrolled": true
   },
   "outputs": [
    {
     "name": "stdout",
     "output_type": "stream",
     "text": [
      "<class 'pandas.core.frame.DataFrame'>\n",
      "Int64Index: 32349 entries, 0 to 74109\n",
      "Data columns (total 29 columns):\n",
      "id                        32349 non-null int64\n",
      "log_price                 32349 non-null float64\n",
      "property_type             32349 non-null object\n",
      "room_type                 32349 non-null object\n",
      "amenities                 32349 non-null object\n",
      "accommodates              32349 non-null int64\n",
      "bathrooms                 32250 non-null float64\n",
      "bed_type                  32349 non-null object\n",
      "cancellation_policy       32349 non-null object\n",
      "cleaning_fee              32349 non-null bool\n",
      "city                      32349 non-null object\n",
      "description               32349 non-null object\n",
      "first_review              25491 non-null object\n",
      "host_has_profile_pic      32173 non-null object\n",
      "host_identity_verified    32173 non-null object\n",
      "host_response_rate        22389 non-null object\n",
      "host_since                32173 non-null object\n",
      "instant_bookable          32349 non-null object\n",
      "last_review               25517 non-null object\n",
      "latitude                  32349 non-null float64\n",
      "longitude                 32349 non-null float64\n",
      "name                      32349 non-null object\n",
      "neighbourhood             32341 non-null object\n",
      "number_of_reviews         32349 non-null int64\n",
      "review_scores_rating      25028 non-null float64\n",
      "thumbnail_url             29934 non-null object\n",
      "zipcode                   31903 non-null object\n",
      "bedrooms                  32302 non-null float64\n",
      "beds                      32284 non-null float64\n",
      "dtypes: bool(1), float64(7), int64(3), object(18)\n",
      "memory usage: 7.2+ MB\n"
     ]
    }
   ],
   "source": [
    "nyc_df.info()"
   ]
  },
  {
   "cell_type": "code",
   "execution_count": 12,
   "metadata": {},
   "outputs": [
    {
     "data": {
      "text/html": [
       "<div>\n",
       "<style scoped>\n",
       "    .dataframe tbody tr th:only-of-type {\n",
       "        vertical-align: middle;\n",
       "    }\n",
       "\n",
       "    .dataframe tbody tr th {\n",
       "        vertical-align: top;\n",
       "    }\n",
       "\n",
       "    .dataframe thead th {\n",
       "        text-align: right;\n",
       "    }\n",
       "</style>\n",
       "<table border=\"1\" class=\"dataframe\">\n",
       "  <thead>\n",
       "    <tr style=\"text-align: right;\">\n",
       "      <th></th>\n",
       "      <th>unique</th>\n",
       "    </tr>\n",
       "  </thead>\n",
       "  <tbody>\n",
       "    <tr>\n",
       "      <td>property_type</td>\n",
       "      <td>[Apartment, House, Loft, Hostel, Condominium, Townhouse, Other, Bed &amp; Breakfast, Timeshare, Serviced apartment, Guesthouse, Bungalow, Boutique hotel, Guest suite, Boat, Villa, Dorm, Vacation home, In-law, Chalet, Yurt, Cabin, Tent, Earth House, Castle]</td>\n",
       "    </tr>\n",
       "    <tr>\n",
       "      <td>room_type</td>\n",
       "      <td>[Entire home/apt, Private room, Shared room]</td>\n",
       "    </tr>\n",
       "    <tr>\n",
       "      <td>bed_type</td>\n",
       "      <td>[Real Bed, Futon, Pull-out Sofa, Airbed, Couch]</td>\n",
       "    </tr>\n",
       "    <tr>\n",
       "      <td>cancellation_policy</td>\n",
       "      <td>[strict, moderate, flexible, super_strict_30, super_strict_60]</td>\n",
       "    </tr>\n",
       "    <tr>\n",
       "      <td>cleaning_fee</td>\n",
       "      <td>[True, False]</td>\n",
       "    </tr>\n",
       "    <tr>\n",
       "      <td>city</td>\n",
       "      <td>[NYC]</td>\n",
       "    </tr>\n",
       "    <tr>\n",
       "      <td>host_has_profile_pic</td>\n",
       "      <td>[t, nan, f]</td>\n",
       "    </tr>\n",
       "    <tr>\n",
       "      <td>host_identity_verified</td>\n",
       "      <td>[t, f, nan]</td>\n",
       "    </tr>\n",
       "    <tr>\n",
       "      <td>host_response_rate</td>\n",
       "      <td>[nan, 100%, 71%, 68%, 67%, 90%, 86%, 92%, 80%, 89%, 0%, 50%, 70%, 25%, 29%, 93%, 33%, 81%, 63%, 38%, 60%, 88%, 78%, 75%, 95%, 97%, 94%, 40%, 58%, 76%, 91%, 79%, 82%, 30%, 83%, 87%, 99%, 17%, 20%, 77%, 96%, 73%, 98%, 59%, 57%, 64%, 56%, 44%, 74%, 27%, 6%, 85%, 10%, 55%, 43%, 14%, 84%, 46%, 26%, 53%, 65%, 52%, 22%, 69%, 66%, 15%, 61%, 41%, 72%, 54%, 35%, 36%, 62%, 21%, 47%]</td>\n",
       "    </tr>\n",
       "    <tr>\n",
       "      <td>instant_bookable</td>\n",
       "      <td>[f, t]</td>\n",
       "    </tr>\n",
       "    <tr>\n",
       "      <td>neighbourhood</td>\n",
       "      <td>[Brooklyn Heights, Hell's Kitchen, Harlem, Alphabet City, Lower East Side, Flatbush, East Flatbush, Jamaica, Forest Hills, Murray Hill, Lefferts Garden, Brownsville, Williamsburg, East Village, Upper East Side, Bushwick, Bedford-Stuyvesant, Chelsea, Greenwich Village, Washington Heights, Midtown East, Park Slope, West Village, Astoria, East Harlem, Morningside Heights, Tribeca, Financial District, Gramercy Park, Sunset Park, Upper West Side, Greenpoint, Prospect Heights, Gravesend, Flushing, Midtown, Soho, Roosevelt Island, Soundview, Crown Heights, Gowanus, Boerum Hill, Greenwood Heights, Chinatown, Sunnyside, Windsor Terrace, Sheepshead Bay, Clinton Hill, Westerleigh, Ridgewood, Battery Park City, The Rockaways, Downtown Brooklyn, Midwood, Fort Greene, Flatiron District, Bay Ridge, Inwood, Kips Bay, Eastchester, Long Island City, Hamilton Heights, Carroll Gardens, Rego Park, Bayside, Mott Haven, Jackson Heights, Hudson Square, Marine Park, Little Italy, Fort Wadsworth, Bensonhurst, South Street Seaport, East New York, Union Square, Castleton Corners, Wakefield, Ozone Park, Noho, Canarsie, Columbia Street Waterfront, Maspeth, Fordham, St. George, Stapleton, Brooklyn Navy Yard, Nolita, University Heights, Times Square/Theatre District, Kensington, Ditmars / Steinway, Mount Eden, Flatlands, Red Hook, Claremont, Brighton Beach, Woodhaven, Civic Center, Hunts Point, Kew Garden Hills, ...]</td>\n",
       "    </tr>\n",
       "  </tbody>\n",
       "</table>\n",
       "</div>"
      ],
      "text/plain": [
       "                                                                                                                                                                                                                                                                                                                                                                                                                                                                                                                                                                                                                                                                                                                                                                                                                                                                                                                                                                                                                                                                                                                                                                                                                                                                                                                                                                                                                                                                                  unique\n",
       "property_type           [Apartment, House, Loft, Hostel, Condominium, Townhouse, Other, Bed & Breakfast, Timeshare, Serviced apartment, Guesthouse, Bungalow, Boutique hotel, Guest suite, Boat, Villa, Dorm, Vacation home, In-law, Chalet, Yurt, Cabin, Tent, Earth House, Castle]                                                                                                                                                                                                                                                                                                                                                                                                                                                                                                                                                                                                                                                                                                                                                                                                                                                                                                                                                                                                                                                                                                                                                                                                    \n",
       "room_type               [Entire home/apt, Private room, Shared room]                                                                                                                                                                                                                                                                                                                                                                                                                                                                                                                                                                                                                                                                                                                                                                                                                                                                                                                                                                                                                                                                                                                                                                                                                                                                                                                                                                                                                    \n",
       "bed_type                [Real Bed, Futon, Pull-out Sofa, Airbed, Couch]                                                                                                                                                                                                                                                                                                                                                                                                                                                                                                                                                                                                                                                                                                                                                                                                                                                                                                                                                                                                                                                                                                                                                                                                                                                                                                                                                                                                                 \n",
       "cancellation_policy     [strict, moderate, flexible, super_strict_30, super_strict_60]                                                                                                                                                                                                                                                                                                                                                                                                                                                                                                                                                                                                                                                                                                                                                                                                                                                                                                                                                                                                                                                                                                                                                                                                                                                                                                                                                                                                  \n",
       "cleaning_fee            [True, False]                                                                                                                                                                                                                                                                                                                                                                                                                                                                                                                                                                                                                                                                                                                                                                                                                                                                                                                                                                                                                                                                                                                                                                                                                                                                                                                                                                                                                                                   \n",
       "city                    [NYC]                                                                                                                                                                                                                                                                                                                                                                                                                                                                                                                                                                                                                                                                                                                                                                                                                                                                                                                                                                                                                                                                                                                                                                                                                                                                                                                                                                                                                                                           \n",
       "host_has_profile_pic    [t, nan, f]                                                                                                                                                                                                                                                                                                                                                                                                                                                                                                                                                                                                                                                                                                                                                                                                                                                                                                                                                                                                                                                                                                                                                                                                                                                                                                                                                                                                                                                     \n",
       "host_identity_verified  [t, f, nan]                                                                                                                                                                                                                                                                                                                                                                                                                                                                                                                                                                                                                                                                                                                                                                                                                                                                                                                                                                                                                                                                                                                                                                                                                                                                                                                                                                                                                                                     \n",
       "host_response_rate      [nan, 100%, 71%, 68%, 67%, 90%, 86%, 92%, 80%, 89%, 0%, 50%, 70%, 25%, 29%, 93%, 33%, 81%, 63%, 38%, 60%, 88%, 78%, 75%, 95%, 97%, 94%, 40%, 58%, 76%, 91%, 79%, 82%, 30%, 83%, 87%, 99%, 17%, 20%, 77%, 96%, 73%, 98%, 59%, 57%, 64%, 56%, 44%, 74%, 27%, 6%, 85%, 10%, 55%, 43%, 14%, 84%, 46%, 26%, 53%, 65%, 52%, 22%, 69%, 66%, 15%, 61%, 41%, 72%, 54%, 35%, 36%, 62%, 21%, 47%]                                                                                                                                                                                                                                                                                                                                                                                                                                                                                                                                                                                                                                                                                                                                                                                                                                                                                                                                                                                                                                                                          \n",
       "instant_bookable        [f, t]                                                                                                                                                                                                                                                                                                                                                                                                                                                                                                                                                                                                                                                                                                                                                                                                                                                                                                                                                                                                                                                                                                                                                                                                                                                                                                                                                                                                                                                          \n",
       "neighbourhood           [Brooklyn Heights, Hell's Kitchen, Harlem, Alphabet City, Lower East Side, Flatbush, East Flatbush, Jamaica, Forest Hills, Murray Hill, Lefferts Garden, Brownsville, Williamsburg, East Village, Upper East Side, Bushwick, Bedford-Stuyvesant, Chelsea, Greenwich Village, Washington Heights, Midtown East, Park Slope, West Village, Astoria, East Harlem, Morningside Heights, Tribeca, Financial District, Gramercy Park, Sunset Park, Upper West Side, Greenpoint, Prospect Heights, Gravesend, Flushing, Midtown, Soho, Roosevelt Island, Soundview, Crown Heights, Gowanus, Boerum Hill, Greenwood Heights, Chinatown, Sunnyside, Windsor Terrace, Sheepshead Bay, Clinton Hill, Westerleigh, Ridgewood, Battery Park City, The Rockaways, Downtown Brooklyn, Midwood, Fort Greene, Flatiron District, Bay Ridge, Inwood, Kips Bay, Eastchester, Long Island City, Hamilton Heights, Carroll Gardens, Rego Park, Bayside, Mott Haven, Jackson Heights, Hudson Square, Marine Park, Little Italy, Fort Wadsworth, Bensonhurst, South Street Seaport, East New York, Union Square, Castleton Corners, Wakefield, Ozone Park, Noho, Canarsie, Columbia Street Waterfront, Maspeth, Fordham, St. George, Stapleton, Brooklyn Navy Yard, Nolita, University Heights, Times Square/Theatre District, Kensington, Ditmars / Steinway, Mount Eden, Flatlands, Red Hook, Claremont, Brighton Beach, Woodhaven, Civic Center, Hunts Point, Kew Garden Hills, ...]"
      ]
     },
     "execution_count": 12,
     "metadata": {},
     "output_type": "execute_result"
    }
   ],
   "source": [
    "pd.set_option('display.max_colwidth', 0)\n",
    "nyc_df[['property_type','room_type','bed_type','cancellation_policy',\n",
    "      'cleaning_fee','city','host_has_profile_pic','host_identity_verified',\n",
    "     'host_response_rate','instant_bookable','neighbourhood']].agg(['unique']).transpose()"
   ]
  },
  {
   "cell_type": "markdown",
   "metadata": {},
   "source": [
    "# Examine each feature a little closer"
   ]
  },
  {
   "cell_type": "code",
   "execution_count": 13,
   "metadata": {},
   "outputs": [
    {
     "data": {
      "text/plain": [
       "count    32349.000000\n",
       "mean     4.719340    \n",
       "std      0.661567    \n",
       "min      0.000000    \n",
       "25%      4.248495    \n",
       "50%      4.653960    \n",
       "75%      5.164786    \n",
       "max      7.600402    \n",
       "Name: log_price, dtype: float64"
      ]
     },
     "execution_count": 13,
     "metadata": {},
     "output_type": "execute_result"
    }
   ],
   "source": [
    "# There is a zero price-- need to delete\n",
    "# anti log is 10 ^ log price to get original\n",
    "nyc_df.log_price.describe()"
   ]
  },
  {
   "cell_type": "code",
   "execution_count": 14,
   "metadata": {},
   "outputs": [
    {
     "name": "stderr",
     "output_type": "stream",
     "text": [
      "/anaconda3/envs/metis/lib/python3.7/site-packages/ipykernel_launcher.py:1: SettingWithCopyWarning: \n",
      "A value is trying to be set on a copy of a slice from a DataFrame.\n",
      "Try using .loc[row_indexer,col_indexer] = value instead\n",
      "\n",
      "See the caveats in the documentation: http://pandas.pydata.org/pandas-docs/stable/user_guide/indexing.html#returning-a-view-versus-a-copy\n",
      "  \"\"\"Entry point for launching an IPython kernel.\n"
     ]
    },
    {
     "data": {
      "text/plain": [
       "count    32348.000000\n",
       "mean     4.719486    \n",
       "std      0.661057    \n",
       "min      1.609438    \n",
       "25%      4.248495    \n",
       "50%      4.653960    \n",
       "75%      5.164786    \n",
       "max      7.600402    \n",
       "Name: log_price, dtype: float64"
      ]
     },
     "execution_count": 14,
     "metadata": {},
     "output_type": "execute_result"
    }
   ],
   "source": [
    "nyc_df['log_price'] = nyc_df['log_price'][(nyc_df['log_price'] != 0)] # drop zeros\n",
    "nyc_df.log_price.describe()"
   ]
  },
  {
   "cell_type": "markdown",
   "metadata": {},
   "source": [
    "# Combine random property types to \"other\""
   ]
  },
  {
   "cell_type": "code",
   "execution_count": 15,
   "metadata": {},
   "outputs": [
    {
     "data": {
      "text/plain": [
       "Apartment             27485\n",
       "House                 2690 \n",
       "Loft                  631  \n",
       "Townhouse             598  \n",
       "Condominium           425  \n",
       "Other                 204  \n",
       "Bed & Breakfast       95   \n",
       "Timeshare             44   \n",
       "Guest suite           39   \n",
       "Guesthouse            32   \n",
       "Boutique hotel        16   \n",
       "Hostel                16   \n",
       "Dorm                  15   \n",
       "Villa                 13   \n",
       "Bungalow              12   \n",
       "Serviced apartment    8    \n",
       "Boat                  6    \n",
       "Vacation home         6    \n",
       "In-law                4    \n",
       "Chalet                3    \n",
       "Cabin                 3    \n",
       "Earth House           1    \n",
       "Yurt                  1    \n",
       "Tent                  1    \n",
       "Castle                1    \n",
       "Name: property_type, dtype: int64"
      ]
     },
     "execution_count": 15,
     "metadata": {},
     "output_type": "execute_result"
    }
   ],
   "source": [
    "# Lots of kinds of properties so I need to combine a few. Tons in apartment cat, so won't add things to that,\n",
    "# but rather add to \"other\" category\n",
    "nyc_df['property_type'].value_counts()"
   ]
  },
  {
   "cell_type": "code",
   "execution_count": 16,
   "metadata": {},
   "outputs": [],
   "source": [
    "property_dict = {'Other': ['Other', 'Loft', 'Townhouse', 'Condominium', 'Bed & Breakfast', 'Timeshare', 'Guest suite', \\\n",
    "                          'Guesthouse', 'Hostel', 'Boutique hotel', 'Dorm', 'Villa', 'Bungalow', 'Serviced apartment', \\\n",
    "                          'Vacation home', 'Boat', 'In-law', 'Chalet', 'Cabin', 'Castle', 'Yurt', 'Tent', 'Earth House']}"
   ]
  },
  {
   "cell_type": "code",
   "execution_count": 17,
   "metadata": {},
   "outputs": [],
   "source": [
    "# Renaming everything from property_dict to \"Other\"\n",
    "# First loop through k,v in prop dict, then for items within the values, then set items to key ('Other')\n",
    "dict2 = {i : k for k, v in property_dict.items() for i in v}"
   ]
  },
  {
   "cell_type": "code",
   "execution_count": 18,
   "metadata": {
    "collapsed": true
   },
   "outputs": [
    {
     "data": {
      "text/plain": [
       "{'Other': 'Other',\n",
       " 'Loft': 'Other',\n",
       " 'Townhouse': 'Other',\n",
       " 'Condominium': 'Other',\n",
       " 'Bed & Breakfast': 'Other',\n",
       " 'Timeshare': 'Other',\n",
       " 'Guest suite': 'Other',\n",
       " 'Guesthouse': 'Other',\n",
       " 'Hostel': 'Other',\n",
       " 'Boutique hotel': 'Other',\n",
       " 'Dorm': 'Other',\n",
       " 'Villa': 'Other',\n",
       " 'Bungalow': 'Other',\n",
       " 'Serviced apartment': 'Other',\n",
       " 'Vacation home': 'Other',\n",
       " 'Boat': 'Other',\n",
       " 'In-law': 'Other',\n",
       " 'Chalet': 'Other',\n",
       " 'Cabin': 'Other',\n",
       " 'Castle': 'Other',\n",
       " 'Yurt': 'Other',\n",
       " 'Tent': 'Other',\n",
       " 'Earth House': 'Other'}"
      ]
     },
     "execution_count": 18,
     "metadata": {},
     "output_type": "execute_result"
    }
   ],
   "source": [
    "dict2"
   ]
  },
  {
   "cell_type": "code",
   "execution_count": 19,
   "metadata": {},
   "outputs": [
    {
     "name": "stderr",
     "output_type": "stream",
     "text": [
      "/anaconda3/envs/metis/lib/python3.7/site-packages/pandas/core/generic.py:6786: SettingWithCopyWarning: \n",
      "A value is trying to be set on a copy of a slice from a DataFrame\n",
      "\n",
      "See the caveats in the documentation: http://pandas.pydata.org/pandas-docs/stable/user_guide/indexing.html#returning-a-view-versus-a-copy\n",
      "  self._update_inplace(new_data)\n"
     ]
    }
   ],
   "source": [
    "# Apply name change to df\n",
    "nyc_df['property_type'].replace(dict2,inplace=True)"
   ]
  },
  {
   "cell_type": "code",
   "execution_count": 20,
   "metadata": {},
   "outputs": [
    {
     "data": {
      "text/plain": [
       "Apartment    27485\n",
       "House        2690 \n",
       "Other        2174 \n",
       "Name: property_type, dtype: int64"
      ]
     },
     "execution_count": 20,
     "metadata": {},
     "output_type": "execute_result"
    }
   ],
   "source": [
    "# Value counts to ensure we applied change correctly\n",
    "# Maybe in the end model apartments separately? \n",
    "nyc_df.property_type.value_counts()"
   ]
  },
  {
   "cell_type": "code",
   "execution_count": 21,
   "metadata": {},
   "outputs": [
    {
     "data": {
      "text/plain": [
       "Index(['id', 'log_price', 'property_type', 'room_type', 'amenities',\n",
       "       'accommodates', 'bathrooms', 'bed_type', 'cancellation_policy',\n",
       "       'cleaning_fee', 'city', 'description', 'first_review',\n",
       "       'host_has_profile_pic', 'host_identity_verified', 'host_response_rate',\n",
       "       'host_since', 'instant_bookable', 'last_review', 'latitude',\n",
       "       'longitude', 'name', 'neighbourhood', 'number_of_reviews',\n",
       "       'review_scores_rating', 'thumbnail_url', 'zipcode', 'bedrooms', 'beds'],\n",
       "      dtype='object')"
      ]
     },
     "execution_count": 21,
     "metadata": {},
     "output_type": "execute_result"
    }
   ],
   "source": [
    "nyc_df.columns"
   ]
  },
  {
   "cell_type": "markdown",
   "metadata": {},
   "source": [
    "# Remove spaces from bed_type"
   ]
  },
  {
   "cell_type": "code",
   "execution_count": 22,
   "metadata": {},
   "outputs": [
    {
     "data": {
      "text/plain": [
       "Real Bed         31414\n",
       "Futon            366  \n",
       "Pull-out Sofa    293  \n",
       "Airbed           185  \n",
       "Couch            91   \n",
       "Name: bed_type, dtype: int64"
      ]
     },
     "execution_count": 22,
     "metadata": {},
     "output_type": "execute_result"
    }
   ],
   "source": [
    "nyc_df.bed_type.value_counts()"
   ]
  },
  {
   "cell_type": "code",
   "execution_count": 23,
   "metadata": {},
   "outputs": [
    {
     "name": "stderr",
     "output_type": "stream",
     "text": [
      "/anaconda3/envs/metis/lib/python3.7/site-packages/pandas/core/generic.py:5208: SettingWithCopyWarning: \n",
      "A value is trying to be set on a copy of a slice from a DataFrame.\n",
      "Try using .loc[row_indexer,col_indexer] = value instead\n",
      "\n",
      "See the caveats in the documentation: http://pandas.pydata.org/pandas-docs/stable/user_guide/indexing.html#returning-a-view-versus-a-copy\n",
      "  self[name] = value\n"
     ]
    }
   ],
   "source": [
    "nyc_df.bed_type = nyc_df.bed_type.str.replace(' ', '_')"
   ]
  },
  {
   "cell_type": "code",
   "execution_count": 24,
   "metadata": {},
   "outputs": [
    {
     "data": {
      "text/plain": [
       "Real_Bed         31414\n",
       "Futon            366  \n",
       "Pull-out_Sofa    293  \n",
       "Airbed           185  \n",
       "Couch            91   \n",
       "Name: bed_type, dtype: int64"
      ]
     },
     "execution_count": 24,
     "metadata": {},
     "output_type": "execute_result"
    }
   ],
   "source": [
    "nyc_df.bed_type.value_counts()"
   ]
  },
  {
   "cell_type": "code",
   "execution_count": 25,
   "metadata": {},
   "outputs": [
    {
     "data": {
      "text/plain": [
       "Entire home/apt    16243\n",
       "Private room       15299\n",
       "Shared room        807  \n",
       "Name: room_type, dtype: int64"
      ]
     },
     "execution_count": 25,
     "metadata": {},
     "output_type": "execute_result"
    }
   ],
   "source": [
    "nyc_df.room_type.value_counts()"
   ]
  },
  {
   "cell_type": "markdown",
   "metadata": {},
   "source": [
    "# Remove spaces from room type variables"
   ]
  },
  {
   "cell_type": "code",
   "execution_count": 26,
   "metadata": {},
   "outputs": [
    {
     "name": "stderr",
     "output_type": "stream",
     "text": [
      "/anaconda3/envs/metis/lib/python3.7/site-packages/ipykernel_launcher.py:1: SettingWithCopyWarning: \n",
      "A value is trying to be set on a copy of a slice from a DataFrame.\n",
      "Try using .loc[row_indexer,col_indexer] = value instead\n",
      "\n",
      "See the caveats in the documentation: http://pandas.pydata.org/pandas-docs/stable/user_guide/indexing.html#returning-a-view-versus-a-copy\n",
      "  \"\"\"Entry point for launching an IPython kernel.\n"
     ]
    }
   ],
   "source": [
    "nyc_df['room_type'] = nyc_df['room_type'].str.replace(' ', '_')"
   ]
  },
  {
   "cell_type": "code",
   "execution_count": 27,
   "metadata": {},
   "outputs": [
    {
     "data": {
      "text/plain": [
       "Entire_home/apt    16243\n",
       "Private_room       15299\n",
       "Shared_room        807  \n",
       "Name: room_type, dtype: int64"
      ]
     },
     "execution_count": 27,
     "metadata": {},
     "output_type": "execute_result"
    }
   ],
   "source": [
    "nyc_df.room_type.value_counts()"
   ]
  },
  {
   "cell_type": "code",
   "execution_count": 28,
   "metadata": {},
   "outputs": [
    {
     "data": {
      "text/plain": [
       "count    32349.000000\n",
       "mean     18.121209   \n",
       "std      32.852804   \n",
       "min      0.000000    \n",
       "25%      1.000000    \n",
       "50%      5.000000    \n",
       "75%      20.000000   \n",
       "max      474.000000  \n",
       "Name: number_of_reviews, dtype: float64"
      ]
     },
     "execution_count": 28,
     "metadata": {},
     "output_type": "execute_result"
    }
   ],
   "source": [
    "nyc_df.number_of_reviews.describe()"
   ]
  },
  {
   "cell_type": "code",
   "execution_count": 29,
   "metadata": {},
   "outputs": [
    {
     "data": {
      "text/plain": [
       "Apartment    27485\n",
       "House        2690 \n",
       "Other        2174 \n",
       "Name: property_type, dtype: int64"
      ]
     },
     "execution_count": 29,
     "metadata": {},
     "output_type": "execute_result"
    }
   ],
   "source": [
    "nyc_df.property_type.value_counts()"
   ]
  },
  {
   "cell_type": "code",
   "execution_count": 30,
   "metadata": {
    "collapsed": true
   },
   "outputs": [
    {
     "name": "stdout",
     "output_type": "stream",
     "text": [
      "<class 'pandas.core.frame.DataFrame'>\n",
      "Int64Index: 32349 entries, 0 to 74109\n",
      "Data columns (total 29 columns):\n",
      "id                        32349 non-null int64\n",
      "log_price                 32348 non-null float64\n",
      "property_type             32349 non-null object\n",
      "room_type                 32349 non-null object\n",
      "amenities                 32349 non-null object\n",
      "accommodates              32349 non-null int64\n",
      "bathrooms                 32250 non-null float64\n",
      "bed_type                  32349 non-null object\n",
      "cancellation_policy       32349 non-null object\n",
      "cleaning_fee              32349 non-null bool\n",
      "city                      32349 non-null object\n",
      "description               32349 non-null object\n",
      "first_review              25491 non-null object\n",
      "host_has_profile_pic      32173 non-null object\n",
      "host_identity_verified    32173 non-null object\n",
      "host_response_rate        22389 non-null object\n",
      "host_since                32173 non-null object\n",
      "instant_bookable          32349 non-null object\n",
      "last_review               25517 non-null object\n",
      "latitude                  32349 non-null float64\n",
      "longitude                 32349 non-null float64\n",
      "name                      32349 non-null object\n",
      "neighbourhood             32341 non-null object\n",
      "number_of_reviews         32349 non-null int64\n",
      "review_scores_rating      25028 non-null float64\n",
      "thumbnail_url             29934 non-null object\n",
      "zipcode                   31903 non-null object\n",
      "bedrooms                  32302 non-null float64\n",
      "beds                      32284 non-null float64\n",
      "dtypes: bool(1), float64(7), int64(3), object(18)\n",
      "memory usage: 7.2+ MB\n"
     ]
    }
   ],
   "source": [
    "nyc_df.info()"
   ]
  },
  {
   "cell_type": "code",
   "execution_count": 31,
   "metadata": {},
   "outputs": [
    {
     "data": {
      "text/plain": [
       "True     22889\n",
       "False    9460 \n",
       "Name: cleaning_fee, dtype: int64"
      ]
     },
     "execution_count": 31,
     "metadata": {},
     "output_type": "execute_result"
    }
   ],
   "source": [
    "nyc_df.cleaning_fee.value_counts()"
   ]
  },
  {
   "cell_type": "markdown",
   "metadata": {},
   "source": [
    "# Most hosts have prof pic so won't put in model"
   ]
  },
  {
   "cell_type": "code",
   "execution_count": 1,
   "metadata": {
    "collapsed": true
   },
   "outputs": [
    {
     "ename": "NameError",
     "evalue": "name 'nyc_df' is not defined",
     "output_type": "error",
     "traceback": [
      "\u001b[0;31m---------------------------------------------------------------------------\u001b[0m",
      "\u001b[0;31mNameError\u001b[0m                                 Traceback (most recent call last)",
      "\u001b[0;32m<ipython-input-1-d0c3189b2741>\u001b[0m in \u001b[0;36m<module>\u001b[0;34m\u001b[0m\n\u001b[1;32m      1\u001b[0m \u001b[0;31m# Most of them have profile pic so likely will not use this\u001b[0m\u001b[0;34m\u001b[0m\u001b[0;34m\u001b[0m\u001b[0;34m\u001b[0m\u001b[0m\n\u001b[0;32m----> 2\u001b[0;31m \u001b[0mnyc_df\u001b[0m\u001b[0;34m.\u001b[0m\u001b[0mhost_has_profile_pic\u001b[0m\u001b[0;34m.\u001b[0m\u001b[0mvalue_counts\u001b[0m\u001b[0;34m(\u001b[0m\u001b[0;34m)\u001b[0m\u001b[0;34m\u001b[0m\u001b[0;34m\u001b[0m\u001b[0m\n\u001b[0m",
      "\u001b[0;31mNameError\u001b[0m: name 'nyc_df' is not defined"
     ]
    }
   ],
   "source": [
    "# Most of them have profile pic so likely will not use this\n",
    "nyc_df.host_has_profile_pic.value_counts()"
   ]
  },
  {
   "cell_type": "code",
   "execution_count": 33,
   "metadata": {},
   "outputs": [
    {
     "name": "stderr",
     "output_type": "stream",
     "text": [
      "/anaconda3/envs/metis/lib/python3.7/site-packages/pandas/core/generic.py:6287: SettingWithCopyWarning: \n",
      "A value is trying to be set on a copy of a slice from a DataFrame\n",
      "\n",
      "See the caveats in the documentation: http://pandas.pydata.org/pandas-docs/stable/user_guide/indexing.html#returning-a-view-versus-a-copy\n",
      "  self._update_inplace(new_data)\n"
     ]
    },
    {
     "data": {
      "text/plain": [
       "t    32076\n",
       "f    273  \n",
       "Name: host_has_profile_pic, dtype: int64"
      ]
     },
     "execution_count": 33,
     "metadata": {},
     "output_type": "execute_result"
    }
   ],
   "source": [
    "nyc_df['host_has_profile_pic'].fillna('f', inplace=True)\n",
    "nyc_df.host_has_profile_pic.value_counts()"
   ]
  },
  {
   "cell_type": "code",
   "execution_count": 34,
   "metadata": {},
   "outputs": [],
   "source": [
    "nyc_df['host_identity_verified'].fillna('f', inplace=True)"
   ]
  },
  {
   "cell_type": "code",
   "execution_count": 35,
   "metadata": {},
   "outputs": [
    {
     "data": {
      "text/plain": [
       "count    25028.000000\n",
       "mean     93.506553   \n",
       "std      8.200527    \n",
       "min      20.000000   \n",
       "25%      91.000000   \n",
       "50%      96.000000   \n",
       "75%      100.000000  \n",
       "max      100.000000  \n",
       "Name: review_scores_rating, dtype: float64"
      ]
     },
     "execution_count": 35,
     "metadata": {},
     "output_type": "execute_result"
    }
   ],
   "source": [
    "nyc_df['review_scores_rating'].describe()"
   ]
  },
  {
   "cell_type": "markdown",
   "metadata": {},
   "source": [
    "# Review score: Need to replace review scores with median before doing the > 70 cutoff"
   ]
  },
  {
   "cell_type": "markdown",
   "metadata": {},
   "source": [
    "Checked the median for each property_type (other, apt, house) to see if I could more efficiently impute median-- that is, could I apply median for each subgroup. They are 95,96,97 so no big diff. Will just impute group median"
   ]
  },
  {
   "cell_type": "code",
   "execution_count": 37,
   "metadata": {},
   "outputs": [
    {
     "name": "stdout",
     "output_type": "stream",
     "text": [
      "97.0\n",
      "96.0\n",
      "95.0\n",
      "96.0\n"
     ]
    }
   ],
   "source": [
    "print(nyc_df.review_scores_rating[nyc_df['property_type'] == 'Other'].median())\n",
    "print(nyc_df.review_scores_rating[nyc_df['property_type'] == 'Apartment'].median())\n",
    "print(nyc_df.review_scores_rating[nyc_df['property_type'] == 'House'].median())\n",
    "print(nyc_df['review_scores_rating'].median())"
   ]
  },
  {
   "cell_type": "code",
   "execution_count": 38,
   "metadata": {},
   "outputs": [],
   "source": [
    "nyc_df['review_scores_rating'].fillna(nyc_df['review_scores_rating'].median(), inplace=True)"
   ]
  },
  {
   "cell_type": "code",
   "execution_count": 39,
   "metadata": {},
   "outputs": [
    {
     "name": "stdout",
     "output_type": "stream",
     "text": [
      "<class 'pandas.core.frame.DataFrame'>\n",
      "Int64Index: 32349 entries, 0 to 74109\n",
      "Data columns (total 29 columns):\n",
      "id                        32349 non-null int64\n",
      "log_price                 32348 non-null float64\n",
      "property_type             32349 non-null object\n",
      "room_type                 32349 non-null object\n",
      "amenities                 32349 non-null object\n",
      "accommodates              32349 non-null int64\n",
      "bathrooms                 32250 non-null float64\n",
      "bed_type                  32349 non-null object\n",
      "cancellation_policy       32349 non-null object\n",
      "cleaning_fee              32349 non-null bool\n",
      "city                      32349 non-null object\n",
      "description               32349 non-null object\n",
      "first_review              25491 non-null object\n",
      "host_has_profile_pic      32349 non-null object\n",
      "host_identity_verified    32349 non-null object\n",
      "host_response_rate        22389 non-null object\n",
      "host_since                32173 non-null object\n",
      "instant_bookable          32349 non-null object\n",
      "last_review               25517 non-null object\n",
      "latitude                  32349 non-null float64\n",
      "longitude                 32349 non-null float64\n",
      "name                      32349 non-null object\n",
      "neighbourhood             32341 non-null object\n",
      "number_of_reviews         32349 non-null int64\n",
      "review_scores_rating      32349 non-null float64\n",
      "thumbnail_url             29934 non-null object\n",
      "zipcode                   31903 non-null object\n",
      "bedrooms                  32302 non-null float64\n",
      "beds                      32284 non-null float64\n",
      "dtypes: bool(1), float64(7), int64(3), object(18)\n",
      "memory usage: 7.2+ MB\n"
     ]
    }
   ],
   "source": [
    "# Make sure effects took place\n",
    "nyc_df.info()"
   ]
  },
  {
   "cell_type": "code",
   "execution_count": 40,
   "metadata": {},
   "outputs": [],
   "source": [
    "#nyc_df.review_scores_rating.plot(kind='hist',bins=10)"
   ]
  },
  {
   "cell_type": "code",
   "execution_count": 41,
   "metadata": {},
   "outputs": [],
   "source": [
    "# Examine review scores\n",
    "#nyc_df.review_scores_rating.value_counts(sort=True, ascending=True)"
   ]
  },
  {
   "cell_type": "code",
   "execution_count": 42,
   "metadata": {},
   "outputs": [],
   "source": [
    "# Keep only those with higher than 70 review score\n",
    "nyc_df = nyc_df[nyc_df.review_scores_rating >= 70.0]"
   ]
  },
  {
   "cell_type": "code",
   "execution_count": 43,
   "metadata": {},
   "outputs": [],
   "source": [
    "#nyc_df.review_scores_rating.value_counts(sort=True, ascending=True)"
   ]
  },
  {
   "cell_type": "code",
   "execution_count": 44,
   "metadata": {},
   "outputs": [
    {
     "data": {
      "text/plain": [
       "<matplotlib.axes._subplots.AxesSubplot at 0x1c211a3650>"
      ]
     },
     "execution_count": 44,
     "metadata": {},
     "output_type": "execute_result"
    },
    {
     "data": {
      "image/png": "[encoded data removed]",
      "text/plain": [
       "<Figure size 432x288 with 1 Axes>"
      ]
     },
     "metadata": {
      "needs_background": "light"
     },
     "output_type": "display_data"
    }
   ],
   "source": [
    "nyc_df.review_scores_rating.plot(kind='hist', bins=10)"
   ]
  },
  {
   "cell_type": "markdown",
   "metadata": {},
   "source": [
    "### Boxcox transform the review scores since they are skewed... not sure if I like the result. Might not use this"
   ]
  },
  {
   "cell_type": "code",
   "execution_count": 45,
   "metadata": {},
   "outputs": [
    {
     "name": "stdout",
     "output_type": "stream",
     "text": [
      "Lambda: 10.6721756122339\n"
     ]
    },
    {
     "data": {
      "image/png": "[encoded data removed]",
      "text/plain": [
       "<Figure size 432x288 with 1 Axes>"
      ]
     },
     "metadata": {
      "needs_background": "light"
     },
     "output_type": "display_data"
    }
   ],
   "source": [
    "lamb=stats.boxcox_normmax(nyc_df.review_scores_rating, brack=(-1.9, 1.9)) # don't use \"lambda\" as it's a Python reserved word\n",
    "print(\"Lambda:\", lamb)\n",
    "\n",
    "# Get new Y with new power transform\n",
    "review_score_bct=(np.power(nyc_df.review_scores_rating,lamb)-1)/lamb # putting in lamb for plugin\n",
    "\n",
    "plt.hist(review_score_bct);"
   ]
  },
  {
   "cell_type": "markdown",
   "metadata": {},
   "source": [
    "# There are many 'amenities' with \"translation missing: en.hosting_amenity_50\", might need to clean that up"
   ]
  },
  {
   "cell_type": "code",
   "execution_count": 46,
   "metadata": {},
   "outputs": [],
   "source": [
    "#nyc_df['amenities_count'] = nyc_df['amenities'].apply(lambda amenities: len(amenities.split(',')))"
   ]
  },
  {
   "cell_type": "code",
   "execution_count": 47,
   "metadata": {},
   "outputs": [],
   "source": [
    "######x['amenities_trimmed'] = x['amenities'].apply(lambda amenities: len(amenities.split(',')))"
   ]
  },
  {
   "cell_type": "code",
   "execution_count": 48,
   "metadata": {},
   "outputs": [],
   "source": [
    "# test = nyc_df.amenities[0]\n",
    "# print(test)"
   ]
  },
  {
   "cell_type": "code",
   "execution_count": 49,
   "metadata": {},
   "outputs": [],
   "source": [
    "def amenity_count(amenities):\n",
    "    '''Clean up amenities (remove below string), then count. This does not change the\\\n",
    "amenities column in place, but rather a tmp list, then counts length of temp list'''\n",
    "\n",
    "    if amenities.split(',')[-1] == '\"translation missing: en.hosting_amenity_50\"}':\n",
    "        tmp = amenities.split(',')\n",
    "        del tmp[-1]\n",
    "    else:\n",
    "        tmp = amenities.split(',')\n",
    "    return len(tmp)"
   ]
  },
  {
   "cell_type": "code",
   "execution_count": 50,
   "metadata": {},
   "outputs": [],
   "source": [
    "nyc_df['amenity_count'] = nyc_df['amenities'].apply(amenity_count)"
   ]
  },
  {
   "cell_type": "code",
   "execution_count": 51,
   "metadata": {},
   "outputs": [
    {
     "data": {
      "text/plain": [
       "count    31913.000000\n",
       "mean     16.205120   \n",
       "std      7.209432    \n",
       "min      1.000000    \n",
       "25%      12.000000   \n",
       "50%      15.000000   \n",
       "75%      20.000000   \n",
       "max      77.000000   \n",
       "Name: amenity_count, dtype: float64"
      ]
     },
     "execution_count": 51,
     "metadata": {},
     "output_type": "execute_result"
    }
   ],
   "source": [
    "nyc_df.amenity_count.describe()"
   ]
  },
  {
   "cell_type": "code",
   "execution_count": 52,
   "metadata": {},
   "outputs": [
    {
     "data": {
      "text/plain": [
       "<matplotlib.axes._subplots.AxesSubplot at 0x10ca4a310>"
      ]
     },
     "execution_count": 52,
     "metadata": {},
     "output_type": "execute_result"
    },
    {
     "data": {
      "image/png": "[encoded data removed]",
      "text/plain": [
       "<Figure size 432x288 with 1 Axes>"
      ]
     },
     "metadata": {
      "needs_background": "light"
     },
     "output_type": "display_data"
    }
   ],
   "source": [
    "nyc_df.amenity_count.plot(kind='hist')"
   ]
  },
  {
   "cell_type": "code",
   "execution_count": 53,
   "metadata": {},
   "outputs": [
    {
     "name": "stdout",
     "output_type": "stream",
     "text": [
      "stdv amenities count =  7.209432110879009\n",
      "mean amenities count =  16.20512017046345\n",
      "mean  + 2SD of amenities count = ~ 40\n",
      "median amenities count =  15.0\n"
     ]
    }
   ],
   "source": [
    "print(\"stdv amenities count = \", nyc_df.amenity_count.std())\n",
    "print(\"mean amenities count = \", nyc_df.amenity_count.mean())\n",
    "print(\"mean  + 2SD of amenities count = ~ 40\")\n",
    "print(\"median amenities count = \", nyc_df.amenity_count.median())"
   ]
  },
  {
   "cell_type": "markdown",
   "metadata": {},
   "source": [
    "#### I will delete all amenities count > 40"
   ]
  },
  {
   "cell_type": "code",
   "execution_count": 54,
   "metadata": {},
   "outputs": [],
   "source": [
    "nyc_df = nyc_df[nyc_df['amenity_count'] < 40.0]"
   ]
  },
  {
   "cell_type": "code",
   "execution_count": 55,
   "metadata": {},
   "outputs": [
    {
     "data": {
      "text/html": [
       "<div>\n",
       "<style scoped>\n",
       "    .dataframe tbody tr th:only-of-type {\n",
       "        vertical-align: middle;\n",
       "    }\n",
       "\n",
       "    .dataframe tbody tr th {\n",
       "        vertical-align: top;\n",
       "    }\n",
       "\n",
       "    .dataframe thead th {\n",
       "        text-align: right;\n",
       "    }\n",
       "</style>\n",
       "<table border=\"1\" class=\"dataframe\">\n",
       "  <thead>\n",
       "    <tr style=\"text-align: right;\">\n",
       "      <th></th>\n",
       "      <th>id</th>\n",
       "      <th>log_price</th>\n",
       "      <th>accommodates</th>\n",
       "      <th>bathrooms</th>\n",
       "      <th>latitude</th>\n",
       "      <th>longitude</th>\n",
       "      <th>number_of_reviews</th>\n",
       "      <th>review_scores_rating</th>\n",
       "      <th>bedrooms</th>\n",
       "      <th>beds</th>\n",
       "      <th>amenity_count</th>\n",
       "    </tr>\n",
       "  </thead>\n",
       "  <tbody>\n",
       "    <tr>\n",
       "      <td>count</td>\n",
       "      <td>3.151900e+04</td>\n",
       "      <td>31518.000000</td>\n",
       "      <td>31519.000000</td>\n",
       "      <td>31422.000000</td>\n",
       "      <td>31519.000000</td>\n",
       "      <td>31519.000000</td>\n",
       "      <td>31519.000000</td>\n",
       "      <td>31519.000000</td>\n",
       "      <td>31473.000000</td>\n",
       "      <td>31459.000000</td>\n",
       "      <td>31519.000000</td>\n",
       "    </tr>\n",
       "    <tr>\n",
       "      <td>mean</td>\n",
       "      <td>1.127011e+07</td>\n",
       "      <td>4.717960</td>\n",
       "      <td>2.801675</td>\n",
       "      <td>1.128859</td>\n",
       "      <td>40.730215</td>\n",
       "      <td>-73.954933</td>\n",
       "      <td>18.159015</td>\n",
       "      <td>94.601732</td>\n",
       "      <td>1.155276</td>\n",
       "      <td>1.547538</td>\n",
       "      <td>15.836575</td>\n",
       "    </tr>\n",
       "    <tr>\n",
       "      <td>std</td>\n",
       "      <td>6.074222e+06</td>\n",
       "      <td>0.658197</td>\n",
       "      <td>1.834456</td>\n",
       "      <td>0.396479</td>\n",
       "      <td>0.053719</td>\n",
       "      <td>0.042217</td>\n",
       "      <td>32.851439</td>\n",
       "      <td>5.428359</td>\n",
       "      <td>0.717150</td>\n",
       "      <td>1.047958</td>\n",
       "      <td>6.413653</td>\n",
       "    </tr>\n",
       "    <tr>\n",
       "      <td>min</td>\n",
       "      <td>2.404000e+03</td>\n",
       "      <td>1.609438</td>\n",
       "      <td>1.000000</td>\n",
       "      <td>0.000000</td>\n",
       "      <td>40.499794</td>\n",
       "      <td>-74.253269</td>\n",
       "      <td>0.000000</td>\n",
       "      <td>70.000000</td>\n",
       "      <td>0.000000</td>\n",
       "      <td>0.000000</td>\n",
       "      <td>1.000000</td>\n",
       "    </tr>\n",
       "    <tr>\n",
       "      <td>25%</td>\n",
       "      <td>6.259848e+06</td>\n",
       "      <td>4.248495</td>\n",
       "      <td>2.000000</td>\n",
       "      <td>1.000000</td>\n",
       "      <td>40.691339</td>\n",
       "      <td>-73.983624</td>\n",
       "      <td>1.000000</td>\n",
       "      <td>93.000000</td>\n",
       "      <td>1.000000</td>\n",
       "      <td>1.000000</td>\n",
       "      <td>11.000000</td>\n",
       "    </tr>\n",
       "    <tr>\n",
       "      <td>50%</td>\n",
       "      <td>1.227277e+07</td>\n",
       "      <td>4.653960</td>\n",
       "      <td>2.000000</td>\n",
       "      <td>1.000000</td>\n",
       "      <td>40.723890</td>\n",
       "      <td>-73.956834</td>\n",
       "      <td>5.000000</td>\n",
       "      <td>96.000000</td>\n",
       "      <td>1.000000</td>\n",
       "      <td>1.000000</td>\n",
       "      <td>15.000000</td>\n",
       "    </tr>\n",
       "    <tr>\n",
       "      <td>75%</td>\n",
       "      <td>1.639777e+07</td>\n",
       "      <td>5.164786</td>\n",
       "      <td>4.000000</td>\n",
       "      <td>1.000000</td>\n",
       "      <td>40.764132</td>\n",
       "      <td>-73.939634</td>\n",
       "      <td>20.000000</td>\n",
       "      <td>98.000000</td>\n",
       "      <td>1.000000</td>\n",
       "      <td>2.000000</td>\n",
       "      <td>19.000000</td>\n",
       "    </tr>\n",
       "    <tr>\n",
       "      <td>max</td>\n",
       "      <td>2.122836e+07</td>\n",
       "      <td>7.600402</td>\n",
       "      <td>16.000000</td>\n",
       "      <td>8.000000</td>\n",
       "      <td>40.909174</td>\n",
       "      <td>-73.710126</td>\n",
       "      <td>474.000000</td>\n",
       "      <td>100.000000</td>\n",
       "      <td>10.000000</td>\n",
       "      <td>18.000000</td>\n",
       "      <td>39.000000</td>\n",
       "    </tr>\n",
       "  </tbody>\n",
       "</table>\n",
       "</div>"
      ],
      "text/plain": [
       "                 id     log_price  accommodates     bathrooms      latitude  \\\n",
       "count  3.151900e+04  31518.000000  31519.000000  31422.000000  31519.000000   \n",
       "mean   1.127011e+07  4.717960      2.801675      1.128859      40.730215      \n",
       "std    6.074222e+06  0.658197      1.834456      0.396479      0.053719       \n",
       "min    2.404000e+03  1.609438      1.000000      0.000000      40.499794      \n",
       "25%    6.259848e+06  4.248495      2.000000      1.000000      40.691339      \n",
       "50%    1.227277e+07  4.653960      2.000000      1.000000      40.723890      \n",
       "75%    1.639777e+07  5.164786      4.000000      1.000000      40.764132      \n",
       "max    2.122836e+07  7.600402      16.000000     8.000000      40.909174      \n",
       "\n",
       "          longitude  number_of_reviews  review_scores_rating      bedrooms  \\\n",
       "count  31519.000000  31519.000000       31519.000000          31473.000000   \n",
       "mean  -73.954933     18.159015          94.601732             1.155276       \n",
       "std    0.042217      32.851439          5.428359              0.717150       \n",
       "min   -74.253269     0.000000           70.000000             0.000000       \n",
       "25%   -73.983624     1.000000           93.000000             1.000000       \n",
       "50%   -73.956834     5.000000           96.000000             1.000000       \n",
       "75%   -73.939634     20.000000          98.000000             1.000000       \n",
       "max   -73.710126     474.000000         100.000000            10.000000      \n",
       "\n",
       "               beds  amenity_count  \n",
       "count  31459.000000  31519.000000   \n",
       "mean   1.547538      15.836575      \n",
       "std    1.047958      6.413653       \n",
       "min    0.000000      1.000000       \n",
       "25%    1.000000      11.000000      \n",
       "50%    1.000000      15.000000      \n",
       "75%    2.000000      19.000000      \n",
       "max    18.000000     39.000000      "
      ]
     },
     "execution_count": 55,
     "metadata": {},
     "output_type": "execute_result"
    }
   ],
   "source": [
    "nyc_df.describe()"
   ]
  },
  {
   "cell_type": "markdown",
   "metadata": {},
   "source": [
    "# Number of reviews- lots on the low end"
   ]
  },
  {
   "cell_type": "code",
   "execution_count": 56,
   "metadata": {},
   "outputs": [
    {
     "data": {
      "text/plain": [
       "<matplotlib.axes._subplots.AxesSubplot at 0x1c221d2e90>"
      ]
     },
     "execution_count": 56,
     "metadata": {},
     "output_type": "execute_result"
    },
    {
     "data": {
      "image/png": "[encoded data removed]",
      "text/plain": [
       "<Figure size 432x288 with 1 Axes>"
      ]
     },
     "metadata": {
      "needs_background": "light"
     },
     "output_type": "display_data"
    }
   ],
   "source": [
    "nyc_df.number_of_reviews.plot(kind='hist', bins=20)"
   ]
  },
  {
   "cell_type": "markdown",
   "metadata": {},
   "source": [
    "## Many places with zero reviews"
   ]
  },
  {
   "cell_type": "code",
   "execution_count": 57,
   "metadata": {},
   "outputs": [
    {
     "data": {
      "text/plain": [
       "0      6800\n",
       "1      3202\n",
       "2      2292\n",
       "3      1765\n",
       "4      1301\n",
       "       ... \n",
       "264    1   \n",
       "280    1   \n",
       "296    1   \n",
       "217    1   \n",
       "295    1   \n",
       "Name: number_of_reviews, Length: 279, dtype: int64"
      ]
     },
     "execution_count": 57,
     "metadata": {},
     "output_type": "execute_result"
    }
   ],
   "source": [
    "nyc_df.number_of_reviews.value_counts()"
   ]
  },
  {
   "cell_type": "markdown",
   "metadata": {},
   "source": [
    "# Read wiki table for top NYC destinations\n",
    "- Will use Beautiful Soup in other notebook. For now pd.read_html works well."
   ]
  },
  {
   "cell_type": "code",
   "execution_count": 58,
   "metadata": {},
   "outputs": [],
   "source": [
    "wiki_url = 'https://en.wikipedia.org/wiki/Tourism_in_New_York_City'"
   ]
  },
  {
   "cell_type": "code",
   "execution_count": 59,
   "metadata": {},
   "outputs": [],
   "source": [
    "tables_pd = pd.read_html(wiki_url)"
   ]
  },
  {
   "cell_type": "code",
   "execution_count": 60,
   "metadata": {},
   "outputs": [],
   "source": [
    "tourist_dest = tables_pd[1]"
   ]
  },
  {
   "cell_type": "code",
   "execution_count": 61,
   "metadata": {},
   "outputs": [
    {
     "data": {
      "text/plain": [
       "0     Central Park                                          \n",
       "1     Times Square                                          \n",
       "2     Grand Central Terminal                                \n",
       "3     Theater District (including Broadway theatres)        \n",
       "4     Rockefeller Center (including Top of the Rock)        \n",
       "5     Bryant Park                                           \n",
       "6     Prospect Park                                         \n",
       "7     South Street Seaport                                  \n",
       "8     High Line                                             \n",
       "9     Coney Island (including amusement parks and boardwalk)\n",
       "10    National September 11 Memorial                        \n",
       "11    Metropolitan Museum of Art                            \n",
       "12    Rockaway Beach                                        \n",
       "13    American Museum of Natural History                    \n",
       "14    Statue of Liberty and Ellis Island                    \n",
       "15    Empire State Building                                 \n",
       "16    National September 11 Museum                          \n",
       "17    Museum of Modern Art                                  \n",
       "18    One World Trade Center                                \n",
       "Name: Name, dtype: object"
      ]
     },
     "execution_count": 61,
     "metadata": {},
     "output_type": "execute_result"
    }
   ],
   "source": [
    "tourist_dest['Name']"
   ]
  },
  {
   "cell_type": "code",
   "execution_count": 62,
   "metadata": {},
   "outputs": [],
   "source": [
    "# Make description col lowercase\n",
    "nyc_df.description = nyc_df.description.str.lower()"
   ]
  },
  {
   "cell_type": "code",
   "execution_count": 63,
   "metadata": {},
   "outputs": [],
   "source": [
    "test_list = ['brooklyn bridge', 'brooklyn bridge']"
   ]
  },
  {
   "cell_type": "markdown",
   "metadata": {},
   "source": [
    "# Search a list (of tourist dests) to see if ANY are mentioned, not necessarily count of how many. I think any is OK for this model"
   ]
  },
  {
   "cell_type": "code",
   "execution_count": 64,
   "metadata": {},
   "outputs": [],
   "source": [
    "mention_tourism = 0\n",
    "if any(x in nyc_df.description[1] for x in test_list):\n",
    "    print('yes')\n",
    "    mention_tourism +=1"
   ]
  },
  {
   "cell_type": "code",
   "execution_count": 65,
   "metadata": {},
   "outputs": [
    {
     "data": {
      "text/plain": [
       "0"
      ]
     },
     "execution_count": 65,
     "metadata": {},
     "output_type": "execute_result"
    }
   ],
   "source": [
    "mention_tourism"
   ]
  },
  {
   "cell_type": "markdown",
   "metadata": {},
   "source": [
    "# Tourism mentions counter"
   ]
  },
  {
   "cell_type": "code",
   "execution_count": 66,
   "metadata": {},
   "outputs": [],
   "source": [
    "def count_tourism_mentions(description_column):\n",
    "    '''Search description column for mentions of top tourism locations in NY.\\\n",
    "    Data for tourist dests taken from scraped wiki table. Assumes description col of main df\\\n",
    "    has been made lower(). HOWEVER THIS DOES NOT WORK IF clean_txt function has been applied-- which\\\n",
    "    makes the desc into a list. This only works if desc is a string. Must run before valence count fx\\\n",
    "    which relies on it being a list'''\n",
    "    tourism_mentions = 0\n",
    "    for x in tourist_dest.Name.str.lower(): # search tourist dest df\n",
    "        if description_column.__contains__(x):\n",
    "            tourism_mentions += 1\n",
    "    nyc_df['tourism_mentions'] = tourism_mentions\n",
    "    return tourism_mentions"
   ]
  },
  {
   "cell_type": "code",
   "execution_count": 67,
   "metadata": {
    "scrolled": true
   },
   "outputs": [],
   "source": [
    "# mentions = 0\n",
    "# for x in tourist_dest.Name.str.lower():\n",
    "#     if nyc_df.description[1].__contains__(x):\n",
    "#         mentions +=1\n",
    "#         print(x)\n",
    "# print(mentions)"
   ]
  },
  {
   "cell_type": "code",
   "execution_count": 69,
   "metadata": {},
   "outputs": [],
   "source": [
    "#test_tourism_df = nyc_df[0:22].copy()"
   ]
  },
  {
   "cell_type": "code",
   "execution_count": 70,
   "metadata": {},
   "outputs": [],
   "source": [
    "nyc_df['tourism_mentions'] = nyc_df['description'].apply(count_tourism_mentions)"
   ]
  },
  {
   "cell_type": "code",
   "execution_count": 71,
   "metadata": {},
   "outputs": [
    {
     "data": {
      "text/plain": [
       "count    31519.000000\n",
       "mean     0.332783    \n",
       "std      0.602426    \n",
       "min      0.000000    \n",
       "25%      0.000000    \n",
       "50%      0.000000    \n",
       "75%      1.000000    \n",
       "max      5.000000    \n",
       "Name: tourism_mentions, dtype: float64"
      ]
     },
     "execution_count": 71,
     "metadata": {},
     "output_type": "execute_result"
    }
   ],
   "source": [
    "nyc_df['tourism_mentions'].describe()"
   ]
  },
  {
   "cell_type": "markdown",
   "metadata": {},
   "source": [
    "### Do I want to make this mention/ not mention? Very low variance as scale variable..."
   ]
  },
  {
   "cell_type": "code",
   "execution_count": 72,
   "metadata": {},
   "outputs": [
    {
     "data": {
      "text/plain": [
       "0    22938\n",
       "1    6953 \n",
       "2    1378 \n",
       "3    222  \n",
       "4    26   \n",
       "5    2    \n",
       "Name: tourism_mentions, dtype: int64"
      ]
     },
     "execution_count": 72,
     "metadata": {},
     "output_type": "execute_result"
    }
   ],
   "source": [
    "nyc_df['tourism_mentions'].value_counts()"
   ]
  },
  {
   "cell_type": "markdown",
   "metadata": {},
   "source": [
    "# Apply valence count to nyc_df"
   ]
  },
  {
   "cell_type": "markdown",
   "metadata": {},
   "source": [
    "- Description has been stripped and lower-case already at this point"
   ]
  },
  {
   "cell_type": "markdown",
   "metadata": {},
   "source": [
    "# Had this in the original models, but now leaving out when remaking df with zipcode-- takes a while to run so skipping"
   ]
  },
  {
   "cell_type": "code",
   "execution_count": 94,
   "metadata": {},
   "outputs": [],
   "source": [
    "# def valence_count(description_column):\n",
    "#     '''Get valence count (how positive) for the descriptions the hosts write. This works by matching\\\n",
    "#     the words in the description to online lists of pos/neg valence words'''\n",
    "#     pos_count = 0\n",
    "#     neg_count = 0\n",
    "#     #words = df['description'].iteritems()\n",
    "#     for word in description_column: # words = description so need to make this iterate\n",
    "#         num_pos_matches = pos_valence_data[pos_valence_data['Positive Words'] == word].shape[0]\n",
    "#         if num_pos_matches > 0:\n",
    "#             pos_count += 1\n",
    "#         num_neg_matches = neg_valence_data[neg_valence_data['Negative Words'] == word].shape[0]\n",
    "#         if num_neg_matches > 0:\n",
    "#             neg_count += 1\n",
    "#     total_count = pos_count - neg_count\n",
    "#     return total_count"
   ]
  },
  {
   "cell_type": "markdown",
   "metadata": {},
   "source": [
    "### Clean description text, split, make lower (clean_text function)"
   ]
  },
  {
   "cell_type": "code",
   "execution_count": 74,
   "metadata": {},
   "outputs": [],
   "source": [
    "def clean_text(s):\n",
    "    '''Function to clean up special chars from strings, and make lower case'''\n",
    "    for c in ['{','}', '!','\"', \",\", ':', '/', \"&\", \"-\", \"(\", \")\", \".\"]:\n",
    "        s=s.replace(c,'').lower()\n",
    "    return s.split(' ')"
   ]
  },
  {
   "cell_type": "code",
   "execution_count": 75,
   "metadata": {},
   "outputs": [],
   "source": [
    "nyc_df['description'] = nyc_df['description'].apply(clean_text)"
   ]
  },
  {
   "cell_type": "code",
   "execution_count": 76,
   "metadata": {
    "collapsed": true
   },
   "outputs": [
    {
     "data": {
      "text/plain": [
       "0        [beautiful, sunlit, brownstone, 1bedroom, in, the, loveliest, neighborhood, in, brooklyn, blocks, from, the, promenade, and, brooklyn, bridge, park, with, their, stunning, views, of, manhattan, and, from, the, great, shopping, and, food]                                                                                                                                                                                                                                                                                                                                                                                                                                                                                            \n",
       "1        [enjoy, travelling, during, your, stay, in, manhattan, my, place, is, centrally, located, near, times, square, and, central, park, with, easy, access, to, main, subways, as, well, as, walking, distance, to, many, popular, restaurants, and, bus, tours, my, place, is, close, to, the, subway, totto, ramen, hell's, kitchen, ippudo, westside, empanada, mama, intrepid, sea, air, , space, museum, my, place, has, three, true, bedrooms, and, one, bathroom, the, kitchen, is, stocked, with, stainless, steel, appliances, like, the, keurig, machine, the, living, room, is, spacious, and, can, accommodate, another, person, thanks, to, the, pull, out, bed, my, place, is, centrally, located, to, ...]                     \n",
       "2        [the, oasis, comes, complete, with, a, full, backyard, with, outdoor, furniture, to, make, the, most, of, this, summer, vacation, , the, unit, has, high, ceilings, a, completed, renovation, throughout, beautiful, flood, lighting, and, exposed, brick, best, part, total, seclusion, you, share, with, no, one, the, entire, unit, is, yours, during, your, stay, , it's, a, fully, furnished, apartment, that, can, hold, up, to, 5, people, the, only, items, you, need, are, a, toothbrush, and, your, luggage, the, unit, has, high, ceilings, a, completed, renovation, throughout, beautiful, flood, lighting, and, exposed, brick, not, to, mention, the, large, backyard, complete, with, ourdoor, ...]                      \n",
       "10       [this, is, a, bright, bedroom, in, an, historic, building, with, exposed, brick, walls, and, modern, appointments, situated, in, the, most, vibrant, and, eclectic, neighborhood, in, manhattan, , you'll, get, an, authentic, experience, during, your, stay, in, new, york, here, i, have, a, room, available, in, a, lovely, apartment, in, the, east, village, close, to, the, subway, 510, minutes, and, soho, little, italy, and, the, lower, east, side, each, about, 15, minutes, , also, located, nearby, are, the, eclectic, and, lively, st, marks, place, and, tompkins, square, park, , , the, room, has, a, fullsize, bed, a, large, wardrobe, bookshelves, and, ...]                                                      \n",
       "18       [i, am, renting, a, very, spacious, unique, bright, l, shape, studio, filled, with, character, for, perfect, nyc, vibe, , getaway, apt, is, located, lower, east, side, les, walking, distant, sohonolita, chinatown, lots, of, restaurants, and, bars, and, close, to, the, fbdjmz, , hello, all, , i, am, happy, to, rent, my, apartment, to, , respectful, clean, individuals, i, love, my, apartment, and, want, to, make, sure, it, is, in, good, hands, while, away, , my, apt, is, located, one, of, the, most, convenient, and, attractive, neighborhood, , in, manhattan, lower, east, side, les, it's, a, very, quiet, , apartment, best, ...]                                                                                 \n",
       "                                                                                                                                                                                                                                                                                                                                   ...                                                                                                                                                                                                                                                                                                                                                                                                            \n",
       "74097    [enjoy, a, stay, in, my, beautiful, wellfurnished, duplex, right, where, chelsea, meatpacking, and, west, village, meet, you'll, have, a, large, quiet, room, w, a, queen, bed, and, share, a, lofted, entertainment, area, +, kitchen, , right, by, the, ace123l, high, line, and, more, there's, plenty, within, the, space, to, enjoy, bedroom, *, queen, bed, *, desk, *, no, street, noise, very, quiet, by, virtue, of, the, apartment's, rearfacing, placement, entertainment, space, *, 7seater, dining, table, made, of, reclaimed, indian, railroad, ties, , 4, linen, chairs, 1, long, bench, and, bookended, by, a, mirror, *, 8, foot, extradeep, linen, couch, , ...]                                                      \n",
       "74100    [this, apartment, fosters, midcentury, modernism, style, living, with, large, windows, recessed, lighting, in, this, 2bdr, home, in, williamsburg, , the, building, offers, amenities, that, you'll, love, for, the, summer, , roof, deck, with, skyline, patio, with, benches, elevators, home, theater, pool, table, study, lounge, and, plenty, of, street, parking, it's, understated, glamour, fit, for, relaxing, and, entertaining, the, apt, is, 3, blocks, from, the, graham, and, grand, of, the, l, train, subway, stop, in, a, very, safe, cosy, relaxed, residential, area, but, also, in, the, heart, of, , the, room, is, a, generous, 12', x15', with, a, queen, size, bed, ...]                                         \n",
       "74106    [one, room, in, bushwick, apt, ]                                                                                                                                                                                                                                                                                                                                                                                                                                                                                                                                                                                                                                                                                                         \n",
       "74108    [a, modern, apartment, located, in, east, williamsburg, it's, a, place, to, see, everything, brooklyn, has, to, offer, from, interesting, restaurants, hidden, breweries, and, the, region's, longtime, residents, you, can, explore, the, neighborhood, including, nearby, bushwick, or, hop, on, the, subway, and, be, in, manhattan, in, 10, minutes, the, apartment, has, a, rooftop, overlooking, the, city, hardwood, floors, a, fully, stocked, kitchen, and, plenty, of, space, for, your, group, it's, a, great, modern, apartment, with, all, the, amenities, one, could, need, for, a, homeawayfromhome, stay, located, in, a, part, of, williamsburg, that's, surrounded, by, cool, places, but, also, with, plenty, of, ...]\n",
       "74109    [fully, renovated, designer's, studio, located, in, one, of, the, most, desirable, areas, of, manhattan, west, villagechelsea, comfortable, bed, sofa, 50', tv, with, netflix, , amazon, prime, full, kitchen, with, dishwasher, and, all, the, necessities, for, cooking, apartment, is, on, the, 2nd, floor, only, 1, flight, up, access, to, everything, in, the, apartment, but, nothing, should, go, out, of, the, apartment, i, am, always, available, upon, request, i, always, try, to, make, my, guest's, experience, as, pleasant, as, possible, if, you, need, directions, advice, transportation, etc, all, you, need, to, do, is, ask]                                                                                      \n",
       "Name: description, Length: 31519, dtype: object"
      ]
     },
     "execution_count": 76,
     "metadata": {},
     "output_type": "execute_result"
    }
   ],
   "source": [
    "nyc_df['description']"
   ]
  },
  {
   "cell_type": "markdown",
   "metadata": {},
   "source": [
    "# Test to make sure valence count is working on smaller DF before running very long process overnight"
   ]
  },
  {
   "cell_type": "code",
   "execution_count": 98,
   "metadata": {},
   "outputs": [],
   "source": [
    "#test_df = nyc_df[0:22].copy()"
   ]
  },
  {
   "cell_type": "code",
   "execution_count": 99,
   "metadata": {},
   "outputs": [
    {
     "data": {
      "text/plain": [
       "(22, 31)"
      ]
     },
     "execution_count": 99,
     "metadata": {},
     "output_type": "execute_result"
    }
   ],
   "source": [
    "#test_df.shape"
   ]
  },
  {
   "cell_type": "code",
   "execution_count": 100,
   "metadata": {
    "collapsed": true
   },
   "outputs": [
    {
     "data": {
      "text/plain": [
       "0     [beautiful, sunlit, brownstone, 1bedroom, in, the, loveliest, neighborhood, in, brooklyn, blocks, from, the, promenade, and, brooklyn, bridge, park, with, their, stunning, views, of, manhattan, and, from, the, great, shopping, and, food]                                                                                                                                                                                                                                                                                                                                                                                                                                                                                                            \n",
       "1     [enjoy, travelling, during, your, stay, in, manhattan, my, place, is, centrally, located, near, times, square, and, central, park, with, easy, access, to, main, subways, as, well, as, walking, distance, to, many, popular, restaurants, and, bus, tours, my, place, is, close, to, the, subway, totto, ramen, hell's, kitchen, ippudo, westside, empanada, mama, intrepid, sea, air, , space, museum, my, place, has, three, true, bedrooms, and, one, bathroom, the, kitchen, is, stocked, with, stainless, steel, appliances, like, the, keurig, machine, the, living, room, is, spacious, and, can, accommodate, another, person, thanks, to, the, pull, out, bed, my, place, is, centrally, located, to, ...]                                     \n",
       "2     [the, oasis, comes, complete, with, a, full, backyard, with, outdoor, furniture, to, make, the, most, of, this, summer, vacation, , the, unit, has, high, ceilings, a, completed, renovation, throughout, beautiful, flood, lighting, and, exposed, brick, best, part, total, seclusion, you, share, with, no, one, the, entire, unit, is, yours, during, your, stay, , it's, a, fully, furnished, apartment, that, can, hold, up, to, 5, people, the, only, items, you, need, are, a, toothbrush, and, your, luggage, the, unit, has, high, ceilings, a, completed, renovation, throughout, beautiful, flood, lighting, and, exposed, brick, not, to, mention, the, large, backyard, complete, with, ourdoor, ...]                                      \n",
       "10    [this, is, a, bright, bedroom, in, an, historic, building, with, exposed, brick, walls, and, modern, appointments, situated, in, the, most, vibrant, and, eclectic, neighborhood, in, manhattan, , you'll, get, an, authentic, experience, during, your, stay, in, new, york, here, i, have, a, room, available, in, a, lovely, apartment, in, the, east, village, close, to, the, subway, 510, minutes, and, soho, little, italy, and, the, lower, east, side, each, about, 15, minutes, , also, located, nearby, are, the, eclectic, and, lively, st, marks, place, and, tompkins, square, park, , , the, room, has, a, fullsize, bed, a, large, wardrobe, bookshelves, and, ...]                                                                      \n",
       "18    [i, am, renting, a, very, spacious, unique, bright, l, shape, studio, filled, with, character, for, perfect, nyc, vibe, , getaway, apt, is, located, lower, east, side, les, walking, distant, sohonolita, chinatown, lots, of, restaurants, and, bars, and, close, to, the, fbdjmz, , hello, all, , i, am, happy, to, rent, my, apartment, to, , respectful, clean, individuals, i, love, my, apartment, and, want, to, make, sure, it, is, in, good, hands, while, away, , my, apt, is, located, one, of, the, most, convenient, and, attractive, neighborhood, , in, manhattan, lower, east, side, les, it's, a, very, quiet, , apartment, best, ...]                                                                                                 \n",
       "19    [huge, 3, bedroom, apartment, situated, in, flatbush, brooklyn, average, 8, mins, walk, to, train, station, average, 30, mins, to, manhattan, and, 10, mins, ride, to, barclays, center, prospect, park, brooklyn, museum, kings, theatre, and, williamsburgthis, apartment, minimun, booking, amount, are, three, guests, spacious, 3, bedroom, with, lots, of, closet, space, , private, entrance, full, kitchen, large, living, , room, large, bedrooms, wifi, queen, size, bed, private, entrance, yes, multicultural, neighborhood, shopping, areas, as, well, as, restaurants, that, are, in, close, proximity, shopping, and, fitness, centers, within, walking, distance, average, 8, mins, walk, to, train, station, and, 2, mins, to, the, ...]\n",
       "21    [cozy, room, in, my, big, private, house, in, brooklyn, the, room, is, smaller, but, guests, have, access, to, all, of, the, common, areas, in, the, house, its, is, great, if, your, visiting, the, city, and, want, some, privacy, and, peacefulness, in, your, new, york, travels, check, in, time, is, flexible, please, contact, me, if, you, are, interested, in, long, term, rental, guest, have, acces, to, the, room, and, all, the, common, areas, including, the, back, yard, we, can, chat, sometimes, and, i, will, tell, you, more, about, the, neighborhood, other, than, that, you, are, on, your, own, jamaican, , west, ...]                                                                                                           \n",
       "27    [this, beautifully, renovated, fully, furnished, apartment, is, close, to, queens, blvd, directly, across, from, forest, hills, hospital, ready, for, you, and, your, company, to, come, right, in, and, enjoy, the, spacious, apartment]                                                                                                                                                                                                                                                                                                                                                                                                                                                                                                                \n",
       "29    [nice, cozy, room, in, 1bed, apartment, in, the, most, prestigious, area, of, manhattan, , park, ave, 5, min, walk, to, grand, central, to, empire, state, building, 10, min, walk, to, times, square, and, many, other, attractions, beautiful, view, around]                                                                                                                                                                                                                                                                                                                                                                                                                                                                                           \n",
       "30    [the, apartment, is, within, walking, distance, to, prospect, park, the, zoo, and, the, botanical, garden, there, are, a, bunch, of, cute, coffee, shops, and, bodegas, in, the, neighborhood, on, the, way, to, the, subway, restaurants, and, bars, are, within, walking, distance, you'll, love, staying, here, for, the, comfy, bed, a, in, room, with, loads, of, natural, light, and, private, backyard, access, the, open, floor, plan, makes, for, a, spacious, common, area, my, place, is, good, for, couples, solo, adventurers, and, business, travelers]                                                                                                                                                                                    \n",
       "35    [guest, are, provided, face, cloths, towels, soap, shampoo, , conditioner, and, toothpaste, other, amenities, include, wifi, cable, tv, walking, distance, to, eateries, and, groceries, 4, minute, walk, to, the, train, 10, minute, train, ride, to, downtown, brooklyn, 25, minutes, to, manhattan, if, you're, looking, for, great, bars, nice, eateries, or, some, tourists, attraction, please, feel, free, to, ask, walking, distance, from, the, 3, and, 4, train, i, also, offer, my, services, instead, of, the, guest, taking, cabs, or, uber, i'm, willing, to, take, you, to, your, destination, for, a, fraction, of, the, cost]                                                                                                           \n",
       "37    [i'll, come, back, i'll, have, pictures, very, soon, but, if, it, helps, the, room, is, bigger, then, my, paris, room]                                                                                                                                                                                                                                                                                                                                                                                                                                                                                                                                                                                                                                   \n",
       "38    [available, july, 17, to, july, 30, minimum, 8, nights, short, sublet, of, beautiful, east, village, apartment, it's, close, to, union, square, and, is, the, perfect, location, for, your, summer, vacation, to, nyc, , great, area, for, nightlife, restaurants, and, close, to, several, subway, lines, , , prewar, tenement, building, 4th, floor, with, view, of, 13th, street, recently, renovated, lots, of, original, details, , , impeccably, clean, and, attractive, bathroom, with, washing, machine, , the, kitchen, has, highend, green, appliances, , , wireless, internet, , no, television, but, lots, of, books, , we've, listed, this, for, 2, but, no, problem, sleeping, ...]                                                        \n",
       "45    [beautiful, apartment, at, the, heart, of, the, upper, east, side, perfect, for, any, couple, or, family, the, illustrious, upper, east, side, is, widely, renowned, for, its, highquality, residential, living, and, its, worldclass, cultural, institutions, this, neighborhood, is, famous, for, being, safe, green, and, beautiful, so, it’s, no, wonder, that, the, upper, east, side, is, easily, one, of, the, most, charming, neighborhoods, in, manhattan]                                                                                                                                                                                                                                                                                      \n",
       "47    [spacious, east, village, apartment, on, a, quiet, street, in, the, midst, of, a, very, cool, and, fun, part, of, the, city, tons, of, restaurants, and, bars, in, the, area, with, shopping, nearby, we, are, looking, for, female, residents, only, , near, st, mark's, place, soho, east, , west, village, union, square, and, very, close, to, many, major, subways, 6nr, and, f, are, 5, minutes, away;, 123456l, and, q, are, 10, minutes, walking, so, you, can, truly, go, anywhere, in, the, city, easily]                                                                                                                                                                                                                                      \n",
       "48    [roomy, and, comfortable, apartment, in, the, heart, of, bushwick, a, few, blocks, away, from, the, l, train, with, cool, restaurants, and, bars, all, around, and, the, best, street, art, this, is, a, perfect, spot, for, a, couple, who, want, to, explore, brooklyn, but, still, are, just, a, few, stops, away, from, the, city]                                                                                                                                                                                                                                                                                                                                                                                                                   \n",
       "49    [private, and, cozy, bedroom, in, 3, bedroom, apartment, brooklyn, ny, equipped, with, queen, size, bed, towels, clean, sheets, hangers, closet, space, tv, and, wifi, the, kitchen, and, bathroom, are, shared, both, spaces, are, kept, very, clean, located, near, the, jac, and, l, trains, it, makes, for, a, quick, and, convenient, commute, to, manhattan, perfect, for, one, sole, person, couples, friends, or, family, this, one, bedroom, inside, our, 3, bedroom, apartment, is, perfect, for, your, nyc, stay, weather, you're, in, town, to, visit, friendsfamily, first, time, nyc, visit, coming, from, neighboring, states, or, across, the, country, this, space, is, suitable, for, ...]                                             \n",
       "51    [sublet, only, , 1215, or, 11, movein;, $1000, rebate, modern, apt, in, a, luxury, building—newly, furnished, , conveniently, located, steps, from, the, highline, and, 7, train, located, in, a, vibrant, neighborhood, with, galleries, bars, and, restaurants, this, 1bedroom, , 1bath, unit, is, a, designerfurnished, luxury, apartment, with, floortoceiling, windows, in, both, the, living, room, and, bedroom, that, let, in, amazing, amount, of, light, and, is, decorated, with, designer, midcentury, modern, furniture, and, artwork, full, access, to, apartment, amenities, including, roofdeck, and, gym, located, in, west, chelsea, next, to, hudson, yards, and, the, highline, 7subway, is, 02, miles, away, 4, blocks, ...]        \n",
       "54    [a, private, room, in, a, beautiful, 2br, loft, in, the, middle, of, it, all, prime, location, in, heart, of, williamsburg, elevator, and, laundry, room, 1, bedroom, large, living, room]                                                                                                                                                                                                                                                                                                                                                                                                                                                                                                                                                               \n",
       "55    [beautiful, spacious, apartment, in, the, heart, of, harlem, close, to, restaurants, nightlife, and, transportation, there's, culture, food, and, nightlife, number, 2, and, 3, trains, to, 135th, street]                                                                                                                                                                                                                                                                                                                                                                                                                                                                                                                                               \n",
       "56    [make, yourself, at, home, , amazing, locations, in, the, heart, of, west, village, greenwich, village, and, washington, sq, known, for, great, restaurantscafesbars, only, 2, min, away, frourl, hiddensubway, lines, and, more, lines, are, within, reach, in, 5, min, walk]                                                                                                                                                                                                                                                                                                                                                                                                                                                                           \n",
       "57    [trendy, location, , right, between, 2, super, popular, neighborhoods, , , chelsea, , west, village, , steps, from, the, famous, meatpacking, district, this, is, by, far, the, most, happening, location, in, manhattan, not, for, time, square, touristsand, i'd, love, to, share, my, list, of, walk, distance, attractions, few, steps, to, subway, , , 123, red, line, and, abc, blue, line]                                                                                                                                                                                                                                                                                                                                                        \n",
       "Name: description, dtype: object"
      ]
     },
     "execution_count": 100,
     "metadata": {},
     "output_type": "execute_result"
    }
   ],
   "source": [
    "#test_df.description"
   ]
  },
  {
   "cell_type": "code",
   "execution_count": 101,
   "metadata": {},
   "outputs": [],
   "source": [
    "#test_df['valence_count'] = test_df['description'].apply(valence_count)"
   ]
  },
  {
   "cell_type": "code",
   "execution_count": 102,
   "metadata": {
    "collapsed": true
   },
   "outputs": [
    {
     "data": {
      "text/plain": [
       "0     3 \n",
       "1     9 \n",
       "2     6 \n",
       "10    10\n",
       "18    18\n",
       "19    2 \n",
       "21    5 \n",
       "27    5 \n",
       "29    5 \n",
       "30    5 \n",
       "35    5 \n",
       "37    0 \n",
       "38    12\n",
       "45    9 \n",
       "47    4 \n",
       "48    5 \n",
       "49    8 \n",
       "51    8 \n",
       "54    1 \n",
       "55    2 \n",
       "56    2 \n",
       "57    6 \n",
       "Name: valence_count, dtype: int64"
      ]
     },
     "execution_count": 102,
     "metadata": {},
     "output_type": "execute_result"
    }
   ],
   "source": [
    "#test_df['valence_count']"
   ]
  },
  {
   "cell_type": "code",
   "execution_count": 103,
   "metadata": {
    "collapsed": true
   },
   "outputs": [
    {
     "data": {
      "text/plain": [
       "['beautiful',\n",
       " 'sunlit',\n",
       " 'brownstone',\n",
       " '1bedroom',\n",
       " 'in',\n",
       " 'the',\n",
       " 'loveliest',\n",
       " 'neighborhood',\n",
       " 'in',\n",
       " 'brooklyn',\n",
       " 'blocks',\n",
       " 'from',\n",
       " 'the',\n",
       " 'promenade',\n",
       " 'and',\n",
       " 'brooklyn',\n",
       " 'bridge',\n",
       " 'park',\n",
       " 'with',\n",
       " 'their',\n",
       " 'stunning',\n",
       " 'views',\n",
       " 'of',\n",
       " 'manhattan',\n",
       " 'and',\n",
       " 'from',\n",
       " 'the',\n",
       " 'great',\n",
       " 'shopping',\n",
       " 'and',\n",
       " 'food']"
      ]
     },
     "execution_count": 103,
     "metadata": {},
     "output_type": "execute_result"
    }
   ],
   "source": [
    "#test_df['description'][0]"
   ]
  },
  {
   "cell_type": "code",
   "execution_count": 81,
   "metadata": {},
   "outputs": [],
   "source": [
    "# Make sure in correct format before running-- must have gone through 'clean_text' fx\n",
    "#nyc_df['description']"
   ]
  },
  {
   "cell_type": "code",
   "execution_count": 104,
   "metadata": {},
   "outputs": [],
   "source": [
    "#nyc_df['valence_total'] = nyc_df['description'].apply(valence_count)"
   ]
  },
  {
   "cell_type": "code",
   "execution_count": 115,
   "metadata": {},
   "outputs": [
    {
     "data": {
      "text/plain": [
       "count    31519.000000\n",
       "mean     7.302135    \n",
       "std      4.461943    \n",
       "min     -6.000000    \n",
       "25%      4.000000    \n",
       "50%      7.000000    \n",
       "75%      10.000000   \n",
       "max      38.000000   \n",
       "Name: valence_total, dtype: float64"
      ]
     },
     "execution_count": 115,
     "metadata": {},
     "output_type": "execute_result"
    }
   ],
   "source": [
    "#nyc_df['valence_total'].describe()"
   ]
  },
  {
   "cell_type": "code",
   "execution_count": 123,
   "metadata": {},
   "outputs": [
    {
     "data": {
      "text/plain": [
       "<matplotlib.axes._subplots.AxesSubplot at 0x1c3970cbd0>"
      ]
     },
     "execution_count": 123,
     "metadata": {},
     "output_type": "execute_result"
    },
    {
     "data": {
      "image/png": "[encoded data removed]",
      "text/plain": [
       "<Figure size 432x288 with 1 Axes>"
      ]
     },
     "metadata": {
      "needs_background": "light"
     },
     "output_type": "display_data"
    }
   ],
   "source": [
    "#nyc_df['valence_total'].plot(kind='hist',bins=10)"
   ]
  },
  {
   "cell_type": "markdown",
   "metadata": {},
   "source": [
    "### Since the valence count is computationally heavy, pickle the df here so I don't have to reload that part"
   ]
  },
  {
   "cell_type": "code",
   "execution_count": 78,
   "metadata": {},
   "outputs": [],
   "source": [
    "with open ('df_with_zip_no_valence.pickle', 'wb') as to_write:\n",
    "    pickle.dump(nyc_df, to_write)"
   ]
  },
  {
   "cell_type": "code",
   "execution_count": 80,
   "metadata": {},
   "outputs": [],
   "source": [
    "# To load pickle back in\n",
    "with open('df_with_zip_no_valence.pickle','rb') as read_file:\n",
    "      nyc_df_model = pickle.load(read_file)"
   ]
  },
  {
   "cell_type": "code",
   "execution_count": 320,
   "metadata": {},
   "outputs": [],
   "source": [
    "# When needed to revert, del the new df\n",
    "#del nyc_df_model"
   ]
  },
  {
   "cell_type": "code",
   "execution_count": 81,
   "metadata": {},
   "outputs": [
    {
     "data": {
      "text/html": [
       "<div>\n",
       "<style scoped>\n",
       "    .dataframe tbody tr th:only-of-type {\n",
       "        vertical-align: middle;\n",
       "    }\n",
       "\n",
       "    .dataframe tbody tr th {\n",
       "        vertical-align: top;\n",
       "    }\n",
       "\n",
       "    .dataframe thead th {\n",
       "        text-align: right;\n",
       "    }\n",
       "</style>\n",
       "<table border=\"1\" class=\"dataframe\">\n",
       "  <thead>\n",
       "    <tr style=\"text-align: right;\">\n",
       "      <th></th>\n",
       "      <th>id</th>\n",
       "      <th>log_price</th>\n",
       "      <th>property_type</th>\n",
       "      <th>room_type</th>\n",
       "      <th>amenities</th>\n",
       "      <th>accommodates</th>\n",
       "      <th>bathrooms</th>\n",
       "      <th>bed_type</th>\n",
       "      <th>cancellation_policy</th>\n",
       "      <th>cleaning_fee</th>\n",
       "      <th>...</th>\n",
       "      <th>name</th>\n",
       "      <th>neighbourhood</th>\n",
       "      <th>number_of_reviews</th>\n",
       "      <th>review_scores_rating</th>\n",
       "      <th>thumbnail_url</th>\n",
       "      <th>zipcode</th>\n",
       "      <th>bedrooms</th>\n",
       "      <th>beds</th>\n",
       "      <th>amenity_count</th>\n",
       "      <th>tourism_mentions</th>\n",
       "    </tr>\n",
       "  </thead>\n",
       "  <tbody>\n",
       "    <tr>\n",
       "      <td>0</td>\n",
       "      <td>6901257</td>\n",
       "      <td>5.010635</td>\n",
       "      <td>Apartment</td>\n",
       "      <td>Entire_home/apt</td>\n",
       "      <td>{\"Wireless Internet\",\"Air conditioning\",Kitchen,Heating,\"Family/kid friendly\",Essentials,\"Hair dryer\",Iron,\"translation missing: en.hosting_amenity_50\"}</td>\n",
       "      <td>3</td>\n",
       "      <td>1.0</td>\n",
       "      <td>Real_Bed</td>\n",
       "      <td>strict</td>\n",
       "      <td>True</td>\n",
       "      <td>...</td>\n",
       "      <td>Beautiful brownstone 1-bedroom</td>\n",
       "      <td>Brooklyn Heights</td>\n",
       "      <td>2</td>\n",
       "      <td>100.0</td>\n",
       "      <td>https://a0.muscache.com/im/pictures/6d7cbbf7-c034-459c-bc82-6522c957627c.jpg?aki_policy=small</td>\n",
       "      <td>11201</td>\n",
       "      <td>1.0</td>\n",
       "      <td>1.0</td>\n",
       "      <td>8</td>\n",
       "      <td>0</td>\n",
       "    </tr>\n",
       "    <tr>\n",
       "      <td>1</td>\n",
       "      <td>6304928</td>\n",
       "      <td>5.129899</td>\n",
       "      <td>Apartment</td>\n",
       "      <td>Entire_home/apt</td>\n",
       "      <td>{\"Wireless Internet\",\"Air conditioning\",Kitchen,Heating,\"Family/kid friendly\",Washer,Dryer,\"Smoke detector\",\"Fire extinguisher\",Essentials,Shampoo,Hangers,\"Hair dryer\",Iron,\"translation missing: en.hosting_amenity_50\"}</td>\n",
       "      <td>7</td>\n",
       "      <td>1.0</td>\n",
       "      <td>Real_Bed</td>\n",
       "      <td>strict</td>\n",
       "      <td>True</td>\n",
       "      <td>...</td>\n",
       "      <td>Superb 3BR Apt Located Near Times Square</td>\n",
       "      <td>Hell's Kitchen</td>\n",
       "      <td>6</td>\n",
       "      <td>93.0</td>\n",
       "      <td>https://a0.muscache.com/im/pictures/348a55fe-4b65-452a-b48a-bfecb3b58a66.jpg?aki_policy=small</td>\n",
       "      <td>10019</td>\n",
       "      <td>3.0</td>\n",
       "      <td>3.0</td>\n",
       "      <td>14</td>\n",
       "      <td>3</td>\n",
       "    </tr>\n",
       "    <tr>\n",
       "      <td>2</td>\n",
       "      <td>7919400</td>\n",
       "      <td>4.976734</td>\n",
       "      <td>Apartment</td>\n",
       "      <td>Entire_home/apt</td>\n",
       "      <td>{TV,\"Cable TV\",\"Wireless Internet\",\"Air conditioning\",Kitchen,Breakfast,\"Buzzer/wireless intercom\",Heating,\"Family/kid friendly\",\"Smoke detector\",\"Carbon monoxide detector\",\"Fire extinguisher\",Essentials,Shampoo,Hangers,\"Hair dryer\",Iron,\"Laptop friendly workspace\",\"translation missing: en.hosting_amenity_50\"}</td>\n",
       "      <td>5</td>\n",
       "      <td>1.0</td>\n",
       "      <td>Real_Bed</td>\n",
       "      <td>moderate</td>\n",
       "      <td>True</td>\n",
       "      <td>...</td>\n",
       "      <td>The Garden Oasis</td>\n",
       "      <td>Harlem</td>\n",
       "      <td>10</td>\n",
       "      <td>92.0</td>\n",
       "      <td>https://a0.muscache.com/im/pictures/6fae5362-9e3a-4fa9-aa54-bbd5ea26538d.jpg?aki_policy=small</td>\n",
       "      <td>10027</td>\n",
       "      <td>1.0</td>\n",
       "      <td>3.0</td>\n",
       "      <td>18</td>\n",
       "      <td>0</td>\n",
       "    </tr>\n",
       "    <tr>\n",
       "      <td>10</td>\n",
       "      <td>5578513</td>\n",
       "      <td>4.605170</td>\n",
       "      <td>Apartment</td>\n",
       "      <td>Private_room</td>\n",
       "      <td>{Internet,\"Wireless Internet\",\"Air conditioning\",Kitchen,\"Pets allowed\",\"Buzzer/wireless intercom\",Heating,Washer,Dryer,\"Smoke detector\",Essentials,Hangers,\"Hair dryer\",\"Laptop friendly workspace\",\"translation missing: en.hosting_amenity_50\"}</td>\n",
       "      <td>2</td>\n",
       "      <td>1.0</td>\n",
       "      <td>Real_Bed</td>\n",
       "      <td>strict</td>\n",
       "      <td>True</td>\n",
       "      <td>...</td>\n",
       "      <td>Large East Village Bedroom To Let!</td>\n",
       "      <td>Alphabet City</td>\n",
       "      <td>82</td>\n",
       "      <td>93.0</td>\n",
       "      <td>https://a0.muscache.com/im/pictures/21726900/19c843e1_original.jpg?aki_policy=small</td>\n",
       "      <td>10009.0</td>\n",
       "      <td>1.0</td>\n",
       "      <td>1.0</td>\n",
       "      <td>14</td>\n",
       "      <td>0</td>\n",
       "    </tr>\n",
       "    <tr>\n",
       "      <td>18</td>\n",
       "      <td>17589436</td>\n",
       "      <td>4.882802</td>\n",
       "      <td>Apartment</td>\n",
       "      <td>Entire_home/apt</td>\n",
       "      <td>{TV,\"Cable TV\",Internet,\"Wireless Internet\",\"Air conditioning\",\"Wheelchair accessible\",Kitchen,Elevator,\"Buzzer/wireless intercom\",Heating,\"Smoke detector\",\"Carbon monoxide detector\",Essentials,Shampoo,Hangers,\"Hair dryer\",Iron,\"Laptop friendly workspace\"}</td>\n",
       "      <td>2</td>\n",
       "      <td>1.0</td>\n",
       "      <td>Real_Bed</td>\n",
       "      <td>strict</td>\n",
       "      <td>True</td>\n",
       "      <td>...</td>\n",
       "      <td>Amazing LES apt - cool, bright...</td>\n",
       "      <td>Lower East Side</td>\n",
       "      <td>26</td>\n",
       "      <td>86.0</td>\n",
       "      <td>NaN</td>\n",
       "      <td>10002</td>\n",
       "      <td>1.0</td>\n",
       "      <td>2.0</td>\n",
       "      <td>18</td>\n",
       "      <td>0</td>\n",
       "    </tr>\n",
       "  </tbody>\n",
       "</table>\n",
       "<p>5 rows × 31 columns</p>\n",
       "</div>"
      ],
      "text/plain": [
       "          id  log_price property_type        room_type  \\\n",
       "0   6901257   5.010635   Apartment     Entire_home/apt   \n",
       "1   6304928   5.129899   Apartment     Entire_home/apt   \n",
       "2   7919400   4.976734   Apartment     Entire_home/apt   \n",
       "10  5578513   4.605170   Apartment     Private_room      \n",
       "18  17589436  4.882802   Apartment     Entire_home/apt   \n",
       "\n",
       "                                                                                                                                                                                                                                                                                                                  amenities  \\\n",
       "0   {\"Wireless Internet\",\"Air conditioning\",Kitchen,Heating,\"Family/kid friendly\",Essentials,\"Hair dryer\",Iron,\"translation missing: en.hosting_amenity_50\"}                                                                                                                                                                  \n",
       "1   {\"Wireless Internet\",\"Air conditioning\",Kitchen,Heating,\"Family/kid friendly\",Washer,Dryer,\"Smoke detector\",\"Fire extinguisher\",Essentials,Shampoo,Hangers,\"Hair dryer\",Iron,\"translation missing: en.hosting_amenity_50\"}                                                                                                \n",
       "2   {TV,\"Cable TV\",\"Wireless Internet\",\"Air conditioning\",Kitchen,Breakfast,\"Buzzer/wireless intercom\",Heating,\"Family/kid friendly\",\"Smoke detector\",\"Carbon monoxide detector\",\"Fire extinguisher\",Essentials,Shampoo,Hangers,\"Hair dryer\",Iron,\"Laptop friendly workspace\",\"translation missing: en.hosting_amenity_50\"}   \n",
       "10  {Internet,\"Wireless Internet\",\"Air conditioning\",Kitchen,\"Pets allowed\",\"Buzzer/wireless intercom\",Heating,Washer,Dryer,\"Smoke detector\",Essentials,Hangers,\"Hair dryer\",\"Laptop friendly workspace\",\"translation missing: en.hosting_amenity_50\"}                                                                        \n",
       "18  {TV,\"Cable TV\",Internet,\"Wireless Internet\",\"Air conditioning\",\"Wheelchair accessible\",Kitchen,Elevator,\"Buzzer/wireless intercom\",Heating,\"Smoke detector\",\"Carbon monoxide detector\",Essentials,Shampoo,Hangers,\"Hair dryer\",Iron,\"Laptop friendly workspace\"}                                                          \n",
       "\n",
       "    accommodates  bathrooms  bed_type cancellation_policy  cleaning_fee  ...  \\\n",
       "0   3             1.0        Real_Bed  strict              True          ...   \n",
       "1   7             1.0        Real_Bed  strict              True          ...   \n",
       "2   5             1.0        Real_Bed  moderate            True          ...   \n",
       "10  2             1.0        Real_Bed  strict              True          ...   \n",
       "18  2             1.0        Real_Bed  strict              True          ...   \n",
       "\n",
       "                                        name     neighbourhood  \\\n",
       "0   Beautiful brownstone 1-bedroom            Brooklyn Heights   \n",
       "1   Superb 3BR Apt Located Near Times Square  Hell's Kitchen     \n",
       "2   The Garden Oasis                          Harlem             \n",
       "10  Large East Village Bedroom To Let!        Alphabet City      \n",
       "18  Amazing LES apt - cool, bright...         Lower East Side    \n",
       "\n",
       "   number_of_reviews review_scores_rating  \\\n",
       "0   2                 100.0                 \n",
       "1   6                 93.0                  \n",
       "2   10                92.0                  \n",
       "10  82                93.0                  \n",
       "18  26                86.0                  \n",
       "\n",
       "                                                                                    thumbnail_url  \\\n",
       "0   https://a0.muscache.com/im/pictures/6d7cbbf7-c034-459c-bc82-6522c957627c.jpg?aki_policy=small   \n",
       "1   https://a0.muscache.com/im/pictures/348a55fe-4b65-452a-b48a-bfecb3b58a66.jpg?aki_policy=small   \n",
       "2   https://a0.muscache.com/im/pictures/6fae5362-9e3a-4fa9-aa54-bbd5ea26538d.jpg?aki_policy=small   \n",
       "10  https://a0.muscache.com/im/pictures/21726900/19c843e1_original.jpg?aki_policy=small             \n",
       "18  NaN                                                                                             \n",
       "\n",
       "    zipcode bedrooms beds amenity_count  tourism_mentions  \n",
       "0   11201    1.0      1.0  8             0                 \n",
       "1   10019    3.0      3.0  14            3                 \n",
       "2   10027    1.0      3.0  18            0                 \n",
       "10  10009.0  1.0      1.0  14            0                 \n",
       "18  10002    1.0      2.0  18            0                 \n",
       "\n",
       "[5 rows x 31 columns]"
      ]
     },
     "execution_count": 81,
     "metadata": {},
     "output_type": "execute_result"
    }
   ],
   "source": [
    "nyc_df_model.head()"
   ]
  },
  {
   "cell_type": "markdown",
   "metadata": {},
   "source": [
    "### Select final columns to use in models, drop ones I won't use\n",
    "- ID because it's just the house ID, city because all NYC for models, first_review because just random date, host_has_profile_pic because almost all had one (31k vs 269), host_since also kind of random date, description + name because they are strings-- extracted info from them, neighbourhood because too many, "
   ]
  },
  {
   "cell_type": "code",
   "execution_count": 322,
   "metadata": {},
   "outputs": [],
   "source": [
    "#nyc_df_model = nyc_df.copy()"
   ]
  },
  {
   "cell_type": "code",
   "execution_count": 82,
   "metadata": {},
   "outputs": [],
   "source": [
    "nyc_df_model.drop(columns=['id','amenities', 'city', 'first_review', 'host_has_profile_pic', 'host_since', 'last_review',\\\n",
    "                                    'latitude', 'description', 'longitude', 'name', 'neighbourhood', 'thumbnail_url'],\\\n",
    "                           inplace=True) "
   ]
  },
  {
   "cell_type": "code",
   "execution_count": 83,
   "metadata": {},
   "outputs": [
    {
     "data": {
      "text/plain": [
       "Index(['log_price', 'property_type', 'room_type', 'accommodates', 'bathrooms',\n",
       "       'bed_type', 'cancellation_policy', 'cleaning_fee',\n",
       "       'host_identity_verified', 'host_response_rate', 'instant_bookable',\n",
       "       'number_of_reviews', 'review_scores_rating', 'zipcode', 'bedrooms',\n",
       "       'beds', 'amenity_count', 'tourism_mentions'],\n",
       "      dtype='object')"
      ]
     },
     "execution_count": 83,
     "metadata": {},
     "output_type": "execute_result"
    }
   ],
   "source": [
    "nyc_df_model.columns"
   ]
  },
  {
   "cell_type": "markdown",
   "metadata": {},
   "source": [
    "### Convert t/f to Bools"
   ]
  },
  {
   "cell_type": "code",
   "execution_count": 84,
   "metadata": {},
   "outputs": [
    {
     "name": "stdout",
     "output_type": "stream",
     "text": [
      "<class 'pandas.core.frame.DataFrame'>\n",
      "Int64Index: 31519 entries, 0 to 74109\n",
      "Data columns (total 18 columns):\n",
      "log_price                 31518 non-null float64\n",
      "property_type             31519 non-null object\n",
      "room_type                 31519 non-null object\n",
      "accommodates              31519 non-null int64\n",
      "bathrooms                 31422 non-null float64\n",
      "bed_type                  31519 non-null object\n",
      "cancellation_policy       31519 non-null object\n",
      "cleaning_fee              31519 non-null bool\n",
      "host_identity_verified    31519 non-null object\n",
      "host_response_rate        21763 non-null object\n",
      "instant_bookable          31519 non-null object\n",
      "number_of_reviews         31519 non-null int64\n",
      "review_scores_rating      31519 non-null float64\n",
      "zipcode                   31084 non-null object\n",
      "bedrooms                  31473 non-null float64\n",
      "beds                      31459 non-null float64\n",
      "amenity_count             31519 non-null int64\n",
      "tourism_mentions          31519 non-null int64\n",
      "dtypes: bool(1), float64(5), int64(4), object(8)\n",
      "memory usage: 4.4+ MB\n"
     ]
    }
   ],
   "source": [
    "nyc_df_model.info()\n",
    "# Host response rate is 10k low, need to examine further"
   ]
  },
  {
   "cell_type": "markdown",
   "metadata": {},
   "source": [
    "### Host response rate is 10k low, need to examine further\n",
    "### It's also a string, with %, need to make int and strip"
   ]
  },
  {
   "cell_type": "code",
   "execution_count": 85,
   "metadata": {},
   "outputs": [
    {
     "data": {
      "text/plain": [
       "count     21763\n",
       "unique    73   \n",
       "top       100% \n",
       "freq      16762\n",
       "Name: host_response_rate, dtype: object"
      ]
     },
     "execution_count": 85,
     "metadata": {},
     "output_type": "execute_result"
    }
   ],
   "source": [
    "nyc_df_model['host_response_rate'].describe()"
   ]
  },
  {
   "cell_type": "code",
   "execution_count": 86,
   "metadata": {},
   "outputs": [
    {
     "data": {
      "text/plain": [
       "0     NaN \n",
       "1     100%\n",
       "2     100%\n",
       "10    100%\n",
       "18    71% \n",
       "Name: host_response_rate, dtype: object"
      ]
     },
     "execution_count": 86,
     "metadata": {},
     "output_type": "execute_result"
    }
   ],
   "source": [
    "nyc_df_model['host_response_rate'].head()"
   ]
  },
  {
   "cell_type": "code",
   "execution_count": 87,
   "metadata": {},
   "outputs": [],
   "source": [
    "#nyc_df_model['host_response_rate'] = nyc_df_model['host_response_rate'].str.replace('%', '')"
   ]
  },
  {
   "cell_type": "code",
   "execution_count": 88,
   "metadata": {},
   "outputs": [],
   "source": [
    "for s in nyc_df_model['host_response_rate']:\n",
    "    if s == 'NaN':\n",
    "        s = np.NaN"
   ]
  },
  {
   "cell_type": "markdown",
   "metadata": {},
   "source": [
    "### Convert the strings to floats, and clean"
   ]
  },
  {
   "cell_type": "code",
   "execution_count": 89,
   "metadata": {},
   "outputs": [],
   "source": [
    "def str_to_rate(s):\n",
    "    if pd.isnull(s) == False:\n",
    "        return float(s.replace('%', ''))\n",
    "    else:\n",
    "        return s"
   ]
  },
  {
   "cell_type": "code",
   "execution_count": 90,
   "metadata": {},
   "outputs": [],
   "source": [
    "nyc_df_model.host_response_rate = nyc_df_model.host_response_rate.apply(str_to_rate)"
   ]
  },
  {
   "cell_type": "markdown",
   "metadata": {},
   "source": [
    "### Need to change the NaN to something before converting to int..would not let me convert as is. Filled NaN with 0"
   ]
  },
  {
   "cell_type": "code",
   "execution_count": 91,
   "metadata": {},
   "outputs": [
    {
     "data": {
      "text/plain": [
       "0        True \n",
       "1        False\n",
       "2        False\n",
       "10       False\n",
       "18       False\n",
       "         ...  \n",
       "74097    False\n",
       "74100    False\n",
       "74106    True \n",
       "74108    False\n",
       "74109    False\n",
       "Name: host_response_rate, Length: 31519, dtype: bool"
      ]
     },
     "execution_count": 91,
     "metadata": {},
     "output_type": "execute_result"
    }
   ],
   "source": [
    "nyc_df_model.host_response_rate.isnull()"
   ]
  },
  {
   "cell_type": "code",
   "execution_count": 92,
   "metadata": {},
   "outputs": [
    {
     "data": {
      "text/plain": [
       "0       NaN   \n",
       "1        100.0\n",
       "2        100.0\n",
       "10       100.0\n",
       "18       71.0 \n",
       "         ...  \n",
       "74097    100.0\n",
       "74100    100.0\n",
       "74106   NaN   \n",
       "74108    100.0\n",
       "74109    100.0\n",
       "Name: host_response_rate, Length: 31519, dtype: float64"
      ]
     },
     "execution_count": 92,
     "metadata": {},
     "output_type": "execute_result"
    }
   ],
   "source": [
    "nyc_df_model.host_response_rate"
   ]
  },
  {
   "cell_type": "code",
   "execution_count": 93,
   "metadata": {},
   "outputs": [],
   "source": [
    "nyc_df_model['host_response_rate'] = pd.to_numeric(nyc_df_model.host_response_rate, errors='coerce').fillna(0).astype(np.int64)"
   ]
  },
  {
   "cell_type": "code",
   "execution_count": 94,
   "metadata": {},
   "outputs": [
    {
     "data": {
      "text/plain": [
       "count    31519.000000\n",
       "mean     64.584187   \n",
       "std      45.599721   \n",
       "min      0.000000    \n",
       "25%      0.000000    \n",
       "50%      100.000000  \n",
       "75%      100.000000  \n",
       "max      100.000000  \n",
       "Name: host_response_rate, dtype: float64"
      ]
     },
     "execution_count": 94,
     "metadata": {},
     "output_type": "execute_result"
    }
   ],
   "source": [
    "nyc_df_model['host_response_rate'].describe()"
   ]
  },
  {
   "cell_type": "markdown",
   "metadata": {},
   "source": [
    "# Ended up filling the NaNs with median of 100-- will likely not be a great predictor due to extremely high 100 scores..."
   ]
  },
  {
   "cell_type": "code",
   "execution_count": 95,
   "metadata": {},
   "outputs": [
    {
     "name": "stderr",
     "output_type": "stream",
     "text": [
      "/anaconda3/envs/metis/lib/python3.7/site-packages/ipykernel_launcher.py:1: FutureWarning: `Series.plot()` should not be called with positional arguments, only keyword arguments. The order of positional arguments will change in the future. Use `Series.plot(kind='hist')` instead of `Series.plot('hist',)`.\n",
      "  \"\"\"Entry point for launching an IPython kernel.\n"
     ]
    },
    {
     "name": "stdout",
     "output_type": "stream",
     "text": [
      "median is: 100.0\n"
     ]
    },
    {
     "data": {
      "image/png": "[encoded data removed]",
      "text/plain": [
       "<Figure size 432x288 with 1 Axes>"
      ]
     },
     "metadata": {
      "needs_background": "light"
     },
     "output_type": "display_data"
    }
   ],
   "source": [
    "nyc_df_model.host_response_rate.plot('hist')\n",
    "print(\"median is:\", nyc_df_model.host_response_rate.median())"
   ]
  },
  {
   "cell_type": "code",
   "execution_count": 96,
   "metadata": {},
   "outputs": [],
   "source": [
    "nyc_df_model['host_response_rate'] = nyc_df_model['host_response_rate'].replace(0,100)"
   ]
  },
  {
   "cell_type": "code",
   "execution_count": 97,
   "metadata": {},
   "outputs": [
    {
     "name": "stderr",
     "output_type": "stream",
     "text": [
      "/anaconda3/envs/metis/lib/python3.7/site-packages/ipykernel_launcher.py:1: FutureWarning: `Series.plot()` should not be called with positional arguments, only keyword arguments. The order of positional arguments will change in the future. Use `Series.plot(kind='hist')` instead of `Series.plot('hist',)`.\n",
      "  \"\"\"Entry point for launching an IPython kernel.\n"
     ]
    },
    {
     "data": {
      "text/plain": [
       "<matplotlib.axes._subplots.AxesSubplot at 0x1c371b8f10>"
      ]
     },
     "execution_count": 97,
     "metadata": {},
     "output_type": "execute_result"
    },
    {
     "data": {
      "image/png": "[encoded data removed]",
      "text/plain": [
       "<Figure size 432x288 with 1 Axes>"
      ]
     },
     "metadata": {
      "needs_background": "light"
     },
     "output_type": "display_data"
    }
   ],
   "source": [
    "nyc_df_model.host_response_rate.plot('hist', bins=20)"
   ]
  },
  {
   "cell_type": "markdown",
   "metadata": {},
   "source": [
    "### Convert t/f to Bools? Might just leave as t/f and let dummy coding take care of it\n",
    "- cancellation_policy       31519 non-null object\n",
    "- cleaning_fee              31519 non-null bool\n",
    "- host_identity_verified    31519 non-null object\n",
    "- instant_bookable          31519 non-null object"
   ]
  },
  {
   "cell_type": "markdown",
   "metadata": {},
   "source": [
    "# One final look at cols before jumping to models, dummies etc."
   ]
  },
  {
   "cell_type": "code",
   "execution_count": null,
   "metadata": {},
   "outputs": [],
   "source": [
    "nyc_df_model.describe"
   ]
  },
  {
   "cell_type": "code",
   "execution_count": 99,
   "metadata": {},
   "outputs": [
    {
     "data": {
      "text/plain": [
       "1.0     21121\n",
       "2.0     6514 \n",
       "3.0     2217 \n",
       "4.0     896  \n",
       "5.0     379  \n",
       "6.0     177  \n",
       "7.0     59   \n",
       "8.0     35   \n",
       "10.0    19   \n",
       "9.0     15   \n",
       "11.0    7    \n",
       "12.0    7    \n",
       "13.0    4    \n",
       "16.0    4    \n",
       "15.0    2    \n",
       "0.0     2    \n",
       "18.0    1    \n",
       "Name: beds, dtype: int64"
      ]
     },
     "execution_count": 99,
     "metadata": {},
     "output_type": "execute_result"
    }
   ],
   "source": [
    "nyc_df_model.beds.value_counts()"
   ]
  },
  {
   "cell_type": "markdown",
   "metadata": {},
   "source": [
    "### Final fixes-- cancellation policy. Del the 10 'super strict'"
   ]
  },
  {
   "cell_type": "code",
   "execution_count": 100,
   "metadata": {},
   "outputs": [
    {
     "data": {
      "text/plain": [
       "strict             14038\n",
       "flexible           9783 \n",
       "moderate           7688 \n",
       "super_strict_30    9    \n",
       "super_strict_60    1    \n",
       "Name: cancellation_policy, dtype: int64"
      ]
     },
     "execution_count": 100,
     "metadata": {},
     "output_type": "execute_result"
    }
   ],
   "source": [
    "nyc_df_model.cancellation_policy.value_counts()"
   ]
  },
  {
   "cell_type": "code",
   "execution_count": 101,
   "metadata": {},
   "outputs": [],
   "source": [
    "nyc_df_model.cancellation_policy.replace('super_strict_30', 'strict',inplace=True)"
   ]
  },
  {
   "cell_type": "code",
   "execution_count": 102,
   "metadata": {},
   "outputs": [],
   "source": [
    "nyc_df_model.cancellation_policy.replace('super_strict_60', 'strict',inplace=True)"
   ]
  },
  {
   "cell_type": "code",
   "execution_count": 104,
   "metadata": {},
   "outputs": [
    {
     "data": {
      "text/plain": [
       "strict      14048\n",
       "flexible    9783 \n",
       "moderate    7688 \n",
       "Name: cancellation_policy, dtype: int64"
      ]
     },
     "execution_count": 104,
     "metadata": {},
     "output_type": "execute_result"
    }
   ],
   "source": [
    "nyc_df_model.cancellation_policy.value_counts()"
   ]
  },
  {
   "cell_type": "markdown",
   "metadata": {},
   "source": [
    "# Pickle cleaned data"
   ]
  },
  {
   "cell_type": "code",
   "execution_count": 105,
   "metadata": {},
   "outputs": [],
   "source": [
    "with open ('nyc_df_cleaned.pickle', 'wb') as to_write:\n",
    "     pickle.dump(nyc_df_model, to_write)"
   ]
  },
  {
   "cell_type": "code",
   "execution_count": null,
   "metadata": {},
   "outputs": [],
   "source": []
  }
 ],
 "metadata": {
  "kernelspec": {
   "display_name": "Python 3",
   "language": "python",
   "name": "python3"
  },
  "language_info": {
   "codemirror_mode": {
    "name": "ipython",
    "version": 3
   },
   "file_extension": ".py",
   "mimetype": "text/x-python",
   "name": "python",
   "nbconvert_exporter": "python",
   "pygments_lexer": "ipython3",
   "version": "3.7.3"
  },
  "toc": {
   "base_numbering": 1,
   "nav_menu": {},
   "number_sections": true,
   "sideBar": true,
   "skip_h1_title": false,
   "title_cell": "Table of Contents",
   "title_sidebar": "Contents",
   "toc_cell": false,
   "toc_position": {},
   "toc_section_display": true,
   "toc_window_display": true
  }
 },
 "nbformat": 4,
 "nbformat_minor": 2
}
