{
 "cells": [
  {
   "cell_type": "code",
   "execution_count": 3,
   "metadata": {},
   "outputs": [],
   "source": [
    "# Import packages\n",
    "import pandas as pd\n",
    "import numpy as np\n",
    "import pickle\n",
    "%matplotlib inline"
   ]
  },
  {
   "cell_type": "code",
   "execution_count": 135,
   "metadata": {},
   "outputs": [],
   "source": [
    "# Import valence datasets\n",
    "# Import valence datasets\n",
    "pos_valence_data = pd.read_csv('/Users/alentersakyan/GitHub/Metis-Project-2/Pos_Valence.txt')\n",
    "neg_valence_data = pd.read_csv('/Users/alentersakyan/GitHub/Metis-Project-2/Neg_Valence.txt')\n",
    "# Examine valence datasets to ensure correct parsing\n",
    "#print(pos_valence_data.head())\n",
    "#print(neg_valence_data.head())"
   ]
  },
  {
   "cell_type": "code",
   "execution_count": 136,
   "metadata": {},
   "outputs": [
    {
     "data": {
      "text/html": [
       "<div>\n",
       "<style scoped>\n",
       "    .dataframe tbody tr th:only-of-type {\n",
       "        vertical-align: middle;\n",
       "    }\n",
       "\n",
       "    .dataframe tbody tr th {\n",
       "        vertical-align: top;\n",
       "    }\n",
       "\n",
       "    .dataframe thead th {\n",
       "        text-align: right;\n",
       "    }\n",
       "</style>\n",
       "<table border=\"1\" class=\"dataframe\">\n",
       "  <thead>\n",
       "    <tr style=\"text-align: right;\">\n",
       "      <th></th>\n",
       "      <th>Positive Words</th>\n",
       "    </tr>\n",
       "  </thead>\n",
       "  <tbody>\n",
       "    <tr>\n",
       "      <td>0</td>\n",
       "      <td>a+</td>\n",
       "    </tr>\n",
       "    <tr>\n",
       "      <td>1</td>\n",
       "      <td>abound</td>\n",
       "    </tr>\n",
       "    <tr>\n",
       "      <td>2</td>\n",
       "      <td>abounds</td>\n",
       "    </tr>\n",
       "    <tr>\n",
       "      <td>3</td>\n",
       "      <td>abundance</td>\n",
       "    </tr>\n",
       "    <tr>\n",
       "      <td>4</td>\n",
       "      <td>abundant</td>\n",
       "    </tr>\n",
       "  </tbody>\n",
       "</table>\n",
       "</div>"
      ],
      "text/plain": [
       "  Positive Words\n",
       "0             a+\n",
       "1         abound\n",
       "2        abounds\n",
       "3      abundance\n",
       "4       abundant"
      ]
     },
     "execution_count": 136,
     "metadata": {},
     "output_type": "execute_result"
    }
   ],
   "source": [
    "pos_valence_data.head()"
   ]
  },
  {
   "cell_type": "code",
   "execution_count": null,
   "metadata": {},
   "outputs": [],
   "source": []
  },
  {
   "cell_type": "code",
   "execution_count": 137,
   "metadata": {},
   "outputs": [],
   "source": [
    "# Import main dataset\n",
    "df = pd.read_csv('/Users/alentersakyan/GitHub/Metis-Project-2/data.csv')"
   ]
  },
  {
   "cell_type": "code",
   "execution_count": 205,
   "metadata": {},
   "outputs": [],
   "source": [
    "#test_df2 = test_df[0:10]"
   ]
  },
  {
   "cell_type": "markdown",
   "metadata": {},
   "source": [
    "## Function to clean up strings, applied to 'description' column data\n",
    "## This gives us a clean list of strings for the 'description' so we can do valence work"
   ]
  },
  {
   "cell_type": "code",
   "execution_count": 217,
   "metadata": {},
   "outputs": [],
   "source": [
    "def clean_text(s):\n",
    "    '''Function to clean up special chars from strings, and make lower case'''\n",
    "    for c in ['{','}', '!','\"', \",\", ':', '/', \"&\", \"-\", \"(\", \")\", \".\"]:\n",
    "        s=s.replace(c,'').lower()\n",
    "    return s.split(' ')"
   ]
  },
  {
   "cell_type": "code",
   "execution_count": 207,
   "metadata": {},
   "outputs": [],
   "source": [
    "#df.amenities = df.amenities.apply(clean_text)"
   ]
  },
  {
   "cell_type": "code",
   "execution_count": 216,
   "metadata": {},
   "outputs": [
    {
     "ename": "AttributeError",
     "evalue": "'list' object has no attribute 'replace'",
     "output_type": "error",
     "traceback": [
      "\u001b[0;31m---------------------------------------------------------------------------\u001b[0m",
      "\u001b[0;31mAttributeError\u001b[0m                            Traceback (most recent call last)",
      "\u001b[0;32m<ipython-input-216-3704d304090e>\u001b[0m in \u001b[0;36m<module>\u001b[0;34m\u001b[0m\n\u001b[0;32m----> 1\u001b[0;31m \u001b[0mdf\u001b[0m\u001b[0;34m.\u001b[0m\u001b[0mamenities\u001b[0m\u001b[0;34m[\u001b[0m\u001b[0;36m10\u001b[0m\u001b[0;34m]\u001b[0m\u001b[0;34m.\u001b[0m\u001b[0msplit\u001b[0m\u001b[0;34m(\u001b[0m\u001b[0;34m','\u001b[0m\u001b[0;34m)\u001b[0m\u001b[0;34m.\u001b[0m\u001b[0mreplace\u001b[0m\u001b[0;34m(\u001b[0m\u001b[0;34m'translation missing: en.hosting_amenity_50'\u001b[0m\u001b[0;34m,\u001b[0m \u001b[0;34m' '\u001b[0m\u001b[0;34m)\u001b[0m\u001b[0;34m\u001b[0m\u001b[0;34m\u001b[0m\u001b[0m\n\u001b[0m",
      "\u001b[0;31mAttributeError\u001b[0m: 'list' object has no attribute 'replace'"
     ]
    }
   ],
   "source": [
    "df.amenities[10].split(',').replace('translation missing: en.hosting_amenity_50', ' ')"
   ]
  },
  {
   "cell_type": "code",
   "execution_count": 140,
   "metadata": {},
   "outputs": [],
   "source": [
    "# for index, row in test_df2.iterrows():\n",
    "#     print(row['description'])"
   ]
  },
  {
   "cell_type": "code",
   "execution_count": 141,
   "metadata": {},
   "outputs": [],
   "source": [
    "df['description'] = df['description'].apply(clean_text)"
   ]
  },
  {
   "cell_type": "code",
   "execution_count": 142,
   "metadata": {
    "scrolled": true
   },
   "outputs": [
    {
     "data": {
      "text/plain": [
       "0    [beautiful, sunlit, brownstone, 1bedroom, in, ...\n",
       "1    [enjoy, travelling, during, your, stay, in, ma...\n",
       "2    [the, oasis, comes, complete, with, a, full, b...\n",
       "3    [this, lightfilled, homeawayfromhome, is, supe...\n",
       "4    [cool, cozy, and, comfortable, studio, located...\n",
       "5    [beautiful, private, room, overlooking, scenic...\n",
       "6    [warm, and, cozy, studio, with, full, kitchen,...\n",
       "7    [arguably, the, best, location, and, safest, i...\n",
       "8    [garden, studio, with, private, entrance, from...\n",
       "9    [quiet, community, close, to, supermarketsrest...\n",
       "Name: description, dtype: object"
      ]
     },
     "execution_count": 142,
     "metadata": {},
     "output_type": "execute_result"
    }
   ],
   "source": [
    "df['description'].head(10)"
   ]
  },
  {
   "cell_type": "code",
   "execution_count": 147,
   "metadata": {
    "collapsed": true
   },
   "outputs": [
    {
     "name": "stdout",
     "output_type": "stream",
     "text": [
      "['beautiful', 'sunlit', 'brownstone', '1bedroom', 'in', 'the', 'loveliest', 'neighborhood', 'in', 'brooklyn', 'blocks', 'from', 'the', 'promenade', 'and', 'brooklyn', 'bridge', 'park', 'with', 'their', 'stunning', 'views', 'of', 'manhattan', 'and', 'from', 'the', 'great', 'shopping', 'and', 'food']\n",
      "['a', '1044', 'sq', 'ft', \"1950's\", 'beach', 'house', '3', 'blocks', 'from', 'the', 'beach', 'on', 'the', 'green', 'belt', '1', 'block', 'from', 'the', 'valley', 'park', 'situated', 'between', 'the', 'manhattan', 'and', 'hermosa', 'piers', 'close', 'to', 'all', 'the', 'southbay', 'has', 'to', 'offer', 'this', 'is', 'a', '1044sq', 'ft', \"1950's\", 'beach', 'house', 'with', 'an', 'open', 'floor', 'plan', 'one', 'bedroom', 'has', 'an', 'antique', 'queen', 'bed', 'the', '2nd', 'bedroomoffice', 'has', 'a', 'full', 'size', 'murphy', 'bed', 'and', 'a', 'sofa', 'wfoldout', 'bed', 'in', 'the', 'living', 'room', 'beach', 'gear', 'is', 'available;', 'chairs', 'towels', 'umbrellas', 'one', 'car', 'garage', 'no', 'garage', 'door', 'opener', 'ample', 'free', 'street', 'parking', 'available', 'no', 'permit', 'required', 'i', 'can', 'usually', 'park', 'right', 'in', 'front', 'of', 'the', 'house', 'the', 'laundry', 'room', 'is', 'accessed', 'through', 'the', 'garage', 'side', 'door', 'luggage', 'racks', 'closet', 'space', 'and', 'dressers', 'in', 'each', 'bedroom', 'for', 'guest', 'use', 'i', 'try', 'not', 'to', 'disturb', 'my', 'guests', 'unnecessarily', 'during', 'their', 'stay', 'but', 'am', 'available', 'if', 'needed', \"i've\", 'lived', 'in', 'the', 'southbay', 'since', '1969', 'i', 'hope', 'you', 'enjoy', 'stay', 'as', 'much', 'as', 'i', 'have', 'loved', 'living', 'here', 'for', 'so', 'many', 'years', 'it', 'is', 'a', 'residential', 'family', 'friendly', 'neighborhood', 'hermosa', 'means', '']\n",
      "['beautiful', 'apartment', 'at', 'the', 'heart', 'of', 'the', 'upper', 'east', 'side', 'perfect', 'for', 'any', 'couple', 'or', 'family', 'the', 'illustrious', 'upper', 'east', 'side', 'is', 'widely', 'renowned', 'for', 'its', 'highquality', 'residential', 'living', 'and', 'its', 'worldclass', 'cultural', 'institutions', 'this', 'neighborhood', 'is', 'famous', 'for', 'being', 'safe', 'green', 'and', 'beautiful', 'so', 'it’s', 'no', 'wonder', 'that', 'the', 'upper', 'east', 'side', 'is', 'easily', 'one', 'of', 'the', 'most', 'charming', 'neighborhoods', 'in', 'manhattan']\n",
      "['penthouse', 'level', 'unit', 'with', 'balcony', 'and', 'sunset', 'view', 'located', 'the', 'artsy', 'district', 'of', 'north', 'hollywood', 'ca', 'this', 'unit', 'has', 'access', 'to', 'a', 'gym', 'pool', 'and', 'spa', 'onsite', 'full', 'kitchen', 'with', 'dishwasher', 'in', 'the', 'unit', 'as', 'well', 'as', 'a', 'washer', 'and', 'dryer', 'walking', 'distance', 'to', 'many', 'popular', 'bars', 'and', 'eateries', 'about', 'a', '5', 'minute', 'uber', 'drive', 'to', 'hollywood', 'and', 'universal', 'studios']\n",
      "['real', 'luxury', 'with', 'a', 'home', 'feel', '', 'complimentary', 'continental', 'breakfast', 'at', 'rooftop', 'weekdays', '24', 'hour', 'gym', 'access', '', 'hardwood', 'floors', 'chandelier', 'renovated', 'finishes', '', 'huge', 'windows', 'in', 'room', '', 'restaurants', 'markets', 'banks', 'everything', 'you', 'need', 'a', 'step', 'away', '', '24', 'hour', 'pharmacy', 'right', 'next', 'door', '5', 'minutes', 'walk', 'from', 'seaport', '10', 'minutes', 'from', 'battery', 'park', 'beautiful', 'area', 'for', 'jogging', 'or', 'just', 'a', 'nice', 'stroll', '', 'nice', 'homey', 'apartment', 'organized', 'and', 'clean', 'always', '', 'full', 'access', 'to', 'amenities', 'minimum', 'interaction', 'available', 'to', 'help', 'when', 'needed', 'via', 'phone', 'or', 'text', 'several', 'train', 'lines', 'less', 'than', '5', 'minutes', 'walking', 'no', 'shoes', 'in', 'house', '', '', 'wifi', 'and', 'tv', 'available', 'in', 'lounge']\n",
      "['you', 'will', 'love', 'my', 'apartment', 'once', 'you', 'enter', 'the', 'front', 'door', 'this', 'amazing', 'luxury', 'apartment', 'features', 'high', 'ceilings', 'beautiful', 'white', 'tile', 'floors', 'central', 'ac', 'recessed', 'lighting', 'and', 'floor', 'to', 'ceiling', 'windows', 'which', 'brings', 'in', 'tons', 'of', 'natural', 'light', 'there', 'is', 'also', 'a', 'dishwasher', 'and', 'wd', 'in', 'the', 'apartment', 'the', 'bedroom', 'has', 'a', 'queen', 'bed', 'dresser', 'stand', 'up', 'mirror', 'and', 'lot', 'of', 'closet', 'space', 'spacious', 'living', 'room', 'with', 'a', 'comfy', 'couch', 'desk', 'w', 'chair', 'full', 'body', 'mirror', '60', 'tv', 'with', 'cable', 'and', 'bar', 'table', 'for', 'your', 'enjoyment', 'located', 'close', 'to', 'j', 'train', 'chauncey', 'and', 'l', 'train', 'wilson']\n"
     ]
    }
   ],
   "source": [
    "# Examine a few descriptions\n",
    "print(df['description'][0])\n",
    "print(df['description'][11])\n",
    "print(df['description'][45])\n",
    "print(df['description'][67])\n",
    "print(df['description'][189])\n",
    "print(df['description'][199])"
   ]
  },
  {
   "cell_type": "markdown",
   "metadata": {},
   "source": [
    "## Valence"
   ]
  },
  {
   "cell_type": "markdown",
   "metadata": {},
   "source": [
    "Need to loop through each 'description' column (newly cleaned/stripped) and count # of matches to pos/ neg valence lists"
   ]
  },
  {
   "cell_type": "code",
   "execution_count": 143,
   "metadata": {},
   "outputs": [],
   "source": [
    "test_pos = ['sunlit', 'loveliest', 'stunning', 'great']\n",
    "test_neg = ['Brooklyn']"
   ]
  },
  {
   "cell_type": "code",
   "execution_count": 144,
   "metadata": {},
   "outputs": [
    {
     "name": "stdout",
     "output_type": "stream",
     "text": [
      "['beautiful', 'sunlit', 'brownstone', '1bedroom', 'in', 'the', 'loveliest', 'neighborhood', 'in', 'brooklyn', 'blocks', 'from', 'the', 'promenade', 'and', 'brooklyn', 'bridge', 'park', 'with', 'their', 'stunning', 'views', 'of', 'manhattan', 'and', 'from', 'the', 'great', 'shopping', 'and', 'food']\n"
     ]
    }
   ],
   "source": [
    "description = df['description'][0]\n",
    "print(description)"
   ]
  },
  {
   "cell_type": "markdown",
   "metadata": {},
   "source": [
    "## How to apply this logic to loop through all rows in pandas DF"
   ]
  },
  {
   "cell_type": "code",
   "execution_count": 154,
   "metadata": {
    "scrolled": true
   },
   "outputs": [
    {
     "name": "stdout",
     "output_type": "stream",
     "text": [
      "3\n",
      "3\n",
      "0\n"
     ]
    }
   ],
   "source": [
    "pos_count = 0\n",
    "neg_count = 0\n",
    "\n",
    "words = df['description'][0]\n",
    "\n",
    "for word in words: # words = description so need to make this iterate\n",
    "    num_pos_matches = pos_valence_data[pos_valence_data['Positive Words'] == word].shape[0]\n",
    "    if num_pos_matches > 0:\n",
    "        pos_count += 1\n",
    "    num_neg_matches = neg_valence_data[neg_valence_data['Negative Words'] == word].shape[0]\n",
    "    if num_neg_matches > 0:\n",
    "        neg_count += 1\n",
    "total_count = pos_count - neg_count\n",
    "    \n",
    "print(total_count)\n",
    "print(pos_count)\n",
    "print(neg_count)\n",
    "    \n",
    "#     #print(word)\n",
    "#         print(pos_word)\n",
    "#         print(word)\n",
    "#         break\n",
    "#         if word in pos_word:\n",
    "#         #print(word)\n",
    "#             pos_count.append(word)\n",
    "#     for index, neg_word in neg_valence_data.items():\n",
    "#         if word in neg_word:\n",
    "#         #print(word)\n",
    "#             neg_count.append(word)\n",
    "# print(pos_count)\n",
    "#print(neg_count)\n",
    "# print(len(pos_count))\n",
    "#print(len(neg_count))"
   ]
  },
  {
   "cell_type": "code",
   "execution_count": 155,
   "metadata": {
    "collapsed": true
   },
   "outputs": [
    {
     "ename": "KeyboardInterrupt",
     "evalue": "",
     "output_type": "error",
     "traceback": [
      "\u001b[0;31m---------------------------------------------------------------------------\u001b[0m",
      "\u001b[0;31mKeyboardInterrupt\u001b[0m                         Traceback (most recent call last)",
      "\u001b[0;32m<ipython-input-155-8e0665ae3090>\u001b[0m in \u001b[0;36m<module>\u001b[0;34m\u001b[0m\n\u001b[1;32m      5\u001b[0m \u001b[0;34m\u001b[0m\u001b[0m\n\u001b[1;32m      6\u001b[0m \u001b[0;32mfor\u001b[0m \u001b[0mword\u001b[0m \u001b[0;32min\u001b[0m \u001b[0mwords\u001b[0m\u001b[0;34m:\u001b[0m \u001b[0;31m# words = description so need to make this iterate\u001b[0m\u001b[0;34m\u001b[0m\u001b[0;34m\u001b[0m\u001b[0m\n\u001b[0;32m----> 7\u001b[0;31m     \u001b[0mnum_pos_matches\u001b[0m \u001b[0;34m=\u001b[0m \u001b[0mpos_valence_data\u001b[0m\u001b[0;34m[\u001b[0m\u001b[0mpos_valence_data\u001b[0m\u001b[0;34m[\u001b[0m\u001b[0;34m'Positive Words'\u001b[0m\u001b[0;34m]\u001b[0m \u001b[0;34m==\u001b[0m \u001b[0mword\u001b[0m\u001b[0;34m]\u001b[0m\u001b[0;34m.\u001b[0m\u001b[0mshape\u001b[0m\u001b[0;34m[\u001b[0m\u001b[0;36m0\u001b[0m\u001b[0;34m]\u001b[0m\u001b[0;34m\u001b[0m\u001b[0;34m\u001b[0m\u001b[0m\n\u001b[0m\u001b[1;32m      8\u001b[0m     \u001b[0;32mif\u001b[0m \u001b[0mnum_pos_matches\u001b[0m \u001b[0;34m>\u001b[0m \u001b[0;36m0\u001b[0m\u001b[0;34m:\u001b[0m\u001b[0;34m\u001b[0m\u001b[0;34m\u001b[0m\u001b[0m\n\u001b[1;32m      9\u001b[0m         \u001b[0mpos_count\u001b[0m \u001b[0;34m+=\u001b[0m \u001b[0;36m1\u001b[0m\u001b[0;34m\u001b[0m\u001b[0;34m\u001b[0m\u001b[0m\n",
      "\u001b[0;32m/anaconda3/envs/metis/lib/python3.7/site-packages/pandas/core/ops/__init__.py\u001b[0m in \u001b[0;36mwrapper\u001b[0;34m(self, other, axis)\u001b[0m\n\u001b[1;32m   1236\u001b[0m             \u001b[0mres_values\u001b[0m \u001b[0;34m=\u001b[0m \u001b[0mcom\u001b[0m\u001b[0;34m.\u001b[0m\u001b[0mvalues_from_object\u001b[0m\u001b[0;34m(\u001b[0m\u001b[0mres\u001b[0m\u001b[0;34m)\u001b[0m\u001b[0;34m\u001b[0m\u001b[0;34m\u001b[0m\u001b[0m\n\u001b[1;32m   1237\u001b[0m             return self._constructor(\n\u001b[0;32m-> 1238\u001b[0;31m                 \u001b[0mres_values\u001b[0m\u001b[0;34m,\u001b[0m \u001b[0mindex\u001b[0m\u001b[0;34m=\u001b[0m\u001b[0mself\u001b[0m\u001b[0;34m.\u001b[0m\u001b[0mindex\u001b[0m\u001b[0;34m,\u001b[0m \u001b[0mname\u001b[0m\u001b[0;34m=\u001b[0m\u001b[0mres_name\u001b[0m\u001b[0;34m,\u001b[0m \u001b[0mdtype\u001b[0m\u001b[0;34m=\u001b[0m\u001b[0;34m\"bool\"\u001b[0m\u001b[0;34m\u001b[0m\u001b[0;34m\u001b[0m\u001b[0m\n\u001b[0m\u001b[1;32m   1239\u001b[0m             )\n\u001b[1;32m   1240\u001b[0m \u001b[0;34m\u001b[0m\u001b[0m\n",
      "\u001b[0;32m/anaconda3/envs/metis/lib/python3.7/site-packages/pandas/core/series.py\u001b[0m in \u001b[0;36m__init__\u001b[0;34m(self, data, index, dtype, name, copy, fastpath)\u001b[0m\n\u001b[1;32m    294\u001b[0m                 \u001b[0;31m# have a proper length\u001b[0m\u001b[0;34m\u001b[0m\u001b[0;34m\u001b[0m\u001b[0;34m\u001b[0m\u001b[0m\n\u001b[1;32m    295\u001b[0m                 \u001b[0;32mtry\u001b[0m\u001b[0;34m:\u001b[0m\u001b[0;34m\u001b[0m\u001b[0;34m\u001b[0m\u001b[0m\n\u001b[0;32m--> 296\u001b[0;31m                     \u001b[0;32mif\u001b[0m \u001b[0mlen\u001b[0m\u001b[0;34m(\u001b[0m\u001b[0mindex\u001b[0m\u001b[0;34m)\u001b[0m \u001b[0;34m!=\u001b[0m \u001b[0mlen\u001b[0m\u001b[0;34m(\u001b[0m\u001b[0mdata\u001b[0m\u001b[0;34m)\u001b[0m\u001b[0;34m:\u001b[0m\u001b[0;34m\u001b[0m\u001b[0;34m\u001b[0m\u001b[0m\n\u001b[0m\u001b[1;32m    297\u001b[0m                         raise ValueError(\n\u001b[1;32m    298\u001b[0m                             \u001b[0;34m\"Length of passed values is {val}, \"\u001b[0m\u001b[0;34m\u001b[0m\u001b[0;34m\u001b[0m\u001b[0m\n",
      "\u001b[0;32m/anaconda3/envs/metis/lib/python3.7/site-packages/pandas/core/indexes/range.py\u001b[0m in \u001b[0;36m__len__\u001b[0;34m(self)\u001b[0m\n\u001b[1;32m    654\u001b[0m         \u001b[0;32mreturn\u001b[0m \u001b[0mthe\u001b[0m \u001b[0mlength\u001b[0m \u001b[0mof\u001b[0m \u001b[0mthe\u001b[0m \u001b[0mRangeIndex\u001b[0m\u001b[0;34m\u001b[0m\u001b[0;34m\u001b[0m\u001b[0m\n\u001b[1;32m    655\u001b[0m         \"\"\"\n\u001b[0;32m--> 656\u001b[0;31m         \u001b[0;32mreturn\u001b[0m \u001b[0mlen\u001b[0m\u001b[0;34m(\u001b[0m\u001b[0mself\u001b[0m\u001b[0;34m.\u001b[0m\u001b[0m_range\u001b[0m\u001b[0;34m)\u001b[0m\u001b[0;34m\u001b[0m\u001b[0;34m\u001b[0m\u001b[0m\n\u001b[0m\u001b[1;32m    657\u001b[0m \u001b[0;34m\u001b[0m\u001b[0m\n\u001b[1;32m    658\u001b[0m     \u001b[0;34m@\u001b[0m\u001b[0mproperty\u001b[0m\u001b[0;34m\u001b[0m\u001b[0;34m\u001b[0m\u001b[0m\n",
      "\u001b[0;31mKeyboardInterrupt\u001b[0m: "
     ]
    }
   ],
   "source": [
    "pos_count = 0\n",
    "neg_count = 0\n",
    "\n",
    "words = df['description'].iteritems()\n",
    "\n",
    "for word in words: # words = description so need to make this iterate\n",
    "    num_pos_matches = pos_valence_data[pos_valence_data['Positive Words'] == word].shape[0]\n",
    "    if num_pos_matches > 0:\n",
    "        pos_count += 1\n",
    "    num_neg_matches = neg_valence_data[neg_valence_data['Negative Words'] == word].shape[0]\n",
    "    if num_neg_matches > 0:\n",
    "        neg_count += 1\n",
    "total_count = pos_count - neg_count\n",
    "    \n",
    "print(total_count)\n",
    "print(pos_count)\n",
    "print(neg_count)\n",
    "    \n",
    "#     #print(word)\n",
    "#         print(pos_word)\n",
    "#         print(word)\n",
    "#         break\n",
    "#         if word in pos_word:\n",
    "#         #print(word)\n",
    "#             pos_count.append(word)\n",
    "#     for index, neg_word in neg_valence_data.items():\n",
    "#         if word in neg_word:\n",
    "#         #print(word)\n",
    "#             neg_count.append(word)\n",
    "# print(pos_count)\n",
    "#print(neg_count)\n",
    "# print(len(pos_count))\n",
    "#print(len(neg_count))"
   ]
  },
  {
   "cell_type": "code",
   "execution_count": 138,
   "metadata": {},
   "outputs": [
    {
     "data": {
      "text/plain": [
       "0"
      ]
     },
     "execution_count": 138,
     "metadata": {},
     "output_type": "execute_result"
    }
   ],
   "source": [
    "pos_valence_data[pos_valence_data['Positive Words'] == word].shape[0]"
   ]
  },
  {
   "cell_type": "markdown",
   "metadata": {},
   "source": [
    "# Testing on smaller/test DF"
   ]
  },
  {
   "cell_type": "markdown",
   "metadata": {},
   "source": [
    "Make function to iterate through cleaned 'description' column, then apply() to df['description']\n",
    "Or, df.iterrows? Which is better?"
   ]
  },
  {
   "cell_type": "markdown",
   "metadata": {},
   "source": [
    "## __Need to check against DFs of pos/neg, not test lists like I have here__....once iterated over all, check variance on this, might want to do all positive, versus pos-neg"
   ]
  },
  {
   "cell_type": "code",
   "execution_count": null,
   "metadata": {},
   "outputs": [],
   "source": [
    "# # Need to \n",
    "# def valence_count(description_column):\n",
    "#     '''Input DF column 'description', cross ref to pos/neg list of words and get count of each. Return sum\\\n",
    "#     of pos and neg words to get a total valence score'''\n",
    "#     pos_count = []\n",
    "#     neg_count = []\n",
    "#     for word in description_column:\n",
    "#         #print(word)\n",
    "#         if word in test_pos:\n",
    "#             #print(word)\n",
    "#             pos_count.append(word)\n",
    "#         if word in test_neg:\n",
    "#             neg_count.append(word)\n",
    "#     #return (len(pos_count))\n",
    "#     return (len(pos_count) - len(neg_count))\n",
    "    "
   ]
  },
  {
   "cell_type": "code",
   "execution_count": 147,
   "metadata": {},
   "outputs": [],
   "source": [
    "# def valence_count(description_column):\n",
    "#     pos_count = 0\n",
    "#     neg_count = 0\n",
    "#     #words = df['description'].iteritems()\n",
    "#     for word in description_column: # words = description so need to make this iterate\n",
    "#         num_pos_matches = pos_valence_data[pos_valence_data['Positive Words'] == word].shape[0]\n",
    "#         if num_pos_matches > 0:\n",
    "#             pos_count += 1\n",
    "#         num_neg_matches = neg_valence_data[neg_valence_data['Negative Words'] == word].shape[0]\n",
    "#         if num_neg_matches > 0:\n",
    "#             neg_count += 1\n",
    "#     total_count = pos_count - neg_count\n",
    "    \n",
    "#     print(pos_count)\n",
    "#     print(neg_count)\n",
    "#     return total_count"
   ]
  },
  {
   "cell_type": "code",
   "execution_count": 186,
   "metadata": {},
   "outputs": [],
   "source": [
    "def valence_count(description_column):\n",
    "    '''Get valence count (how positive) for the descriptions the hosts write. This works by matching\\\n",
    "    the words in the description to online lists of pos/neg valence words'''\n",
    "    print(type(description_column))\n",
    "    pos_count = 0\n",
    "    neg_count = 0\n",
    "    #words = df['description'].iteritems()\n",
    "    for word in description_column: # words = description so need to make this iterate\n",
    "        num_pos_matches = pos_valence_data[pos_valence_data['Positive Words'] == word].shape[0]\n",
    "        if num_pos_matches > 0:\n",
    "            pos_count += 1\n",
    "        num_neg_matches = neg_valence_data[neg_valence_data['Negative Words'] == word].shape[0]\n",
    "        if num_neg_matches > 0:\n",
    "            neg_count += 1\n",
    "    total_count = pos_count - neg_count\n",
    "    return total_count"
   ]
  },
  {
   "cell_type": "code",
   "execution_count": 189,
   "metadata": {},
   "outputs": [
    {
     "data": {
      "text/plain": [
       "0        Beautiful, sunlit brownstone 1-bedroom in the ...\n",
       "1        Enjoy travelling during your stay in Manhattan...\n",
       "2        The Oasis comes complete with a full backyard ...\n",
       "3        This light-filled home-away-from-home is super...\n",
       "4        Cool, cozy, and comfortable studio located in ...\n",
       "                               ...                        \n",
       "74106                            one room in bushwick apt \n",
       "74107    Located on the Pacific Coast Highway, this apa...\n",
       "74108    A modern apartment located in East Williamsbur...\n",
       "74109    Fully renovated, designer's studio located in ...\n",
       "74110    You will stay-aboard the Island Trader at one ...\n",
       "Name: description, Length: 74111, dtype: object"
      ]
     },
     "execution_count": 189,
     "metadata": {},
     "output_type": "execute_result"
    }
   ],
   "source": [
    "df['description']"
   ]
  },
  {
   "cell_type": "code",
   "execution_count": 188,
   "metadata": {},
   "outputs": [
    {
     "name": "stdout",
     "output_type": "stream",
     "text": [
      "<class 'str'>\n",
      "<class 'str'>\n",
      "<class 'str'>\n",
      "<class 'str'>\n",
      "<class 'str'>\n",
      "<class 'str'>\n",
      "<class 'str'>\n",
      "<class 'str'>\n",
      "<class 'str'>\n",
      "<class 'str'>\n",
      "<class 'str'>\n",
      "<class 'str'>\n",
      "<class 'str'>\n",
      "<class 'str'>\n",
      "<class 'str'>\n",
      "<class 'str'>\n",
      "<class 'str'>\n",
      "<class 'str'>\n",
      "<class 'str'>\n",
      "<class 'str'>\n"
     ]
    },
    {
     "data": {
      "text/plain": [
       "0     0\n",
       "1     0\n",
       "2     0\n",
       "3     0\n",
       "4     0\n",
       "5     0\n",
       "6     0\n",
       "7     0\n",
       "8     0\n",
       "9     0\n",
       "10    0\n",
       "11    0\n",
       "12    0\n",
       "13    0\n",
       "14    0\n",
       "15    0\n",
       "16    0\n",
       "17    0\n",
       "18    0\n",
       "19    0\n",
       "Name: description, dtype: int64"
      ]
     },
     "execution_count": 188,
     "metadata": {},
     "output_type": "execute_result"
    }
   ],
   "source": [
    "test_df2['description'].apply(valence_count)"
   ]
  },
  {
   "cell_type": "code",
   "execution_count": 178,
   "metadata": {},
   "outputs": [
    {
     "name": "stdout",
     "output_type": "stream",
     "text": [
      "0\n",
      "0\n"
     ]
    }
   ],
   "source": [
    "pos_count = 0\n",
    "neg_count = 0\n",
    "\n",
    "#words = test_df2['description'].iteritems()\n",
    "\n",
    "words = test_df2['description'][2].lower()\n",
    "for word in words: # words = description so need to make this iterate\n",
    "    num_pos_matches = pos_valence_data[pos_valence_data['Positive Words'] == word].shape[0]\n",
    "    if num_pos_matches > 0:\n",
    "        pos_count += 1\n",
    "    num_neg_matches = neg_valence_data[neg_valence_data['Negative Words'] == word].shape[0]\n",
    "    if num_neg_matches > 0:\n",
    "        neg_count += 1\n",
    "total_count = pos_count - neg_count\n",
    "    \n",
    "\n",
    "print(pos_count)\n",
    "print(neg_count)"
   ]
  },
  {
   "cell_type": "code",
   "execution_count": 177,
   "metadata": {},
   "outputs": [
    {
     "data": {
      "text/plain": [
       "\"the oasis comes complete with a full backyard with outdoor furniture to make the most of this summer vacation!!  the unit has high ceilings, a completed renovation throughout, beautiful flood lighting and exposed brick! best part, total seclusion. you share with no one! the entire unit is yours during your stay.  it's a fully furnished apartment that can hold up to 5 people. the only items you need are a toothbrush and your luggage!!! the unit has high ceilings, a completed renovation throughout, beautiful flood lighting and exposed brick! not to mention the large backyard complete with ourdoor furniture.  best part, total seclusion. you share with no one! the entire unit is yours during your stay. the entire unit and backyard garden area my assistant is available off site via phone.   other than that, you will be alone for your stay. the neighborhood of central harlem is very diverse and full of culture! we are a few blocks from historic 125th street, the apollo theatre, the schomburg\""
      ]
     },
     "execution_count": 177,
     "metadata": {},
     "output_type": "execute_result"
    }
   ],
   "source": [
    "test_df2['description'][2].lower()"
   ]
  },
  {
   "cell_type": "code",
   "execution_count": null,
   "metadata": {},
   "outputs": [],
   "source": []
  },
  {
   "cell_type": "code",
   "execution_count": null,
   "metadata": {},
   "outputs": [],
   "source": []
  },
  {
   "cell_type": "markdown",
   "metadata": {},
   "source": [
    "# To test function and count of valence words, create small DF from original and test below\n",
    "# Sat night-- error, not working correclty?!"
   ]
  },
  {
   "cell_type": "code",
   "execution_count": 152,
   "metadata": {},
   "outputs": [],
   "source": [
    "test_df2 = df[:20].copy()"
   ]
  },
  {
   "cell_type": "code",
   "execution_count": 190,
   "metadata": {},
   "outputs": [
    {
     "data": {
      "text/plain": [
       "0     Beautiful, sunlit brownstone 1-bedroom in the ...\n",
       "1     Enjoy travelling during your stay in Manhattan...\n",
       "2     The Oasis comes complete with a full backyard ...\n",
       "3     This light-filled home-away-from-home is super...\n",
       "4     Cool, cozy, and comfortable studio located in ...\n",
       "5     Beautiful private room overlooking scenic view...\n",
       "6     Warm and cozy studio with full kitchen and bat...\n",
       "7     Arguably the best location (and safest) in dow...\n",
       "8     Garden Studio with private entrance from the s...\n",
       "9     Quiet community. Close to supermarkets,restaur...\n",
       "10    This is a bright bedroom in an historic buildi...\n",
       "11    A 1044 sq. ft., 1950's beach house. 3 Blocks f...\n",
       "12    Newly furnished room in beach apartment one st...\n",
       "13    Amazing location at the heart of U street and ...\n",
       "14    This apartment is charming and wonderful. Beau...\n",
       "15    Just west of vibrant Wicker Park and Ukranian ...\n",
       "16    Our place IS Six Corners! Top floor of 4 story...\n",
       "17    This is a nice duplex in a good location.Recen...\n",
       "18    I am renting a very spacious, unique, bright L...\n",
       "19    Huge 3 bedroom apartment situated in Flatbush,...\n",
       "Name: description, dtype: object"
      ]
     },
     "execution_count": 190,
     "metadata": {},
     "output_type": "execute_result"
    }
   ],
   "source": [
    "test_df2.description"
   ]
  },
  {
   "cell_type": "code",
   "execution_count": 191,
   "metadata": {},
   "outputs": [],
   "source": [
    "def clean_text(s):\n",
    "    '''Function to clean up special chars from strings, and make lower case'''\n",
    "    for c in ['{','}', '!','\"', \",\", ':', '/', \"&\", \"-\", \"(\", \")\", \".\"]:\n",
    "        s=s.replace(c,'').lower()\n",
    "    return s.split(' ')"
   ]
  },
  {
   "cell_type": "code",
   "execution_count": 194,
   "metadata": {},
   "outputs": [
    {
     "data": {
      "text/plain": [
       "0        [beautiful, sunlit, brownstone, 1bedroom, in, ...\n",
       "1        [enjoy, travelling, during, your, stay, in, ma...\n",
       "2        [the, oasis, comes, complete, with, a, full, b...\n",
       "3        [this, lightfilled, homeawayfromhome, is, supe...\n",
       "4        [cool, cozy, and, comfortable, studio, located...\n",
       "                               ...                        \n",
       "74106                     [one, room, in, bushwick, apt, ]\n",
       "74107    [located, on, the, pacific, coast, highway, th...\n",
       "74108    [a, modern, apartment, located, in, east, will...\n",
       "74109    [fully, renovated, designer's, studio, located...\n",
       "74110    [you, will, stayaboard, the, island, trader, a...\n",
       "Name: description, Length: 74111, dtype: object"
      ]
     },
     "execution_count": 194,
     "metadata": {},
     "output_type": "execute_result"
    }
   ],
   "source": [
    "df['description'].apply(clean_text)"
   ]
  },
  {
   "cell_type": "code",
   "execution_count": 192,
   "metadata": {},
   "outputs": [
    {
     "ename": "AttributeError",
     "evalue": "(\"'Series' object has no attribute 'lower'\", 'occurred at index id')",
     "output_type": "error",
     "traceback": [
      "\u001b[0;31m---------------------------------------------------------------------------\u001b[0m",
      "\u001b[0;31mAttributeError\u001b[0m                            Traceback (most recent call last)",
      "\u001b[0;32m<ipython-input-192-ad4d84e82d87>\u001b[0m in \u001b[0;36m<module>\u001b[0;34m\u001b[0m\n\u001b[0;32m----> 1\u001b[0;31m \u001b[0mtest_df2\u001b[0m\u001b[0;34m.\u001b[0m\u001b[0mapply\u001b[0m\u001b[0;34m(\u001b[0m\u001b[0mclean_text\u001b[0m\u001b[0;34m)\u001b[0m\u001b[0;34m\u001b[0m\u001b[0;34m\u001b[0m\u001b[0m\n\u001b[0m",
      "\u001b[0;32m/anaconda3/envs/metis/lib/python3.7/site-packages/pandas/core/frame.py\u001b[0m in \u001b[0;36mapply\u001b[0;34m(self, func, axis, broadcast, raw, reduce, result_type, args, **kwds)\u001b[0m\n\u001b[1;32m   6911\u001b[0m             \u001b[0mkwds\u001b[0m\u001b[0;34m=\u001b[0m\u001b[0mkwds\u001b[0m\u001b[0;34m,\u001b[0m\u001b[0;34m\u001b[0m\u001b[0;34m\u001b[0m\u001b[0m\n\u001b[1;32m   6912\u001b[0m         )\n\u001b[0;32m-> 6913\u001b[0;31m         \u001b[0;32mreturn\u001b[0m \u001b[0mop\u001b[0m\u001b[0;34m.\u001b[0m\u001b[0mget_result\u001b[0m\u001b[0;34m(\u001b[0m\u001b[0;34m)\u001b[0m\u001b[0;34m\u001b[0m\u001b[0;34m\u001b[0m\u001b[0m\n\u001b[0m\u001b[1;32m   6914\u001b[0m \u001b[0;34m\u001b[0m\u001b[0m\n\u001b[1;32m   6915\u001b[0m     \u001b[0;32mdef\u001b[0m \u001b[0mapplymap\u001b[0m\u001b[0;34m(\u001b[0m\u001b[0mself\u001b[0m\u001b[0;34m,\u001b[0m \u001b[0mfunc\u001b[0m\u001b[0;34m)\u001b[0m\u001b[0;34m:\u001b[0m\u001b[0;34m\u001b[0m\u001b[0;34m\u001b[0m\u001b[0m\n",
      "\u001b[0;32m/anaconda3/envs/metis/lib/python3.7/site-packages/pandas/core/apply.py\u001b[0m in \u001b[0;36mget_result\u001b[0;34m(self)\u001b[0m\n\u001b[1;32m    184\u001b[0m             \u001b[0;32mreturn\u001b[0m \u001b[0mself\u001b[0m\u001b[0;34m.\u001b[0m\u001b[0mapply_raw\u001b[0m\u001b[0;34m(\u001b[0m\u001b[0;34m)\u001b[0m\u001b[0;34m\u001b[0m\u001b[0;34m\u001b[0m\u001b[0m\n\u001b[1;32m    185\u001b[0m \u001b[0;34m\u001b[0m\u001b[0m\n\u001b[0;32m--> 186\u001b[0;31m         \u001b[0;32mreturn\u001b[0m \u001b[0mself\u001b[0m\u001b[0;34m.\u001b[0m\u001b[0mapply_standard\u001b[0m\u001b[0;34m(\u001b[0m\u001b[0;34m)\u001b[0m\u001b[0;34m\u001b[0m\u001b[0;34m\u001b[0m\u001b[0m\n\u001b[0m\u001b[1;32m    187\u001b[0m \u001b[0;34m\u001b[0m\u001b[0m\n\u001b[1;32m    188\u001b[0m     \u001b[0;32mdef\u001b[0m \u001b[0mapply_empty_result\u001b[0m\u001b[0;34m(\u001b[0m\u001b[0mself\u001b[0m\u001b[0;34m)\u001b[0m\u001b[0;34m:\u001b[0m\u001b[0;34m\u001b[0m\u001b[0;34m\u001b[0m\u001b[0m\n",
      "\u001b[0;32m/anaconda3/envs/metis/lib/python3.7/site-packages/pandas/core/apply.py\u001b[0m in \u001b[0;36mapply_standard\u001b[0;34m(self)\u001b[0m\n\u001b[1;32m    290\u001b[0m \u001b[0;34m\u001b[0m\u001b[0m\n\u001b[1;32m    291\u001b[0m         \u001b[0;31m# compute the result using the series generator\u001b[0m\u001b[0;34m\u001b[0m\u001b[0;34m\u001b[0m\u001b[0;34m\u001b[0m\u001b[0m\n\u001b[0;32m--> 292\u001b[0;31m         \u001b[0mself\u001b[0m\u001b[0;34m.\u001b[0m\u001b[0mapply_series_generator\u001b[0m\u001b[0;34m(\u001b[0m\u001b[0;34m)\u001b[0m\u001b[0;34m\u001b[0m\u001b[0;34m\u001b[0m\u001b[0m\n\u001b[0m\u001b[1;32m    293\u001b[0m \u001b[0;34m\u001b[0m\u001b[0m\n\u001b[1;32m    294\u001b[0m         \u001b[0;31m# wrap results\u001b[0m\u001b[0;34m\u001b[0m\u001b[0;34m\u001b[0m\u001b[0;34m\u001b[0m\u001b[0m\n",
      "\u001b[0;32m/anaconda3/envs/metis/lib/python3.7/site-packages/pandas/core/apply.py\u001b[0m in \u001b[0;36mapply_series_generator\u001b[0;34m(self)\u001b[0m\n\u001b[1;32m    319\u001b[0m             \u001b[0;32mtry\u001b[0m\u001b[0;34m:\u001b[0m\u001b[0;34m\u001b[0m\u001b[0;34m\u001b[0m\u001b[0m\n\u001b[1;32m    320\u001b[0m                 \u001b[0;32mfor\u001b[0m \u001b[0mi\u001b[0m\u001b[0;34m,\u001b[0m \u001b[0mv\u001b[0m \u001b[0;32min\u001b[0m \u001b[0menumerate\u001b[0m\u001b[0;34m(\u001b[0m\u001b[0mseries_gen\u001b[0m\u001b[0;34m)\u001b[0m\u001b[0;34m:\u001b[0m\u001b[0;34m\u001b[0m\u001b[0;34m\u001b[0m\u001b[0m\n\u001b[0;32m--> 321\u001b[0;31m                     \u001b[0mresults\u001b[0m\u001b[0;34m[\u001b[0m\u001b[0mi\u001b[0m\u001b[0;34m]\u001b[0m \u001b[0;34m=\u001b[0m \u001b[0mself\u001b[0m\u001b[0;34m.\u001b[0m\u001b[0mf\u001b[0m\u001b[0;34m(\u001b[0m\u001b[0mv\u001b[0m\u001b[0;34m)\u001b[0m\u001b[0;34m\u001b[0m\u001b[0;34m\u001b[0m\u001b[0m\n\u001b[0m\u001b[1;32m    322\u001b[0m                     \u001b[0mkeys\u001b[0m\u001b[0;34m.\u001b[0m\u001b[0mappend\u001b[0m\u001b[0;34m(\u001b[0m\u001b[0mv\u001b[0m\u001b[0;34m.\u001b[0m\u001b[0mname\u001b[0m\u001b[0;34m)\u001b[0m\u001b[0;34m\u001b[0m\u001b[0;34m\u001b[0m\u001b[0m\n\u001b[1;32m    323\u001b[0m             \u001b[0;32mexcept\u001b[0m \u001b[0mException\u001b[0m \u001b[0;32mas\u001b[0m \u001b[0me\u001b[0m\u001b[0;34m:\u001b[0m\u001b[0;34m\u001b[0m\u001b[0;34m\u001b[0m\u001b[0m\n",
      "\u001b[0;32m<ipython-input-191-6853b881d7f8>\u001b[0m in \u001b[0;36mclean_text\u001b[0;34m(s)\u001b[0m\n\u001b[1;32m      2\u001b[0m     \u001b[0;34m'''Function to clean up special chars from strings, and make lower case'''\u001b[0m\u001b[0;34m\u001b[0m\u001b[0;34m\u001b[0m\u001b[0m\n\u001b[1;32m      3\u001b[0m     \u001b[0;32mfor\u001b[0m \u001b[0mc\u001b[0m \u001b[0;32min\u001b[0m \u001b[0;34m[\u001b[0m\u001b[0;34m'{'\u001b[0m\u001b[0;34m,\u001b[0m\u001b[0;34m'}'\u001b[0m\u001b[0;34m,\u001b[0m \u001b[0;34m'!'\u001b[0m\u001b[0;34m,\u001b[0m\u001b[0;34m'\"'\u001b[0m\u001b[0;34m,\u001b[0m \u001b[0;34m\",\"\u001b[0m\u001b[0;34m,\u001b[0m \u001b[0;34m':'\u001b[0m\u001b[0;34m,\u001b[0m \u001b[0;34m'/'\u001b[0m\u001b[0;34m,\u001b[0m \u001b[0;34m\"&\"\u001b[0m\u001b[0;34m,\u001b[0m \u001b[0;34m\"-\"\u001b[0m\u001b[0;34m,\u001b[0m \u001b[0;34m\"(\"\u001b[0m\u001b[0;34m,\u001b[0m \u001b[0;34m\")\"\u001b[0m\u001b[0;34m,\u001b[0m \u001b[0;34m\".\"\u001b[0m\u001b[0;34m]\u001b[0m\u001b[0;34m:\u001b[0m\u001b[0;34m\u001b[0m\u001b[0;34m\u001b[0m\u001b[0m\n\u001b[0;32m----> 4\u001b[0;31m         \u001b[0ms\u001b[0m\u001b[0;34m=\u001b[0m\u001b[0ms\u001b[0m\u001b[0;34m.\u001b[0m\u001b[0mreplace\u001b[0m\u001b[0;34m(\u001b[0m\u001b[0mc\u001b[0m\u001b[0;34m,\u001b[0m\u001b[0;34m''\u001b[0m\u001b[0;34m)\u001b[0m\u001b[0;34m.\u001b[0m\u001b[0mlower\u001b[0m\u001b[0;34m(\u001b[0m\u001b[0;34m)\u001b[0m\u001b[0;34m\u001b[0m\u001b[0;34m\u001b[0m\u001b[0m\n\u001b[0m\u001b[1;32m      5\u001b[0m     \u001b[0;32mreturn\u001b[0m \u001b[0ms\u001b[0m\u001b[0;34m.\u001b[0m\u001b[0msplit\u001b[0m\u001b[0;34m(\u001b[0m\u001b[0;34m' '\u001b[0m\u001b[0;34m)\u001b[0m\u001b[0;34m\u001b[0m\u001b[0;34m\u001b[0m\u001b[0m\n",
      "\u001b[0;32m/anaconda3/envs/metis/lib/python3.7/site-packages/pandas/core/generic.py\u001b[0m in \u001b[0;36m__getattr__\u001b[0;34m(self, name)\u001b[0m\n\u001b[1;32m   5177\u001b[0m             \u001b[0;32mif\u001b[0m \u001b[0mself\u001b[0m\u001b[0;34m.\u001b[0m\u001b[0m_info_axis\u001b[0m\u001b[0;34m.\u001b[0m\u001b[0m_can_hold_identifiers_and_holds_name\u001b[0m\u001b[0;34m(\u001b[0m\u001b[0mname\u001b[0m\u001b[0;34m)\u001b[0m\u001b[0;34m:\u001b[0m\u001b[0;34m\u001b[0m\u001b[0;34m\u001b[0m\u001b[0m\n\u001b[1;32m   5178\u001b[0m                 \u001b[0;32mreturn\u001b[0m \u001b[0mself\u001b[0m\u001b[0;34m[\u001b[0m\u001b[0mname\u001b[0m\u001b[0;34m]\u001b[0m\u001b[0;34m\u001b[0m\u001b[0;34m\u001b[0m\u001b[0m\n\u001b[0;32m-> 5179\u001b[0;31m             \u001b[0;32mreturn\u001b[0m \u001b[0mobject\u001b[0m\u001b[0;34m.\u001b[0m\u001b[0m__getattribute__\u001b[0m\u001b[0;34m(\u001b[0m\u001b[0mself\u001b[0m\u001b[0;34m,\u001b[0m \u001b[0mname\u001b[0m\u001b[0;34m)\u001b[0m\u001b[0;34m\u001b[0m\u001b[0;34m\u001b[0m\u001b[0m\n\u001b[0m\u001b[1;32m   5180\u001b[0m \u001b[0;34m\u001b[0m\u001b[0m\n\u001b[1;32m   5181\u001b[0m     \u001b[0;32mdef\u001b[0m \u001b[0m__setattr__\u001b[0m\u001b[0;34m(\u001b[0m\u001b[0mself\u001b[0m\u001b[0;34m,\u001b[0m \u001b[0mname\u001b[0m\u001b[0;34m,\u001b[0m \u001b[0mvalue\u001b[0m\u001b[0;34m)\u001b[0m\u001b[0;34m:\u001b[0m\u001b[0;34m\u001b[0m\u001b[0;34m\u001b[0m\u001b[0m\n",
      "\u001b[0;31mAttributeError\u001b[0m: (\"'Series' object has no attribute 'lower'\", 'occurred at index id')"
     ]
    }
   ],
   "source": [
    "test_df2.apply(clean_text)"
   ]
  },
  {
   "cell_type": "code",
   "execution_count": 153,
   "metadata": {},
   "outputs": [],
   "source": [
    "test_df2['test_counter_valence'] = test_df2['description'].apply(valence_count)"
   ]
  },
  {
   "cell_type": "code",
   "execution_count": 154,
   "metadata": {},
   "outputs": [
    {
     "data": {
      "text/plain": [
       "0     0\n",
       "1     0\n",
       "2     0\n",
       "3     0\n",
       "4     0\n",
       "5     0\n",
       "6     0\n",
       "7     0\n",
       "8     0\n",
       "9     0\n",
       "10    0\n",
       "11    0\n",
       "12    0\n",
       "13    0\n",
       "14    0\n",
       "15    0\n",
       "16    0\n",
       "17    0\n",
       "18    0\n",
       "19    0\n",
       "Name: test_counter_valence, dtype: int64"
      ]
     },
     "execution_count": 154,
     "metadata": {},
     "output_type": "execute_result"
    }
   ],
   "source": [
    "test_df2['test_counter_valence']"
   ]
  },
  {
   "cell_type": "code",
   "execution_count": 22,
   "metadata": {
    "collapsed": true
   },
   "outputs": [
    {
     "data": {
      "text/plain": [
       "0     {\"Wireless Internet\",\"Air conditioning\",Kitche...\n",
       "1     {\"Wireless Internet\",\"Air conditioning\",Kitche...\n",
       "2     {TV,\"Cable TV\",\"Wireless Internet\",\"Air condit...\n",
       "3     {TV,\"Cable TV\",Internet,\"Wireless Internet\",Ki...\n",
       "4     {TV,Internet,\"Wireless Internet\",\"Air conditio...\n",
       "5     {TV,\"Wireless Internet\",Heating,\"Smoke detecto...\n",
       "6     {TV,Internet,\"Wireless Internet\",\"Air conditio...\n",
       "7     {TV,\"Cable TV\",\"Wireless Internet\",\"Wheelchair...\n",
       "8     {TV,\"Cable TV\",\"Wireless Internet\",\"Pets live ...\n",
       "9     {\"Wireless Internet\",\"Air conditioning\",Kitche...\n",
       "10    {Internet,\"Wireless Internet\",\"Air conditionin...\n",
       "11    {TV,\"Cable TV\",Internet,\"Wireless Internet\",Ki...\n",
       "12    {TV,Internet,\"Wireless Internet\",Kitchen,\"Free...\n",
       "13    {TV,\"Cable TV\",Internet,\"Wireless Internet\",\"A...\n",
       "14    {Kitchen,Heating,\"Smoke detector\",\"Carbon mono...\n",
       "15    {Internet,\"Wireless Internet\",\"Air conditionin...\n",
       "16    {TV,\"Wireless Internet\",Kitchen,\"Pets allowed\"...\n",
       "17    {Internet,\"Wireless Internet\",\"Air conditionin...\n",
       "18    {TV,\"Cable TV\",Internet,\"Wireless Internet\",\"A...\n",
       "19    {TV,\"Wireless Internet\",\"Air conditioning\",Kit...\n",
       "Name: amenities, dtype: object"
      ]
     },
     "execution_count": 22,
     "metadata": {},
     "output_type": "execute_result"
    }
   ],
   "source": [
    "test_df2['amenities']"
   ]
  },
  {
   "cell_type": "code",
   "execution_count": 15,
   "metadata": {},
   "outputs": [],
   "source": [
    "def amenity_count(amenities):\n",
    "\n",
    "    if amenities.split(',')[-1] == '\"translation missing: en.hosting_amenity_50\"}':\n",
    "        tmp = amenities.split(',')\n",
    "        del tmp[-1]\n",
    "    else:\n",
    "        tmp = amenities.split(',')\n",
    "    return len(tmp)"
   ]
  },
  {
   "cell_type": "code",
   "execution_count": 19,
   "metadata": {},
   "outputs": [],
   "source": [
    "test_df2['test_count_am'] = test_df2['amenities'].apply(amenity_count)"
   ]
  },
  {
   "cell_type": "code",
   "execution_count": 20,
   "metadata": {},
   "outputs": [
    {
     "data": {
      "text/plain": [
       "0      8\n",
       "1     14\n",
       "2     18\n",
       "3     15\n",
       "4     12\n",
       "5     10\n",
       "6     21\n",
       "7     26\n",
       "8     21\n",
       "9     12\n",
       "10    14\n",
       "11    22\n",
       "12    17\n",
       "13    25\n",
       "14     6\n",
       "15    12\n",
       "16    17\n",
       "17    18\n",
       "18    18\n",
       "19    24\n",
       "Name: test_count_am, dtype: int64"
      ]
     },
     "execution_count": 20,
     "metadata": {},
     "output_type": "execute_result"
    }
   ],
   "source": [
    "test_df2['test_count_am']"
   ]
  },
  {
   "cell_type": "code",
   "execution_count": 26,
   "metadata": {},
   "outputs": [
    {
     "data": {
      "text/plain": [
       "9"
      ]
     },
     "execution_count": 26,
     "metadata": {},
     "output_type": "execute_result"
    }
   ],
   "source": [
    "len(test_df2['amenities'][0].split(','))"
   ]
  },
  {
   "cell_type": "code",
   "execution_count": 28,
   "metadata": {},
   "outputs": [
    {
     "data": {
      "text/plain": [
       "['{\"Wireless Internet\"',\n",
       " '\"Air conditioning\"',\n",
       " 'Kitchen',\n",
       " 'Heating',\n",
       " '\"Family/kid friendly\"',\n",
       " 'Washer',\n",
       " 'Dryer',\n",
       " '\"Smoke detector\"',\n",
       " '\"Fire extinguisher\"',\n",
       " 'Essentials',\n",
       " 'Shampoo',\n",
       " 'Hangers',\n",
       " '\"Hair dryer\"',\n",
       " 'Iron',\n",
       " '\"translation missing: en.hosting_amenity_50\"}']"
      ]
     },
     "execution_count": 28,
     "metadata": {},
     "output_type": "execute_result"
    }
   ],
   "source": [
    "test_df2['amenities'][1].split(',')"
   ]
  },
  {
   "cell_type": "code",
   "execution_count": 183,
   "metadata": {
    "collapsed": true
   },
   "outputs": [
    {
     "name": "stdout",
     "output_type": "stream",
     "text": [
      "<class 'tuple'>\n",
      "<class 'tuple'>\n",
      "<class 'tuple'>\n",
      "<class 'tuple'>\n",
      "<class 'tuple'>\n",
      "<class 'tuple'>\n",
      "<class 'tuple'>\n",
      "<class 'tuple'>\n",
      "<class 'tuple'>\n",
      "<class 'tuple'>\n",
      "<class 'tuple'>\n",
      "<class 'tuple'>\n",
      "<class 'tuple'>\n",
      "<class 'tuple'>\n",
      "<class 'tuple'>\n",
      "<class 'tuple'>\n",
      "<class 'tuple'>\n",
      "<class 'tuple'>\n",
      "<class 'tuple'>\n",
      "<class 'tuple'>\n",
      "0\n"
     ]
    }
   ],
   "source": [
    "# pos_count = 0\n",
    "# neg_count = 0\n",
    "# #words = test_df2['description'].iteritems()\n",
    "# for word in words: # words = description so need to make this iterate\n",
    "#     print(type(word))\n",
    "#     num_pos_matches = pos_valence_data[pos_valence_data['Positive Words'] == word].shape[0]\n",
    "#     if num_pos_matches > 0:\n",
    "#         pos_count += 1\n",
    "#     num_neg_matches = neg_valence_data[neg_valence_data['Negative Words'] == word].shape[0]\n",
    "#     if num_neg_matches > 0:\n",
    "#         neg_count += 1\n",
    "# total_count = pos_count - neg_count\n",
    "# print(total_count)"
   ]
  },
  {
   "cell_type": "code",
   "execution_count": 29,
   "metadata": {},
   "outputs": [
    {
     "data": {
      "text/plain": [
       "15"
      ]
     },
     "execution_count": 29,
     "metadata": {},
     "output_type": "execute_result"
    }
   ],
   "source": [
    "len(test_df2['amenities'][1].split(','))"
   ]
  },
  {
   "cell_type": "code",
   "execution_count": 33,
   "metadata": {},
   "outputs": [],
   "source": [
    "test_df2.description = test_df2.description.str.lower()"
   ]
  },
  {
   "cell_type": "code",
   "execution_count": 35,
   "metadata": {},
   "outputs": [
    {
     "data": {
      "text/plain": [
       "\"enjoy travelling during your stay in manhattan. my place is centrally located near times square and central park with easy access to main subways as well as walking distance to many popular restaurants and bus tours. my place is close to the subway, totto ramen, hell's kitchen, ippudo westside, empanada mama, intrepid sea, air & space museum. my place has three true bedrooms and one bathroom. the kitchen is stocked with stainless steel appliances like the keurig machine. the living room is spacious and can accommodate another person thanks to the pull out bed. my place is centrally located to some of the top attractions in the city. feel free to explore the entire apartment and do not worry about sharing the space with any strangers. this is all yours during your stay. i am available via text/email/phone for anything you might need. - times square - rockefeller plaza - central park  - 5th avenue shopping  -broadway theater district  - empire state building  - hudson river express subwa\""
      ]
     },
     "execution_count": 35,
     "metadata": {},
     "output_type": "execute_result"
    }
   ],
   "source": [
    "test_df2['description'][1]"
   ]
  },
  {
   "cell_type": "code",
   "execution_count": 73,
   "metadata": {},
   "outputs": [],
   "source": [
    "wiki_url = 'https://en.wikipedia.org/wiki/Tourism_in_New_York_City'"
   ]
  },
  {
   "cell_type": "code",
   "execution_count": 74,
   "metadata": {},
   "outputs": [],
   "source": [
    "tables_pd = pd.read_html(wiki_url)"
   ]
  },
  {
   "cell_type": "code",
   "execution_count": 198,
   "metadata": {},
   "outputs": [],
   "source": [
    "tourist_dest = tables_pd[1]"
   ]
  },
  {
   "cell_type": "code",
   "execution_count": 199,
   "metadata": {},
   "outputs": [],
   "source": [
    "#tourist_dest"
   ]
  },
  {
   "cell_type": "markdown",
   "metadata": {},
   "source": [
    "# Function to count and tally number of mentions of top tourism dests in NYC"
   ]
  },
  {
   "cell_type": "code",
   "execution_count": 113,
   "metadata": {},
   "outputs": [],
   "source": [
    "def count_tourism_mentions(description_column):\n",
    "    '''Search description column for mentions of top tourism locations in NY.\\\n",
    "    Data for tourist dests taken from scraped wiki table. Assumes description col of main df\\\n",
    "    has been made lower().'''\n",
    "    tourism_mentions = 0\n",
    "    for x in tourist_dest.Name.str.lower(): # search tourist dest df\n",
    "        if description_column.__contains__(x):\n",
    "            tourism_mentions += 1\n",
    "    test_df2['tourism_mentions'] = tourism_mentions\n",
    "            #tourism_mentions += 1\n",
    "    return tourism_mentions"
   ]
  },
  {
   "cell_type": "code",
   "execution_count": 215,
   "metadata": {},
   "outputs": [
    {
     "name": "stdout",
     "output_type": "stream",
     "text": [
      "yes\n",
      "yes\n",
      "yes\n"
     ]
    }
   ],
   "source": [
    "for x in tourist_dest.Name.str.lower():\n",
    "    #print(x)\n",
    "    if test_df2.description[1].__contains__(x):\n",
    "        print('yes')\n",
    "    "
   ]
  },
  {
   "cell_type": "code",
   "execution_count": 210,
   "metadata": {},
   "outputs": [],
   "source": [
    "test_df2.description = test_df2.description.str.lower()"
   ]
  },
  {
   "cell_type": "code",
   "execution_count": 211,
   "metadata": {},
   "outputs": [
    {
     "data": {
      "text/plain": [
       "True"
      ]
     },
     "execution_count": 211,
     "metadata": {},
     "output_type": "execute_result"
    }
   ],
   "source": [
    "test_df2.description[1].__contains__('times square')"
   ]
  },
  {
   "cell_type": "code",
   "execution_count": 212,
   "metadata": {},
   "outputs": [
    {
     "data": {
      "text/plain": [
       "\"enjoy travelling during your stay in manhattan. my place is centrally located near times square and central park with easy access to main subways as well as walking distance to many popular restaurants and bus tours. my place is close to the subway, totto ramen, hell's kitchen, ippudo westside, empanada mama, intrepid sea, air & space museum. my place has three true bedrooms and one bathroom. the kitchen is stocked with stainless steel appliances like the keurig machine. the living room is spacious and can accommodate another person thanks to the pull out bed. my place is centrally located to some of the top attractions in the city. feel free to explore the entire apartment and do not worry about sharing the space with any strangers. this is all yours during your stay. i am available via text/email/phone for anything you might need. - times square - rockefeller plaza - central park  - 5th avenue shopping  -broadway theater district  - empire state building  - hudson river express subwa\""
      ]
     },
     "execution_count": 212,
     "metadata": {},
     "output_type": "execute_result"
    }
   ],
   "source": [
    "test_df2.description[1]"
   ]
  },
  {
   "cell_type": "code",
   "execution_count": null,
   "metadata": {},
   "outputs": [],
   "source": []
  }
 ],
 "metadata": {
  "kernelspec": {
   "display_name": "Python [conda env:metis] *",
   "language": "python",
   "name": "conda-env-metis-py"
  },
  "language_info": {
   "codemirror_mode": {
    "name": "ipython",
    "version": 3
   },
   "file_extension": ".py",
   "mimetype": "text/x-python",
   "name": "python",
   "nbconvert_exporter": "python",
   "pygments_lexer": "ipython3",
   "version": "3.7.4"
  }
 },
 "nbformat": 4,
 "nbformat_minor": 2
}
