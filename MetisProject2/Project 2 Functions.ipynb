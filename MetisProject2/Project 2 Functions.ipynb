{
 "cells": [
  {
   "cell_type": "raw",
   "metadata": {},
   "source": [
    "Compiled notebook of functions used for this project"
   ]
  },
  {
   "cell_type": "markdown",
   "metadata": {},
   "source": [
    "# Clean text (used for 'description')"
   ]
  },
  {
   "cell_type": "code",
   "execution_count": 1,
   "metadata": {},
   "outputs": [],
   "source": [
    "def clean_text(s):\n",
    "    '''Function to clean up special chars from strings, and make lower case'''\n",
    "    for c in ['{','}', '!','\"', \",\", ':', '/', \"&\", \"-\", \"(\", \")\", \".\"]:\n",
    "        s=s.replace(c,'').lower()\n",
    "    return s.split(' ')"
   ]
  },
  {
   "cell_type": "markdown",
   "metadata": {},
   "source": [
    "# Valence count (used to get valence score on 'description' col"
   ]
  },
  {
   "cell_type": "code",
   "execution_count": 3,
   "metadata": {},
   "outputs": [],
   "source": [
    "def valence_count(description_column):\n",
    "    '''Get valence count (how positive) for the descriptions the hosts write. This works by matching\\\n",
    "    the words in the description to online lists of pos/neg valence words'''\n",
    "    pos_count = 0\n",
    "    neg_count = 0\n",
    "    #words = df['description'].iteritems()\n",
    "    for word in description_column: # words = description so need to make this iterate\n",
    "        num_pos_matches = pos_valence_data[pos_valence_data['Positive Words'] == word].shape[0]\n",
    "        if num_pos_matches > 0:\n",
    "            pos_count += 1\n",
    "        num_neg_matches = neg_valence_data[neg_valence_data['Negative Words'] == word].shape[0]\n",
    "        if num_neg_matches > 0:\n",
    "            neg_count += 1\n",
    "    total_count = pos_count - neg_count\n",
    "    return total_count"
   ]
  },
  {
   "cell_type": "markdown",
   "metadata": {},
   "source": [
    "# Convert 't' and 'f' strings to true Bools"
   ]
  },
  {
   "cell_type": "code",
   "execution_count": 4,
   "metadata": {},
   "outputs": [],
   "source": [
    "def str_to_bool(s):\n",
    "    if s=='t':\n",
    "        return True\n",
    "    else: \n",
    "        return False"
   ]
  },
  {
   "cell_type": "markdown",
   "metadata": {},
   "source": [
    "# Get length of amenities, but remove the weird translation error string"
   ]
  },
  {
   "cell_type": "code",
   "execution_count": 6,
   "metadata": {},
   "outputs": [],
   "source": [
    "def amenity_count(amenities):\n",
    "    '''Clean up amenities (remove below string), then count. This does not change the\\\n",
    "amenities column in place, but rather a tmp list, then counts length of temp list'''\n",
    "\n",
    "    if amenities.split(',')[-1] == '\"translation missing: en.hosting_amenity_50\"}':\n",
    "        tmp = amenities.split(',')\n",
    "        del tmp[-1]\n",
    "    else:\n",
    "        tmp = amenities.split(',')\n",
    "    return len(tmp)"
   ]
  },
  {
   "cell_type": "markdown",
   "metadata": {},
   "source": [
    "# Function to count and tally number of mentions of top tourism dests in NYC"
   ]
  },
  {
   "cell_type": "code",
   "execution_count": 9,
   "metadata": {},
   "outputs": [],
   "source": [
    "def count_tourism_mentions(description_column):\n",
    "    '''Search description column for mentions of top tourism locations in NY.\\\n",
    "    Data for tourist dests taken from scraped wiki table. Assumes description col of main df\\\n",
    "    has been made lower(). HOWEVER THIS DOES NOT WORK IF clean_txt function has been applied-- which\\\n",
    "    makes the desc into a list. This only works if desc is a string. Must run before valence count fx\\\n",
    "    which relies on it being a list'''\n",
    "    tourism_mentions = 0\n",
    "    for x in tourist_dest.Name.str.lower(): # search tourist dest df\n",
    "        if description_column.__contains__(x):\n",
    "            tourism_mentions += 1\n",
    "    nyc_df['tourism_mentions'] = tourism_mentions\n",
    "    return tourism_mentions"
   ]
  },
  {
   "cell_type": "markdown",
   "metadata": {},
   "source": [
    "# Small helper/cleaner functions"
   ]
  },
  {
   "cell_type": "code",
   "execution_count": 10,
   "metadata": {},
   "outputs": [],
   "source": [
    "def str_to_bool(s):\n",
    "    if s=='t':\n",
    "        return True\n",
    "    else: \n",
    "        return False"
   ]
  },
  {
   "cell_type": "code",
   "execution_count": 12,
   "metadata": {},
   "outputs": [],
   "source": [
    "def str_to_rate(s):\n",
    "    if pd.isnull(s) == False:\n",
    "        return float(s.replace('%', ''))\n",
    "    else:\n",
    "        return s"
   ]
  },
  {
   "cell_type": "code",
   "execution_count": null,
   "metadata": {},
   "outputs": [],
   "source": []
  }
 ],
 "metadata": {
  "kernelspec": {
   "display_name": "Python 3",
   "language": "python",
   "name": "python3"
  },
  "language_info": {
   "codemirror_mode": {
    "name": "ipython",
    "version": 3
   },
   "file_extension": ".py",
   "mimetype": "text/x-python",
   "name": "python",
   "nbconvert_exporter": "python",
   "pygments_lexer": "ipython3",
   "version": "3.7.3"
  },
  "toc": {
   "base_numbering": 1,
   "nav_menu": {},
   "number_sections": true,
   "sideBar": true,
   "skip_h1_title": false,
   "title_cell": "Table of Contents",
   "title_sidebar": "Contents",
   "toc_cell": false,
   "toc_position": {},
   "toc_section_display": true,
   "toc_window_display": false
  }
 },
 "nbformat": 4,
 "nbformat_minor": 2
}
